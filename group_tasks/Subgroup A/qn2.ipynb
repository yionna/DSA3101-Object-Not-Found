{
 "cells": [
  {
   "cell_type": "code",
   "execution_count": 2,
   "id": "92a8be32-3a3d-4371-8244-73b6bdaa6d74",
   "metadata": {},
   "outputs": [],
   "source": [
    "import pandas as pd\n",
    "import numpy as np\n",
    "from sklearn.cluster import KMeans\n",
    "from sklearn.preprocessing import MinMaxScaler, LabelEncoder\n",
    "import matplotlib.pyplot as plt\n",
    "import seaborn as sns\n",
    "from scipy.stats import norm\n",
    "from sklearn.model_selection import train_test_split\n",
    "from sklearn.preprocessing import StandardScaler\n",
    "from sklearn.ensemble import RandomForestClassifier"
   ]
  },
  {
   "cell_type": "code",
   "execution_count": 4,
   "id": "d79d34d9-a64e-4aaa-ae88-9f6e1153f272",
   "metadata": {},
   "outputs": [],
   "source": [
    "original = pd.read_csv(\"../../data/processed/original (3).csv\")\n",
    "final_df = pd.read_csv(\"../../data/processed/banking_behaviour_preference.csv\")"
   ]
  },
  {
   "cell_type": "markdown",
   "id": "c409c425-eb65-41b0-92f3-533f8891dbfb",
   "metadata": {},
   "source": [
    "## 2. What are the key factors influencing customer engagement with our marketing campaigns?\n",
    "### Analyze historical campaign data to identify main drivers of engagement."
   ]
  },
  {
   "cell_type": "code",
   "execution_count": 7,
   "id": "8936cf85-48ef-40fb-9cf1-3dd025050d74",
   "metadata": {},
   "outputs": [],
   "source": [
    "# merging final_df and original\n",
    "# common columnns:\n",
    "cols = ['CLIENTNUM', 'Income_Category', 'No_of_product', 'Total_Trans_Amt', 'Total_Trans_Count']\n",
    "original = original.merge(final_df, on = cols, how = 'inner')"
   ]
  },
  {
   "cell_type": "code",
   "execution_count": 9,
   "id": "498c2262-40fa-4b85-b864-19c6969e1023",
   "metadata": {},
   "outputs": [
    {
     "name": "stdout",
     "output_type": "stream",
     "text": [
      "Success Rate: 12.41%\n",
      "Failure Rate: 87.59%\n"
     ]
    }
   ],
   "source": [
    "outcome_counts = original['Outcome'].value_counts(normalize = True) * 100\n",
    "\n",
    "success_percentage = outcome_counts.get(1, 0)\n",
    "failure_percentage = outcome_counts.get(0, 0)\n",
    "\n",
    "# Display the percentages\n",
    "print(f\"Success Rate: {success_percentage:.2f}%\")\n",
    "print(f\"Failure Rate: {failure_percentage:.2f}%\")"
   ]
  },
  {
   "cell_type": "code",
   "execution_count": 11,
   "id": "6a0b34d0-a4d3-42de-86c3-a10b1b3a2580",
   "metadata": {},
   "outputs": [
    {
     "data": {
      "text/html": [
       "<div>\n",
       "<style scoped>\n",
       "    .dataframe tbody tr th:only-of-type {\n",
       "        vertical-align: middle;\n",
       "    }\n",
       "\n",
       "    .dataframe tbody tr th {\n",
       "        vertical-align: top;\n",
       "    }\n",
       "\n",
       "    .dataframe thead th {\n",
       "        text-align: right;\n",
       "    }\n",
       "</style>\n",
       "<table border=\"1\" class=\"dataframe\">\n",
       "  <thead>\n",
       "    <tr style=\"text-align: right;\">\n",
       "      <th></th>\n",
       "      <th>Duration_of_Contact</th>\n",
       "      <th>Num_of_Contacts_Made</th>\n",
       "      <th>Outcome</th>\n",
       "    </tr>\n",
       "  </thead>\n",
       "  <tbody>\n",
       "    <tr>\n",
       "      <th>Duration_of_Contact</th>\n",
       "      <td>1.000000</td>\n",
       "      <td>0.176521</td>\n",
       "      <td>0.032574</td>\n",
       "    </tr>\n",
       "    <tr>\n",
       "      <th>Num_of_Contacts_Made</th>\n",
       "      <td>0.176521</td>\n",
       "      <td>1.000000</td>\n",
       "      <td>0.089107</td>\n",
       "    </tr>\n",
       "    <tr>\n",
       "      <th>Outcome</th>\n",
       "      <td>0.032574</td>\n",
       "      <td>0.089107</td>\n",
       "      <td>1.000000</td>\n",
       "    </tr>\n",
       "  </tbody>\n",
       "</table>\n",
       "</div>"
      ],
      "text/plain": [
       "                      Duration_of_Contact  Num_of_Contacts_Made   Outcome\n",
       "Duration_of_Contact              1.000000              0.176521  0.032574\n",
       "Num_of_Contacts_Made             0.176521              1.000000  0.089107\n",
       "Outcome                          0.032574              0.089107  1.000000"
      ]
     },
     "execution_count": 11,
     "metadata": {},
     "output_type": "execute_result"
    }
   ],
   "source": [
    "ori = original.copy()\n",
    "cols_to_std = ['Duration_of_Contact', 'Num_of_Contacts_Made', 'Outcome']\n",
    "ori[cols_to_std] = (ori[cols_to_std] - ori[cols_to_std].mean()) / ori[cols_to_std].std()\n",
    "ori[['Duration_of_Contact', 'Num_of_Contacts_Made', 'Outcome']].corr()"
   ]
  },
  {
   "cell_type": "markdown",
   "id": "a1108590-f532-4c32-8885-d7f781b6d88a",
   "metadata": {},
   "source": [
    "The correlation matrix does not show high correlation between Outcome and any other variable. The highest positive correlation is between Outcome and Number of Contacts Made.\n",
    "\n",
    "All the correlations are positive which means an increase in the duration of the contact or number of contacts made could result in an increase in outcome.\n",
    "\n",
    "The reasons why the correlations are so low is because the number of successful campaigns is low.\n",
    "\n",
    "I made a heatmap to observe the correlation of `Outcome` with other features did not manage to show any useful correlations. Hence, I will try to use the Random Forest Classifier to try to find the most important features."
   ]
  },
  {
   "cell_type": "code",
   "execution_count": 35,
   "id": "46d9bbed-a130-49e7-9147-2e0f171d1426",
   "metadata": {},
   "outputs": [
    {
     "data": {
      "text/html": [
       "<style>#sk-container-id-3 {color: black;}#sk-container-id-3 pre{padding: 0;}#sk-container-id-3 div.sk-toggleable {background-color: white;}#sk-container-id-3 label.sk-toggleable__label {cursor: pointer;display: block;width: 100%;margin-bottom: 0;padding: 0.3em;box-sizing: border-box;text-align: center;}#sk-container-id-3 label.sk-toggleable__label-arrow:before {content: \"▸\";float: left;margin-right: 0.25em;color: #696969;}#sk-container-id-3 label.sk-toggleable__label-arrow:hover:before {color: black;}#sk-container-id-3 div.sk-estimator:hover label.sk-toggleable__label-arrow:before {color: black;}#sk-container-id-3 div.sk-toggleable__content {max-height: 0;max-width: 0;overflow: hidden;text-align: left;background-color: #f0f8ff;}#sk-container-id-3 div.sk-toggleable__content pre {margin: 0.2em;color: black;border-radius: 0.25em;background-color: #f0f8ff;}#sk-container-id-3 input.sk-toggleable__control:checked~div.sk-toggleable__content {max-height: 200px;max-width: 100%;overflow: auto;}#sk-container-id-3 input.sk-toggleable__control:checked~label.sk-toggleable__label-arrow:before {content: \"▾\";}#sk-container-id-3 div.sk-estimator input.sk-toggleable__control:checked~label.sk-toggleable__label {background-color: #d4ebff;}#sk-container-id-3 div.sk-label input.sk-toggleable__control:checked~label.sk-toggleable__label {background-color: #d4ebff;}#sk-container-id-3 input.sk-hidden--visually {border: 0;clip: rect(1px 1px 1px 1px);clip: rect(1px, 1px, 1px, 1px);height: 1px;margin: -1px;overflow: hidden;padding: 0;position: absolute;width: 1px;}#sk-container-id-3 div.sk-estimator {font-family: monospace;background-color: #f0f8ff;border: 1px dotted black;border-radius: 0.25em;box-sizing: border-box;margin-bottom: 0.5em;}#sk-container-id-3 div.sk-estimator:hover {background-color: #d4ebff;}#sk-container-id-3 div.sk-parallel-item::after {content: \"\";width: 100%;border-bottom: 1px solid gray;flex-grow: 1;}#sk-container-id-3 div.sk-label:hover label.sk-toggleable__label {background-color: #d4ebff;}#sk-container-id-3 div.sk-serial::before {content: \"\";position: absolute;border-left: 1px solid gray;box-sizing: border-box;top: 0;bottom: 0;left: 50%;z-index: 0;}#sk-container-id-3 div.sk-serial {display: flex;flex-direction: column;align-items: center;background-color: white;padding-right: 0.2em;padding-left: 0.2em;position: relative;}#sk-container-id-3 div.sk-item {position: relative;z-index: 1;}#sk-container-id-3 div.sk-parallel {display: flex;align-items: stretch;justify-content: center;background-color: white;position: relative;}#sk-container-id-3 div.sk-item::before, #sk-container-id-3 div.sk-parallel-item::before {content: \"\";position: absolute;border-left: 1px solid gray;box-sizing: border-box;top: 0;bottom: 0;left: 50%;z-index: -1;}#sk-container-id-3 div.sk-parallel-item {display: flex;flex-direction: column;z-index: 1;position: relative;background-color: white;}#sk-container-id-3 div.sk-parallel-item:first-child::after {align-self: flex-end;width: 50%;}#sk-container-id-3 div.sk-parallel-item:last-child::after {align-self: flex-start;width: 50%;}#sk-container-id-3 div.sk-parallel-item:only-child::after {width: 0;}#sk-container-id-3 div.sk-dashed-wrapped {border: 1px dashed gray;margin: 0 0.4em 0.5em 0.4em;box-sizing: border-box;padding-bottom: 0.4em;background-color: white;}#sk-container-id-3 div.sk-label label {font-family: monospace;font-weight: bold;display: inline-block;line-height: 1.2em;}#sk-container-id-3 div.sk-label-container {text-align: center;}#sk-container-id-3 div.sk-container {/* jupyter's `normalize.less` sets `[hidden] { display: none; }` but bootstrap.min.css set `[hidden] { display: none !important; }` so we also need the `!important` here to be able to override the default hidden behavior on the sphinx rendered scikit-learn.org. See: https://github.com/scikit-learn/scikit-learn/issues/21755 */display: inline-block !important;position: relative;}#sk-container-id-3 div.sk-text-repr-fallback {display: none;}</style><div id=\"sk-container-id-3\" class=\"sk-top-container\"><div class=\"sk-text-repr-fallback\"><pre>RandomForestClassifier(class_weight=&#x27;balanced&#x27;, random_state=1)</pre><b>In a Jupyter environment, please rerun this cell to show the HTML representation or trust the notebook. <br />On GitHub, the HTML representation is unable to render, please try loading this page with nbviewer.org.</b></div><div class=\"sk-container\" hidden><div class=\"sk-item\"><div class=\"sk-estimator sk-toggleable\"><input class=\"sk-toggleable__control sk-hidden--visually\" id=\"sk-estimator-id-3\" type=\"checkbox\" checked><label for=\"sk-estimator-id-3\" class=\"sk-toggleable__label sk-toggleable__label-arrow\">RandomForestClassifier</label><div class=\"sk-toggleable__content\"><pre>RandomForestClassifier(class_weight=&#x27;balanced&#x27;, random_state=1)</pre></div></div></div></div></div>"
      ],
      "text/plain": [
       "RandomForestClassifier(class_weight='balanced', random_state=1)"
      ]
     },
     "execution_count": 35,
     "metadata": {},
     "output_type": "execute_result"
    }
   ],
   "source": [
    "X = ori[['Last_Contacted', 'Num_of_Contacts_Made', 'Months_Inactive_12_mon', 'Customer_Age', \n",
    "         'Total_Trans_Count', 'Total_Trans_Amt', 'Savings', 'Credit Score', \n",
    "         'Outstanding Loans', 'Balance'] + \n",
    "        [col for col in ori.columns if 'Education_Level_' in col or \n",
    "                                       'Income_Category_' in col or \n",
    "                                       'Card_Category_' in col]]\n",
    "\n",
    "y = ori['Outcome']\n",
    "y = (y >= 1).astype(int)\n",
    "\n",
    "# splitting the data into training and test\n",
    "## training data size: 80%; test data size: 20%\n",
    "X_train, X_test, y_train, y_test = train_test_split(X, y, test_size = 0.2, random_state = 1)\n",
    "\n",
    "# scaling the features\n",
    "scaler = StandardScaler()\n",
    "X_train_scaled = scaler.fit_transform(X_train)\n",
    "X_test_scaled = scaler.transform(X_test)\n",
    "\n",
    "# fitting the model\n",
    "rf_model = RandomForestClassifier(n_estimators = 100, random_state = 1, class_weight='balanced')\n",
    "rf_model.fit(X_train_scaled, y_train)"
   ]
  },
  {
   "cell_type": "code",
   "execution_count": 36,
   "id": "2b8d6547-4111-49ad-acd7-50afabe18a2e",
   "metadata": {},
   "outputs": [
    {
     "data": {
      "text/html": [
       "<div>\n",
       "<style scoped>\n",
       "    .dataframe tbody tr th:only-of-type {\n",
       "        vertical-align: middle;\n",
       "    }\n",
       "\n",
       "    .dataframe tbody tr th {\n",
       "        vertical-align: top;\n",
       "    }\n",
       "\n",
       "    .dataframe thead th {\n",
       "        text-align: right;\n",
       "    }\n",
       "</style>\n",
       "<table border=\"1\" class=\"dataframe\">\n",
       "  <thead>\n",
       "    <tr style=\"text-align: right;\">\n",
       "      <th></th>\n",
       "      <th>Importance</th>\n",
       "    </tr>\n",
       "  </thead>\n",
       "  <tbody>\n",
       "    <tr>\n",
       "      <th>Customer_Age</th>\n",
       "      <td>0.132377</td>\n",
       "    </tr>\n",
       "    <tr>\n",
       "      <th>Credit Score</th>\n",
       "      <td>0.131932</td>\n",
       "    </tr>\n",
       "    <tr>\n",
       "      <th>Outstanding Loans</th>\n",
       "      <td>0.129290</td>\n",
       "    </tr>\n",
       "    <tr>\n",
       "      <th>Total_Trans_Amt</th>\n",
       "      <td>0.127863</td>\n",
       "    </tr>\n",
       "    <tr>\n",
       "      <th>Balance</th>\n",
       "      <td>0.127215</td>\n",
       "    </tr>\n",
       "    <tr>\n",
       "      <th>Savings</th>\n",
       "      <td>0.114501</td>\n",
       "    </tr>\n",
       "    <tr>\n",
       "      <th>Total_Trans_Count</th>\n",
       "      <td>0.109196</td>\n",
       "    </tr>\n",
       "    <tr>\n",
       "      <th>Num_of_Contacts_Made</th>\n",
       "      <td>0.054623</td>\n",
       "    </tr>\n",
       "    <tr>\n",
       "      <th>Months_Inactive_12_mon</th>\n",
       "      <td>0.037759</td>\n",
       "    </tr>\n",
       "    <tr>\n",
       "      <th>Last_Contacted</th>\n",
       "      <td>0.035244</td>\n",
       "    </tr>\n",
       "  </tbody>\n",
       "</table>\n",
       "</div>"
      ],
      "text/plain": [
       "                        Importance\n",
       "Customer_Age              0.132377\n",
       "Credit Score              0.131932\n",
       "Outstanding Loans         0.129290\n",
       "Total_Trans_Amt           0.127863\n",
       "Balance                   0.127215\n",
       "Savings                   0.114501\n",
       "Total_Trans_Count         0.109196\n",
       "Num_of_Contacts_Made      0.054623\n",
       "Months_Inactive_12_mon    0.037759\n",
       "Last_Contacted            0.035244"
      ]
     },
     "execution_count": 36,
     "metadata": {},
     "output_type": "execute_result"
    }
   ],
   "source": [
    "# Importance\n",
    "importances = rf_model.feature_importances_\n",
    "impt = pd.DataFrame(importances, index = X.columns, columns = [\"Importance\"]).sort_values(\"Importance\", ascending = False)\n",
    "impt"
   ]
  },
  {
   "cell_type": "code",
   "execution_count": 37,
   "id": "68f44a43-c47f-4beb-ac67-f8dab51df320",
   "metadata": {},
   "outputs": [
    {
     "data": {
      "text/html": [
       "<style>#sk-container-id-4 {color: black;}#sk-container-id-4 pre{padding: 0;}#sk-container-id-4 div.sk-toggleable {background-color: white;}#sk-container-id-4 label.sk-toggleable__label {cursor: pointer;display: block;width: 100%;margin-bottom: 0;padding: 0.3em;box-sizing: border-box;text-align: center;}#sk-container-id-4 label.sk-toggleable__label-arrow:before {content: \"▸\";float: left;margin-right: 0.25em;color: #696969;}#sk-container-id-4 label.sk-toggleable__label-arrow:hover:before {color: black;}#sk-container-id-4 div.sk-estimator:hover label.sk-toggleable__label-arrow:before {color: black;}#sk-container-id-4 div.sk-toggleable__content {max-height: 0;max-width: 0;overflow: hidden;text-align: left;background-color: #f0f8ff;}#sk-container-id-4 div.sk-toggleable__content pre {margin: 0.2em;color: black;border-radius: 0.25em;background-color: #f0f8ff;}#sk-container-id-4 input.sk-toggleable__control:checked~div.sk-toggleable__content {max-height: 200px;max-width: 100%;overflow: auto;}#sk-container-id-4 input.sk-toggleable__control:checked~label.sk-toggleable__label-arrow:before {content: \"▾\";}#sk-container-id-4 div.sk-estimator input.sk-toggleable__control:checked~label.sk-toggleable__label {background-color: #d4ebff;}#sk-container-id-4 div.sk-label input.sk-toggleable__control:checked~label.sk-toggleable__label {background-color: #d4ebff;}#sk-container-id-4 input.sk-hidden--visually {border: 0;clip: rect(1px 1px 1px 1px);clip: rect(1px, 1px, 1px, 1px);height: 1px;margin: -1px;overflow: hidden;padding: 0;position: absolute;width: 1px;}#sk-container-id-4 div.sk-estimator {font-family: monospace;background-color: #f0f8ff;border: 1px dotted black;border-radius: 0.25em;box-sizing: border-box;margin-bottom: 0.5em;}#sk-container-id-4 div.sk-estimator:hover {background-color: #d4ebff;}#sk-container-id-4 div.sk-parallel-item::after {content: \"\";width: 100%;border-bottom: 1px solid gray;flex-grow: 1;}#sk-container-id-4 div.sk-label:hover label.sk-toggleable__label {background-color: #d4ebff;}#sk-container-id-4 div.sk-serial::before {content: \"\";position: absolute;border-left: 1px solid gray;box-sizing: border-box;top: 0;bottom: 0;left: 50%;z-index: 0;}#sk-container-id-4 div.sk-serial {display: flex;flex-direction: column;align-items: center;background-color: white;padding-right: 0.2em;padding-left: 0.2em;position: relative;}#sk-container-id-4 div.sk-item {position: relative;z-index: 1;}#sk-container-id-4 div.sk-parallel {display: flex;align-items: stretch;justify-content: center;background-color: white;position: relative;}#sk-container-id-4 div.sk-item::before, #sk-container-id-4 div.sk-parallel-item::before {content: \"\";position: absolute;border-left: 1px solid gray;box-sizing: border-box;top: 0;bottom: 0;left: 50%;z-index: -1;}#sk-container-id-4 div.sk-parallel-item {display: flex;flex-direction: column;z-index: 1;position: relative;background-color: white;}#sk-container-id-4 div.sk-parallel-item:first-child::after {align-self: flex-end;width: 50%;}#sk-container-id-4 div.sk-parallel-item:last-child::after {align-self: flex-start;width: 50%;}#sk-container-id-4 div.sk-parallel-item:only-child::after {width: 0;}#sk-container-id-4 div.sk-dashed-wrapped {border: 1px dashed gray;margin: 0 0.4em 0.5em 0.4em;box-sizing: border-box;padding-bottom: 0.4em;background-color: white;}#sk-container-id-4 div.sk-label label {font-family: monospace;font-weight: bold;display: inline-block;line-height: 1.2em;}#sk-container-id-4 div.sk-label-container {text-align: center;}#sk-container-id-4 div.sk-container {/* jupyter's `normalize.less` sets `[hidden] { display: none; }` but bootstrap.min.css set `[hidden] { display: none !important; }` so we also need the `!important` here to be able to override the default hidden behavior on the sphinx rendered scikit-learn.org. See: https://github.com/scikit-learn/scikit-learn/issues/21755 */display: inline-block !important;position: relative;}#sk-container-id-4 div.sk-text-repr-fallback {display: none;}</style><div id=\"sk-container-id-4\" class=\"sk-top-container\"><div class=\"sk-text-repr-fallback\"><pre>RandomForestClassifier(class_weight=&#x27;balanced&#x27;, random_state=1)</pre><b>In a Jupyter environment, please rerun this cell to show the HTML representation or trust the notebook. <br />On GitHub, the HTML representation is unable to render, please try loading this page with nbviewer.org.</b></div><div class=\"sk-container\" hidden><div class=\"sk-item\"><div class=\"sk-estimator sk-toggleable\"><input class=\"sk-toggleable__control sk-hidden--visually\" id=\"sk-estimator-id-4\" type=\"checkbox\" checked><label for=\"sk-estimator-id-4\" class=\"sk-toggleable__label sk-toggleable__label-arrow\">RandomForestClassifier</label><div class=\"sk-toggleable__content\"><pre>RandomForestClassifier(class_weight=&#x27;balanced&#x27;, random_state=1)</pre></div></div></div></div></div>"
      ],
      "text/plain": [
       "RandomForestClassifier(class_weight='balanced', random_state=1)"
      ]
     },
     "execution_count": 37,
     "metadata": {},
     "output_type": "execute_result"
    }
   ],
   "source": [
    "# removing the features that are not as important\n",
    "X = ori[['Last_Contacted', 'Num_of_Contacts_Made', 'Customer_Age', \n",
    "         'Total_Trans_Count', 'Total_Trans_Amt', 'Savings', 'Credit Score', \n",
    "         'Outstanding Loans', 'Balance']]\n",
    "\n",
    "y = ori['Outcome']\n",
    "y = (y >= 1).astype(int)\n",
    "\n",
    "# splitting the data into training and test\n",
    "## training data size: 80%; test data size: 20%\n",
    "X_train, X_test, y_train, y_test = train_test_split(X, y, test_size = 0.2, random_state = 1)\n",
    "\n",
    "# scaling the features\n",
    "scaler = StandardScaler()\n",
    "X_train_scaled = scaler.fit_transform(X_train)\n",
    "X_test_scaled = scaler.transform(X_test)\n",
    "\n",
    "# fitting the model\n",
    "rf_model = RandomForestClassifier(n_estimators = 100, random_state = 1, class_weight='balanced')\n",
    "rf_model.fit(X_train_scaled, y_train)"
   ]
  },
  {
   "cell_type": "code",
   "execution_count": 40,
   "id": "509b5794-35a0-4161-9d28-fd0d91e5ec82",
   "metadata": {},
   "outputs": [
    {
     "data": {
      "text/html": [
       "<div>\n",
       "<style scoped>\n",
       "    .dataframe tbody tr th:only-of-type {\n",
       "        vertical-align: middle;\n",
       "    }\n",
       "\n",
       "    .dataframe tbody tr th {\n",
       "        vertical-align: top;\n",
       "    }\n",
       "\n",
       "    .dataframe thead th {\n",
       "        text-align: right;\n",
       "    }\n",
       "</style>\n",
       "<table border=\"1\" class=\"dataframe\">\n",
       "  <thead>\n",
       "    <tr style=\"text-align: right;\">\n",
       "      <th></th>\n",
       "      <th>Importance</th>\n",
       "    </tr>\n",
       "  </thead>\n",
       "  <tbody>\n",
       "    <tr>\n",
       "      <th>Credit Score</th>\n",
       "      <td>0.138960</td>\n",
       "    </tr>\n",
       "    <tr>\n",
       "      <th>Balance</th>\n",
       "      <td>0.136206</td>\n",
       "    </tr>\n",
       "    <tr>\n",
       "      <th>Outstanding Loans</th>\n",
       "      <td>0.135065</td>\n",
       "    </tr>\n",
       "    <tr>\n",
       "      <th>Total_Trans_Amt</th>\n",
       "      <td>0.133997</td>\n",
       "    </tr>\n",
       "    <tr>\n",
       "      <th>Customer_Age</th>\n",
       "      <td>0.133772</td>\n",
       "    </tr>\n",
       "    <tr>\n",
       "      <th>Savings</th>\n",
       "      <td>0.120431</td>\n",
       "    </tr>\n",
       "    <tr>\n",
       "      <th>Total_Trans_Count</th>\n",
       "      <td>0.108928</td>\n",
       "    </tr>\n",
       "    <tr>\n",
       "      <th>Num_of_Contacts_Made</th>\n",
       "      <td>0.056887</td>\n",
       "    </tr>\n",
       "    <tr>\n",
       "      <th>Last_Contacted</th>\n",
       "      <td>0.035753</td>\n",
       "    </tr>\n",
       "  </tbody>\n",
       "</table>\n",
       "</div>"
      ],
      "text/plain": [
       "                      Importance\n",
       "Credit Score            0.138960\n",
       "Balance                 0.136206\n",
       "Outstanding Loans       0.135065\n",
       "Total_Trans_Amt         0.133997\n",
       "Customer_Age            0.133772\n",
       "Savings                 0.120431\n",
       "Total_Trans_Count       0.108928\n",
       "Num_of_Contacts_Made    0.056887\n",
       "Last_Contacted          0.035753"
      ]
     },
     "execution_count": 40,
     "metadata": {},
     "output_type": "execute_result"
    }
   ],
   "source": [
    "# Importance\n",
    "importances = rf_model.feature_importances_\n",
    "impt = pd.DataFrame(importances, index = X.columns, columns = [\"Importance\"]).sort_values(\"Importance\", ascending = False)\n",
    "impt"
   ]
  },
  {
   "cell_type": "code",
   "execution_count": 41,
   "id": "2ebe7498-fb2a-4796-b279-0b23c9f905f6",
   "metadata": {},
   "outputs": [
    {
     "data": {
      "image/png": "[encoded data removed]",
      "text/plain": [
       "<Figure size 1000x500 with 1 Axes>"
      ]
     },
     "metadata": {},
     "output_type": "display_data"
    }
   ],
   "source": [
    "# Plotting the feature importances\n",
    "plt.figure(figsize = (10, 5))\n",
    "plt.title(\"Table of Feature Importances\")\n",
    "plt.barh(impt.index, impt[\"Importance\"], align = \"center\")\n",
    "plt.xlabel(\"Importance\")\n",
    "plt.ylabel(\"Features\")\n",
    "plt.grid(axis = 'x', linestyle = '--', alpha = 1)\n",
    "plt.show()"
   ]
  },
  {
   "cell_type": "markdown",
   "id": "44be49ea-41a0-4cc0-b772-f17cb6dc5fc9",
   "metadata": {},
   "source": [
    "- `Number_of_Contacts_Made` (0.149167) is the most important features in this list.\n",
    "- `Last_Contacted` (0.113654), `Credit Score` (0.113520), `Outstanding Loans` (0.112068), `Total_Trans_Amt` (0.111313) and `Balance` (0.110541) follow, indicating moderate importance.\n",
    "- The other features are less important features but might still play a role.\n",
    "\n",
    "This suggests that the campaign should focus on contacting customers more and more often. Furthermore, they should also target customers with higher credit score, outstanding loans and those who have more money in the bank."
   ]
  },
  {
   "cell_type": "markdown",
   "id": "0d2597ef-cfde-4e88-b66a-31f9fbd5eb61",
   "metadata": {},
   "source": [
    "### Propose metrics for tracking campaign effectiveness over time\n",
    "\n",
    "##### Key Factors Influencing Customer Engagement\n",
    "1) Customer Segmentation:\n",
    "    - Digital Engagement Level: Customers who are highly digitally engaged (Segment 1) are more likely to respond positively to digital marketing campaigns through channels like emails, social media, or mobile apps. Low-engagement customers (Segment 3) might prefer more traditional outreach like direct mail.\n",
    "    - Transaction History: High spenders/frequent users (Segment 4) are likely to engage more with promotions related to exclusive offers, loyalty programs, or high-end products. On the other hand, low spenders (Segment 6) might be motivated by discounts or cost-saving opportunities.\n",
    "    - Financial Status: Customers with high financial standing (Segment 10) might be drawn to campaigns promoting investment opportunities, premium accounts, or wealth management services. Low financial standing customers (Segment 12) may engage more with campaigns focused on debt management, credit improvement, or lower-cost products.\n",
    "\n",
    "2) Personalization:\n",
    "    - Personalization is crucial across all segments. The more tailored a campaign is to a customer’s habits, needs, and preferences, the higher the likelihood of engagement. For instance, using customer data to send offers relevant to their transaction behavior, product usage, or financial status can greatly increase engagement.\n",
    "\n",
    "3) Communication Channel:\n",
    "    - Digital engagement levels directly influence the preferred channels for communication. Highly digitally engaged customers are more responsive to email, social media, or app notifications, while others may prefer direct mail or phone calls. \n",
    "\n",
    "\n",
    "##### Proposed Metrics for Tracking Campaign Effectiveness\n",
    "1) Engagement Rate:\n",
    "    - Tracks the overall interaction with campaigns (e.g., email opens, clicks). This is a key indicator of initial interest across all customer segments.\n",
    "2) Conversion Rate:\n",
    "    - Measures the percentage of customers who complete the desired action (e.g., purchase, sign-up), giving direct insight into campaign success.\n",
    "3) Customer Lifetime Value (CLV):\n",
    "    - Helps track long-term profitability and how successful campaigns are in retaining and increasing the value of customers over time.\n",
    "4) Return on Marketing Investment (ROMI):\n",
    "    - Shows the financial impact of campaigns by comparing revenue generated to campaign costs, ensuring resources are allocated efficiently."
   ]
  },
  {
   "cell_type": "code",
   "execution_count": 47,
   "id": "81945bd2-cb71-439a-99a3-85711adeb3fb",
   "metadata": {},
   "outputs": [
    {
     "ename": "KeyError",
     "evalue": "'Digital_Engagement'",
     "output_type": "error",
     "traceback": [
      "\u001b[0;31m---------------------------------------------------------------------------\u001b[0m",
      "\u001b[0;31mKeyError\u001b[0m                                  Traceback (most recent call last)",
      "File \u001b[0;32m~/anaconda3/lib/python3.11/site-packages/pandas/core/indexes/base.py:3653\u001b[0m, in \u001b[0;36mIndex.get_loc\u001b[0;34m(self, key)\u001b[0m\n\u001b[1;32m   3652\u001b[0m \u001b[38;5;28;01mtry\u001b[39;00m:\n\u001b[0;32m-> 3653\u001b[0m     \u001b[38;5;28;01mreturn\u001b[39;00m \u001b[38;5;28mself\u001b[39m\u001b[38;5;241m.\u001b[39m_engine\u001b[38;5;241m.\u001b[39mget_loc(casted_key)\n\u001b[1;32m   3654\u001b[0m \u001b[38;5;28;01mexcept\u001b[39;00m \u001b[38;5;167;01mKeyError\u001b[39;00m \u001b[38;5;28;01mas\u001b[39;00m err:\n",
      "File \u001b[0;32m~/anaconda3/lib/python3.11/site-packages/pandas/_libs/index.pyx:147\u001b[0m, in \u001b[0;36mpandas._libs.index.IndexEngine.get_loc\u001b[0;34m()\u001b[0m\n",
      "File \u001b[0;32m~/anaconda3/lib/python3.11/site-packages/pandas/_libs/index.pyx:176\u001b[0m, in \u001b[0;36mpandas._libs.index.IndexEngine.get_loc\u001b[0;34m()\u001b[0m\n",
      "File \u001b[0;32mpandas/_libs/hashtable_class_helper.pxi:7080\u001b[0m, in \u001b[0;36mpandas._libs.hashtable.PyObjectHashTable.get_item\u001b[0;34m()\u001b[0m\n",
      "File \u001b[0;32mpandas/_libs/hashtable_class_helper.pxi:7088\u001b[0m, in \u001b[0;36mpandas._libs.hashtable.PyObjectHashTable.get_item\u001b[0;34m()\u001b[0m\n",
      "\u001b[0;31mKeyError\u001b[0m: 'Digital_Engagement'",
      "\nThe above exception was the direct cause of the following exception:\n",
      "\u001b[0;31mKeyError\u001b[0m                                  Traceback (most recent call last)",
      "Cell \u001b[0;32mIn[47], line 25\u001b[0m\n\u001b[1;32m     22\u001b[0m     \u001b[38;5;28;01mreturn\u001b[39;00m (total_revenue \u001b[38;5;241m-\u001b[39m total_cost) \u001b[38;5;241m/\u001b[39m total_cost \u001b[38;5;28;01mif\u001b[39;00m total_cost \u001b[38;5;241m>\u001b[39m \u001b[38;5;241m0\u001b[39m \u001b[38;5;28;01melse\u001b[39;00m \u001b[38;5;241m0\u001b[39m\n\u001b[1;32m     24\u001b[0m \u001b[38;5;66;03m# Calculate the metrics\u001b[39;00m\n\u001b[0;32m---> 25\u001b[0m engagement_rate \u001b[38;5;241m=\u001b[39m calculate_engagement_rate(ori)\n\u001b[1;32m     26\u001b[0m conversion_rate \u001b[38;5;241m=\u001b[39m calculate_conversion_rate(ori)\n\u001b[1;32m     27\u001b[0m clv \u001b[38;5;241m=\u001b[39m calculate_clv(ori)\n",
      "Cell \u001b[0;32mIn[47], line 3\u001b[0m, in \u001b[0;36mcalculate_engagement_rate\u001b[0;34m(df)\u001b[0m\n\u001b[1;32m      2\u001b[0m \u001b[38;5;28;01mdef\u001b[39;00m \u001b[38;5;21mcalculate_engagement_rate\u001b[39m(df):\n\u001b[0;32m----> 3\u001b[0m     total_engagements \u001b[38;5;241m=\u001b[39m df[\u001b[38;5;124m'\u001b[39m\u001b[38;5;124mDigital_Engagement\u001b[39m\u001b[38;5;124m'\u001b[39m]\u001b[38;5;241m.\u001b[39msum()  \n\u001b[1;32m      4\u001b[0m     total_campaigns \u001b[38;5;241m=\u001b[39m \u001b[38;5;28mlen\u001b[39m(df)  \n\u001b[1;32m      5\u001b[0m     \u001b[38;5;28;01mreturn\u001b[39;00m total_engagements \u001b[38;5;241m/\u001b[39m total_campaigns \u001b[38;5;28;01mif\u001b[39;00m total_campaigns \u001b[38;5;241m>\u001b[39m \u001b[38;5;241m0\u001b[39m \u001b[38;5;28;01melse\u001b[39;00m \u001b[38;5;241m0\u001b[39m\n",
      "File \u001b[0;32m~/anaconda3/lib/python3.11/site-packages/pandas/core/frame.py:3761\u001b[0m, in \u001b[0;36mDataFrame.__getitem__\u001b[0;34m(self, key)\u001b[0m\n\u001b[1;32m   3759\u001b[0m \u001b[38;5;28;01mif\u001b[39;00m \u001b[38;5;28mself\u001b[39m\u001b[38;5;241m.\u001b[39mcolumns\u001b[38;5;241m.\u001b[39mnlevels \u001b[38;5;241m>\u001b[39m \u001b[38;5;241m1\u001b[39m:\n\u001b[1;32m   3760\u001b[0m     \u001b[38;5;28;01mreturn\u001b[39;00m \u001b[38;5;28mself\u001b[39m\u001b[38;5;241m.\u001b[39m_getitem_multilevel(key)\n\u001b[0;32m-> 3761\u001b[0m indexer \u001b[38;5;241m=\u001b[39m \u001b[38;5;28mself\u001b[39m\u001b[38;5;241m.\u001b[39mcolumns\u001b[38;5;241m.\u001b[39mget_loc(key)\n\u001b[1;32m   3762\u001b[0m \u001b[38;5;28;01mif\u001b[39;00m is_integer(indexer):\n\u001b[1;32m   3763\u001b[0m     indexer \u001b[38;5;241m=\u001b[39m [indexer]\n",
      "File \u001b[0;32m~/anaconda3/lib/python3.11/site-packages/pandas/core/indexes/base.py:3655\u001b[0m, in \u001b[0;36mIndex.get_loc\u001b[0;34m(self, key)\u001b[0m\n\u001b[1;32m   3653\u001b[0m     \u001b[38;5;28;01mreturn\u001b[39;00m \u001b[38;5;28mself\u001b[39m\u001b[38;5;241m.\u001b[39m_engine\u001b[38;5;241m.\u001b[39mget_loc(casted_key)\n\u001b[1;32m   3654\u001b[0m \u001b[38;5;28;01mexcept\u001b[39;00m \u001b[38;5;167;01mKeyError\u001b[39;00m \u001b[38;5;28;01mas\u001b[39;00m err:\n\u001b[0;32m-> 3655\u001b[0m     \u001b[38;5;28;01mraise\u001b[39;00m \u001b[38;5;167;01mKeyError\u001b[39;00m(key) \u001b[38;5;28;01mfrom\u001b[39;00m \u001b[38;5;21;01merr\u001b[39;00m\n\u001b[1;32m   3656\u001b[0m \u001b[38;5;28;01mexcept\u001b[39;00m \u001b[38;5;167;01mTypeError\u001b[39;00m:\n\u001b[1;32m   3657\u001b[0m     \u001b[38;5;66;03m# If we have a listlike key, _check_indexing_error will raise\u001b[39;00m\n\u001b[1;32m   3658\u001b[0m     \u001b[38;5;66;03m#  InvalidIndexError. Otherwise we fall through and re-raise\u001b[39;00m\n\u001b[1;32m   3659\u001b[0m     \u001b[38;5;66;03m#  the TypeError.\u001b[39;00m\n\u001b[1;32m   3660\u001b[0m     \u001b[38;5;28mself\u001b[39m\u001b[38;5;241m.\u001b[39m_check_indexing_error(key)\n",
      "\u001b[0;31mKeyError\u001b[0m: 'Digital_Engagement'"
     ]
    }
   ],
   "source": [
    "# 1) Engagement Rate Calculation\n",
    "def calculate_engagement_rate(df):\n",
    "    total_engagements = df['Digital_Engagement'].sum()  \n",
    "    total_campaigns = len(df)  \n",
    "    return total_engagements / total_campaigns if total_campaigns > 0 else 0\n",
    "\n",
    "# 2) Conversion Rate Calculation\n",
    "def calculate_conversion_rate(df):\n",
    "    total_conversions = df[df['Outcome'] == 'Converted'].shape[0] \n",
    "    total_customers = len(df)\n",
    "    return total_conversions / total_customers if total_customers > 0 else 0\n",
    "\n",
    "# 3) Customer Lifetime Value (CLV) Calculation\n",
    "def calculate_clv(df):\n",
    "    # Assuming CLV can be estimated based on Balance or similar financial metrics\n",
    "    return df['Balance'].mean() if 'Balance' in df.columns else 0\n",
    "\n",
    "# 4) Return on Marketing Investment (ROMI) Calculation\n",
    "def calculate_romi(df):\n",
    "    total_revenue = df['Total_Trans_Amt'].sum()  # Assuming revenue is represented by Total Transaction Amount\n",
    "    total_cost = df['Savings'].sum() \n",
    "    return (total_revenue - total_cost) / total_cost if total_cost > 0 else 0\n",
    "\n",
    "# Calculate the metrics\n",
    "engagement_rate = calculate_engagement_rate(ori)\n",
    "conversion_rate = calculate_conversion_rate(ori)\n",
    "clv = calculate_clv(ori)\n",
    "romi = calculate_romi(ori)\n",
    "\n",
    "print(f\"Engagement Rate: {engagement_rate:.2f}\")\n",
    "print(f\"Conversion Rate: {conversion_rate:.2f}\")\n",
    "print(f\"Customer Lifetime Value (CLV): {clv:.2f}\")\n",
    "print(f\"Return on Marketing Investment (ROMI): {romi:.2f}\")"
   ]
  },
  {
   "cell_type": "code",
   "execution_count": 49,
   "id": "4bab56ba-1891-4e55-9b91-6f43a5c03307",
   "metadata": {},
   "outputs": [],
   "source": [
    "original.to_csv('../../data/processed/original (5).csv', index=False)"
   ]
  },
  {
   "cell_type": "code",
   "execution_count": null,
   "id": "b81362e5-79e5-4c70-b11f-aae77dc4e8d1",
   "metadata": {},
   "outputs": [],
   "source": []
  }
 ],
 "metadata": {
  "kernelspec": {
   "display_name": "Python 3 (ipykernel)",
   "language": "python",
   "name": "python3"
  },
  "language_info": {
   "codemirror_mode": {
    "name": "ipython",
    "version": 3
   },
   "file_extension": ".py",
   "mimetype": "text/x-python",
   "name": "python",
   "nbconvert_exporter": "python",
   "pygments_lexer": "ipython3",
   "version": "3.11.5"
  }
 },
 "nbformat": 4,
 "nbformat_minor": 5
}
