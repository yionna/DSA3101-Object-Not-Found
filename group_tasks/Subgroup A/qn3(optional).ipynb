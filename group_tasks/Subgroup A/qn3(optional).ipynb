{
 "cells": [
  {
   "cell_type": "markdown",
   "id": "991a8b1e-9947-4183-98a6-4b42c5880268",
   "metadata": {},
   "source": [
    "# How can we predict and mitigate customer churn using machine learning techniques?"
   ]
  },
  {
   "cell_type": "code",
   "execution_count": 1,
   "id": "3b0b7ab4-feee-429a-80c9-cf689dd7595e",
   "metadata": {},
   "outputs": [],
   "source": [
    "import pandas as pd\n",
    "import numpy as np\n",
    "import matplotlib.pyplot as plt\n",
    "from sklearn.preprocessing import  LabelEncoder\n",
    "from scipy.stats import norm\n",
    "from sklearn.model_selection import train_test_split\n",
    "from sklearn.ensemble import RandomForestClassifier\n",
    "from sklearn.metrics import accuracy_score, f1_score\n",
    "from sklearn.metrics import roc_auc_score, roc_curve"
   ]
  },
  {
   "cell_type": "code",
   "execution_count": 2,
   "id": "4419f18d-3bbf-4ab7-ad05-2b99e704b39c",
   "metadata": {},
   "outputs": [],
   "source": [
    "original = pd.read_csv(\"../../data/processed/Compaign_metrics.csv\")"
   ]
  },
  {
   "cell_type": "markdown",
   "id": "acabfa8e-552a-4e5e-86cc-93f529a63198",
   "metadata": {},
   "source": [
    "## Develop a machine learning model to predict the likelihood of customer churn."
   ]
  },
  {
   "cell_type": "code",
   "execution_count": 3,
   "id": "9a82186a-0e71-4cad-8abe-c8c08e61d4fc",
   "metadata": {},
   "outputs": [],
   "source": [
    "original['Churn'] = original['Attrition_Flag'].apply(lambda x: 'No' if x == 'Existing Customer' else 'Yes')\n",
    "ori = original.copy()\n",
    "ori = original.drop(columns = ['Attrition_Flag'])"
   ]
  },
  {
   "cell_type": "code",
   "execution_count": 4,
   "id": "c4a03c7b-55bc-4148-916e-f85a481efe95",
   "metadata": {},
   "outputs": [
    {
     "name": "stdout",
     "output_type": "stream",
     "text": [
      "The Churn Rate is quite high at 100.00%.\n"
     ]
    }
   ],
   "source": [
    "total_customers = ori['Churn'].count()\n",
    "churners = ori[ori['Churn'] == 'Yes'].shape[0]\n",
    "churn_rate = churners / total_customers * 100\n",
    "print(f\"The Churn Rate is quite high at {churn_rate:.2f}%.\")"
   ]
  },
  {
   "cell_type": "markdown",
   "id": "bf871db6-195e-4f2a-add7-2c3cc5ef4a28",
   "metadata": {},
   "source": [
    "### Likelihood of Churning for each customer"
   ]
  },
  {
   "cell_type": "markdown",
   "id": "b1f2ea03-de43-4650-bc79-24040da2195c",
   "metadata": {},
   "source": [
    "#### Preparing the data"
   ]
  },
  {
   "cell_type": "code",
   "execution_count": 5,
   "id": "7fb89891-0714-4a89-a7e3-d17256af1d99",
   "metadata": {},
   "outputs": [],
   "source": [
    "np.random.seed(3101)\n",
    "\n",
    "# encoding 'Income_Category', 'Product_Usage', 'Cluster_Labels' and 'Churn' to numerical formats\n",
    "encoders = {}\n",
    "for c in ['Gender', 'Income_Category', 'Education_Level', 'Marital_Status', 'Card_Category'\n",
    "          , 'Churn']:\n",
    "    le = LabelEncoder()\n",
    "    ori[c] = le.fit_transform(ori[c])\n",
    "    encoders[c] = le\n",
    "\n",
    "# splitting the data into training and test\n",
    "## training data size: 80%; test data size: 20%\n",
    "X = ori.drop(columns = ['Churn'])\n",
    "y = ori['Churn']\n",
    "X_train, X_test, y_train, y_test = train_test_split(X, y, test_size = 0.3, random_state = 1)"
   ]
  },
  {
   "cell_type": "markdown",
   "id": "8402e9aa-3032-47ff-b75f-b9d39051a0e4",
   "metadata": {},
   "source": [
    "#### Random Forest Classifier\n",
    "\n",
    "To add Churn_Probability to the data."
   ]
  },
  {
   "cell_type": "code",
   "execution_count": 6,
   "id": "81bec2ca-ae30-4e87-b055-f6561b43f58f",
   "metadata": {},
   "outputs": [
    {
     "ename": "IndexError",
     "evalue": "index 1 is out of bounds for axis 1 with size 1",
     "output_type": "error",
     "traceback": [
      "\u001b[1;31m---------------------------------------------------------------------------\u001b[0m",
      "\u001b[1;31mIndexError\u001b[0m                                Traceback (most recent call last)",
      "Cell \u001b[1;32mIn[6], line 4\u001b[0m\n\u001b[0;32m      2\u001b[0m model\u001b[38;5;241m.\u001b[39mfit(X_train, y_train)\n\u001b[0;32m      3\u001b[0m y_pred \u001b[38;5;241m=\u001b[39m model\u001b[38;5;241m.\u001b[39mpredict(X_test)\n\u001b[1;32m----> 4\u001b[0m churn_probabilities \u001b[38;5;241m=\u001b[39m \u001b[43mmodel\u001b[49m\u001b[38;5;241;43m.\u001b[39;49m\u001b[43mpredict_proba\u001b[49m\u001b[43m(\u001b[49m\u001b[43mX\u001b[49m\u001b[43m)\u001b[49m\u001b[43m[\u001b[49m\u001b[43m:\u001b[49m\u001b[43m,\u001b[49m\u001b[43m \u001b[49m\u001b[38;5;241;43m1\u001b[39;49m\u001b[43m]\u001b[49m\n\u001b[0;32m      6\u001b[0m \u001b[38;5;66;03m# add likelihood of a customer churning into the dataset\u001b[39;00m\n\u001b[0;32m      7\u001b[0m original[\u001b[38;5;124m'\u001b[39m\u001b[38;5;124mChurn_Probability\u001b[39m\u001b[38;5;124m'\u001b[39m] \u001b[38;5;241m=\u001b[39m churn_probabilities\n",
      "\u001b[1;31mIndexError\u001b[0m: index 1 is out of bounds for axis 1 with size 1"
     ]
    }
   ],
   "source": [
    "model = RandomForestClassifier(random_state = 1)\n",
    "model.fit(X_train, y_train)\n",
    "y_pred = model.predict(X_test)\n",
    "churn_probabilities = model.predict_proba(X)[:, 1]\n",
    "\n",
    "# add likelihood of a customer churning into the dataset\n",
    "original['Churn_Probability'] = churn_probabilities"
   ]
  },
  {
   "cell_type": "markdown",
   "id": "67841851-ad40-4af7-8200-6d3350169f25",
   "metadata": {},
   "source": [
    "#### Testing viability\n",
    "\n",
    "##### Accuracy and F1 scores"
   ]
  },
  {
   "cell_type": "code",
   "execution_count": 7,
   "id": "250ba6b0-3f4f-4ef7-b8c8-658a109040af",
   "metadata": {},
   "outputs": [
    {
     "name": "stdout",
     "output_type": "stream",
     "text": [
      "Accuracy: 1.0000\n",
      "F1 score: 0.0000\n"
     ]
    },
    {
     "name": "stderr",
     "output_type": "stream",
     "text": [
      "c:\\Users\\mavis\\AppData\\Local\\Programs\\Python\\Python310\\lib\\site-packages\\sklearn\\metrics\\_classification.py:1531: UndefinedMetricWarning: F-score is ill-defined and being set to 0.0 due to no true nor predicted samples. Use `zero_division` parameter to control this behavior.\n",
      "  _warn_prf(average, modifier, f\"{metric.capitalize()} is\", len(result))\n"
     ]
    }
   ],
   "source": [
    "accuracy = accuracy_score(y_test, y_pred)\n",
    "f1 = f1_score(y_test, y_pred)\n",
    "\n",
    "print(f\"Accuracy: {accuracy:.4f}\")\n",
    "print(f\"F1 score: {f1:.4f}\")"
   ]
  },
  {
   "cell_type": "markdown",
   "id": "4f932c83-dc85-4217-b23f-7670a58e414d",
   "metadata": {},
   "source": [
    "The accuracy is quite high at 92.71%. This shows that the model accurately classifies the customer into churned or not churned 94.27% of the time. However, this should not be trusted because most people did not churn (84.28%) in the data.\n",
    "\n",
    "The F1 score is relatively high 73.04%. It is average of precision and recall and both of these contribute equally to the F1 score (Sharma, 2023). The model as a modest ability in predicting true positives (customers who actually churn). "
   ]
  },
  {
   "cell_type": "markdown",
   "id": "cc891470-822d-4b21-8e07-c997c4964f18",
   "metadata": {},
   "source": [
    "##### AUC - ROC "
   ]
  },
  {
   "cell_type": "code",
   "execution_count": 8,
   "id": "7ac1dfe3-16a6-4d9a-9ffc-4d6254fac13e",
   "metadata": {},
   "outputs": [
    {
     "ename": "IndexError",
     "evalue": "index 1 is out of bounds for axis 1 with size 1",
     "output_type": "error",
     "traceback": [
      "\u001b[1;31m---------------------------------------------------------------------------\u001b[0m",
      "\u001b[1;31mIndexError\u001b[0m                                Traceback (most recent call last)",
      "Cell \u001b[1;32mIn[8], line 1\u001b[0m\n\u001b[1;32m----> 1\u001b[0m y_prob \u001b[38;5;241m=\u001b[39m \u001b[43mmodel\u001b[49m\u001b[38;5;241;43m.\u001b[39;49m\u001b[43mpredict_proba\u001b[49m\u001b[43m(\u001b[49m\u001b[43mX_test\u001b[49m\u001b[43m)\u001b[49m\u001b[43m[\u001b[49m\u001b[43m:\u001b[49m\u001b[43m,\u001b[49m\u001b[43m \u001b[49m\u001b[38;5;241;43m1\u001b[39;49m\u001b[43m]\u001b[49m\n\u001b[0;32m      2\u001b[0m auc \u001b[38;5;241m=\u001b[39m roc_auc_score(y_test, y_prob)\n\u001b[0;32m      3\u001b[0m \u001b[38;5;28mprint\u001b[39m(\u001b[38;5;124mf\u001b[39m\u001b[38;5;124m\"\u001b[39m\u001b[38;5;124mAUC-ROC score: \u001b[39m\u001b[38;5;132;01m{\u001b[39;00mauc\u001b[38;5;132;01m:\u001b[39;00m\u001b[38;5;124m.4f\u001b[39m\u001b[38;5;132;01m}\u001b[39;00m\u001b[38;5;124m\"\u001b[39m)\n",
      "\u001b[1;31mIndexError\u001b[0m: index 1 is out of bounds for axis 1 with size 1"
     ]
    }
   ],
   "source": [
    "y_prob = model.predict_proba(X_test)[:, 1]\n",
    "auc = roc_auc_score(y_test, y_prob)\n",
    "print(f\"AUC-ROC score: {auc:.4f}\")\n",
    "\n",
    "# plotting the AUC-ROC\n",
    "false_pos_r, true_pos_r, thresholds = roc_curve(y_test, y_prob)\n",
    "plt.plot(false_pos_r, true_pos_r)\n",
    "plt.plot([0, 1], [0, 1])\n",
    "plt.xlabel('False Positive Rate')\n",
    "plt.ylabel('True Positive Rate')\n",
    "plt.show()"
   ]
  },
  {
   "cell_type": "markdown",
   "id": "d9bf17c4-eba6-40f0-98b9-72ac3ff60ad0",
   "metadata": {},
   "source": [
    "The AUC-ROC score is high at 96.84%. The model has significant in predicting the likelihood of a customer churning. The model correctly classifies with a probability of 96.84%."
   ]
  },
  {
   "cell_type": "markdown",
   "id": "d7ed1813-7a99-4072-b4a8-f8ebdeb9566e",
   "metadata": {},
   "source": [
    "### Early Warning System"
   ]
  },
  {
   "cell_type": "code",
   "execution_count": 9,
   "id": "aed62c6b-f2ed-402b-8148-b8acf149ef8f",
   "metadata": {},
   "outputs": [
    {
     "name": "stdout",
     "output_type": "stream",
     "text": [
      "Average Financial_Status for churned customers: nan\n",
      "Average Financial_Status for non-churned customers: 4.5\n",
      "        CLIENTNUM  Churn  Financial_Status  Loyalty  \\\n",
      "0       768805383      0                 3        3   \n",
      "1       818770008      0                 6        3   \n",
      "2       713982108      0                 3        2   \n",
      "3       709106358      0                 5        3   \n",
      "4       713061558      0                 6        2   \n",
      "...           ...    ...               ...      ...   \n",
      "110119  739115251      0                 5        6   \n",
      "110120  531828724      0                 3        6   \n",
      "110121  916155331      0                 9        7   \n",
      "110122  447168581      0                 7        6   \n",
      "110123  474328575      0                 8        2   \n",
      "\n",
      "                                        Alert  \n",
      "0       High risk of churn - follow up needed  \n",
      "1                                    Low risk  \n",
      "2       High risk of churn - follow up needed  \n",
      "3                                    Low risk  \n",
      "4       High risk of churn - follow up needed  \n",
      "...                                       ...  \n",
      "110119                               Low risk  \n",
      "110120  High risk of churn - follow up needed  \n",
      "110121                               Low risk  \n",
      "110122                               Low risk  \n",
      "110123  High risk of churn - follow up needed  \n",
      "\n",
      "[110124 rows x 5 columns]\n",
      "\n",
      "Customer Risk Summary:\n",
      "Alert\n",
      "Low risk                                 70417\n",
      "High risk of churn - follow up needed    39707\n",
      "Name: count, dtype: int64\n"
     ]
    }
   ],
   "source": [
    "# Calculate mean and median Transaction_Behavior for churned vs. non-churned customers\n",
    "churned = ori[ori['Churn'] == 1]\n",
    "non_churned = ori[ori['Churn'] == 0]\n",
    "\n",
    "churned_mean = churned['Financial_Status'].mean()\n",
    "non_churned_mean = non_churned['Financial_Status'].mean() \n",
    "\n",
    "print(\"Average Financial_Status for churned customers:\", churned_mean)\n",
    "print(\"Average Financial_Status for non-churned customers:\", non_churned_mean)\n",
    "# Since churned customers have a lower Financial_Status value on average, it suggests that lower Financial_Status values correlate with a higher churn risk.\n",
    "\n",
    "# Calculate the 25th percentile of the 'Loyalty' column for both groups\n",
    "churned_loyalty_25th = churned['Loyalty'].quantile(0.25)\n",
    "non_churned_loyalty_25th = non_churned['Loyalty'].quantile(0.25)\n",
    "\n",
    "churned_loyalty_25th, non_churned_loyalty_25th # to find which treshold to set for loyalty\n",
    "\n",
    "# Defining threshold criteria for high-risk customers\n",
    "churn_status_threshold = 1         # Let 1 = churned, 0 = non-churned\n",
    "financial_status_threshold = 4.0     # Threshold for financial status\n",
    "loyalty_threshold = 3              # Threshold for loyalty\n",
    "\n",
    "# Apply early warning system criteria\n",
    "ori['Alert'] = ori.apply(\n",
    "    lambda row: 'High risk of churn - follow up needed' if (\n",
    "        row['Churn'] >= churn_status_threshold or              # Churned or likely to churn\n",
    "        row['Financial_Status'] < financial_status_threshold or # Low financial stability\n",
    "        row['Loyalty'] < loyalty_threshold                     # Low loyalty score\n",
    "    ) else 'Low risk',\n",
    "    axis=1\n",
    ")\n",
    "\n",
    "# Display results\n",
    "print(ori[['CLIENTNUM', 'Churn', 'Financial_Status', 'Loyalty', 'Alert']])\n",
    "\n",
    "# Count high-risk and low-risk customers\n",
    "risk_counts = ori['Alert'].value_counts()\n",
    "print(\"\\nCustomer Risk Summary:\")\n",
    "print(risk_counts)  # high risk = 2670, low risk = 4411"
   ]
  },
  {
   "cell_type": "markdown",
   "id": "45915a6a-22f9-4b30-9ae7-f50e8319c783",
   "metadata": {},
   "source": [
    "#### Retention Strategies"
   ]
  },
  {
   "cell_type": "markdown",
   "id": "de4aaa2c-8fb7-447e-a481-119032f378c6",
   "metadata": {},
   "source": [
    "1. Personalized Communication Targeted Messaging: Use customer data to send tailored emails that acknowledge individual preferences and behaviors. Highlight relevant promotions or services to create a more personalized experience, which can significantly enhance engagement and satisfaction.\n",
    "\n",
    "2.  Incentives and Rewards Loyalty Programs: Implement a rewards program that encourages continued use of your services. Offering points, discounts, or exclusive benefits can motivate high-risk customers to remain loyal and feel valued.\n",
    "\n",
    "3. Enhanced Customer Support Dedicated Account Management: Assign dedicated account managers to high-risk customers. This personalized support ensures their concerns are addressed promptly and reinforces the commitment to customer satisfaction, fostering a stronger relationship and trust."
   ]
  },
  {
   "cell_type": "code",
   "execution_count": 10,
   "id": "fc668551-8570-4e30-8930-1b34921f7199",
   "metadata": {},
   "outputs": [
    {
     "ename": "KeyError",
     "evalue": "\"['Churn_Probability'] not in index\"",
     "output_type": "error",
     "traceback": [
      "\u001b[1;31m---------------------------------------------------------------------------\u001b[0m",
      "\u001b[1;31mKeyError\u001b[0m                                  Traceback (most recent call last)",
      "Cell \u001b[1;32mIn[10], line 2\u001b[0m\n\u001b[0;32m      1\u001b[0m \u001b[38;5;66;03m# for API\u001b[39;00m\n\u001b[1;32m----> 2\u001b[0m A_BQ3 \u001b[38;5;241m=\u001b[39m \u001b[43moriginal\u001b[49m\u001b[43m[\u001b[49m\u001b[43m[\u001b[49m\u001b[38;5;124;43m\"\u001b[39;49m\u001b[38;5;124;43mCLIENTNUM\u001b[39;49m\u001b[38;5;124;43m\"\u001b[39;49m\u001b[43m,\u001b[49m\u001b[43m \u001b[49m\u001b[38;5;124;43m\"\u001b[39;49m\u001b[38;5;124;43mChurn_Probability\u001b[39;49m\u001b[38;5;124;43m\"\u001b[39;49m\u001b[43m]\u001b[49m\u001b[43m]\u001b[49m\n\u001b[0;32m      3\u001b[0m A_BQ3\u001b[38;5;241m.\u001b[39mto_csv(\u001b[38;5;124m'\u001b[39m\u001b[38;5;124m../../data/processed/temp4.csv\u001b[39m\u001b[38;5;124m'\u001b[39m, index \u001b[38;5;241m=\u001b[39m \u001b[38;5;28;01mFalse\u001b[39;00m)\n",
      "File \u001b[1;32mc:\\Users\\mavis\\AppData\\Local\\Programs\\Python\\Python310\\lib\\site-packages\\pandas\\core\\frame.py:3767\u001b[0m, in \u001b[0;36mDataFrame.__getitem__\u001b[1;34m(self, key)\u001b[0m\n\u001b[0;32m   3765\u001b[0m     \u001b[38;5;28;01mif\u001b[39;00m is_iterator(key):\n\u001b[0;32m   3766\u001b[0m         key \u001b[38;5;241m=\u001b[39m \u001b[38;5;28mlist\u001b[39m(key)\n\u001b[1;32m-> 3767\u001b[0m     indexer \u001b[38;5;241m=\u001b[39m \u001b[38;5;28;43mself\u001b[39;49m\u001b[38;5;241;43m.\u001b[39;49m\u001b[43mcolumns\u001b[49m\u001b[38;5;241;43m.\u001b[39;49m\u001b[43m_get_indexer_strict\u001b[49m\u001b[43m(\u001b[49m\u001b[43mkey\u001b[49m\u001b[43m,\u001b[49m\u001b[43m \u001b[49m\u001b[38;5;124;43m\"\u001b[39;49m\u001b[38;5;124;43mcolumns\u001b[39;49m\u001b[38;5;124;43m\"\u001b[39;49m\u001b[43m)\u001b[49m[\u001b[38;5;241m1\u001b[39m]\n\u001b[0;32m   3769\u001b[0m \u001b[38;5;66;03m# take() does not accept boolean indexers\u001b[39;00m\n\u001b[0;32m   3770\u001b[0m \u001b[38;5;28;01mif\u001b[39;00m \u001b[38;5;28mgetattr\u001b[39m(indexer, \u001b[38;5;124m\"\u001b[39m\u001b[38;5;124mdtype\u001b[39m\u001b[38;5;124m\"\u001b[39m, \u001b[38;5;28;01mNone\u001b[39;00m) \u001b[38;5;241m==\u001b[39m \u001b[38;5;28mbool\u001b[39m:\n",
      "File \u001b[1;32mc:\\Users\\mavis\\AppData\\Local\\Programs\\Python\\Python310\\lib\\site-packages\\pandas\\core\\indexes\\base.py:5877\u001b[0m, in \u001b[0;36mIndex._get_indexer_strict\u001b[1;34m(self, key, axis_name)\u001b[0m\n\u001b[0;32m   5874\u001b[0m \u001b[38;5;28;01melse\u001b[39;00m:\n\u001b[0;32m   5875\u001b[0m     keyarr, indexer, new_indexer \u001b[38;5;241m=\u001b[39m \u001b[38;5;28mself\u001b[39m\u001b[38;5;241m.\u001b[39m_reindex_non_unique(keyarr)\n\u001b[1;32m-> 5877\u001b[0m \u001b[38;5;28;43mself\u001b[39;49m\u001b[38;5;241;43m.\u001b[39;49m\u001b[43m_raise_if_missing\u001b[49m\u001b[43m(\u001b[49m\u001b[43mkeyarr\u001b[49m\u001b[43m,\u001b[49m\u001b[43m \u001b[49m\u001b[43mindexer\u001b[49m\u001b[43m,\u001b[49m\u001b[43m \u001b[49m\u001b[43maxis_name\u001b[49m\u001b[43m)\u001b[49m\n\u001b[0;32m   5879\u001b[0m keyarr \u001b[38;5;241m=\u001b[39m \u001b[38;5;28mself\u001b[39m\u001b[38;5;241m.\u001b[39mtake(indexer)\n\u001b[0;32m   5880\u001b[0m \u001b[38;5;28;01mif\u001b[39;00m \u001b[38;5;28misinstance\u001b[39m(key, Index):\n\u001b[0;32m   5881\u001b[0m     \u001b[38;5;66;03m# GH 42790 - Preserve name from an Index\u001b[39;00m\n",
      "File \u001b[1;32mc:\\Users\\mavis\\AppData\\Local\\Programs\\Python\\Python310\\lib\\site-packages\\pandas\\core\\indexes\\base.py:5941\u001b[0m, in \u001b[0;36mIndex._raise_if_missing\u001b[1;34m(self, key, indexer, axis_name)\u001b[0m\n\u001b[0;32m   5938\u001b[0m     \u001b[38;5;28;01mraise\u001b[39;00m \u001b[38;5;167;01mKeyError\u001b[39;00m(\u001b[38;5;124mf\u001b[39m\u001b[38;5;124m\"\u001b[39m\u001b[38;5;124mNone of [\u001b[39m\u001b[38;5;132;01m{\u001b[39;00mkey\u001b[38;5;132;01m}\u001b[39;00m\u001b[38;5;124m] are in the [\u001b[39m\u001b[38;5;132;01m{\u001b[39;00maxis_name\u001b[38;5;132;01m}\u001b[39;00m\u001b[38;5;124m]\u001b[39m\u001b[38;5;124m\"\u001b[39m)\n\u001b[0;32m   5940\u001b[0m not_found \u001b[38;5;241m=\u001b[39m \u001b[38;5;28mlist\u001b[39m(ensure_index(key)[missing_mask\u001b[38;5;241m.\u001b[39mnonzero()[\u001b[38;5;241m0\u001b[39m]]\u001b[38;5;241m.\u001b[39munique())\n\u001b[1;32m-> 5941\u001b[0m \u001b[38;5;28;01mraise\u001b[39;00m \u001b[38;5;167;01mKeyError\u001b[39;00m(\u001b[38;5;124mf\u001b[39m\u001b[38;5;124m\"\u001b[39m\u001b[38;5;132;01m{\u001b[39;00mnot_found\u001b[38;5;132;01m}\u001b[39;00m\u001b[38;5;124m not in index\u001b[39m\u001b[38;5;124m\"\u001b[39m)\n",
      "\u001b[1;31mKeyError\u001b[0m: \"['Churn_Probability'] not in index\""
     ]
    }
   ],
   "source": [
    "# for API\n",
    "A_BQ3 = original[[\"CLIENTNUM\", \"Churn_Probability\"]]\n",
    "A_BQ3.to_csv('../../data/processed/temp4.csv', index = False)"
   ]
  },
  {
   "cell_type": "code",
   "execution_count": 18,
   "id": "2ae9e996-d41e-49e1-b35f-31896498f350",
   "metadata": {},
   "outputs": [],
   "source": [
    "# for API\n",
    "\n",
    "A_BQ3_pt2 = ori[['CLIENTNUM', 'Alert']]\n",
    "A_BQ3_pt2.to_csv('../../data/predictions/A_BQ3_pt2.csv', index=False)"
   ]
  }
 ],
 "metadata": {
  "kernelspec": {
   "display_name": "Python 3",
   "language": "python",
   "name": "python3"
  },
  "language_info": {
   "codemirror_mode": {
    "name": "ipython",
    "version": 3
   },
   "file_extension": ".py",
   "mimetype": "text/x-python",
   "name": "python",
   "nbconvert_exporter": "python",
   "pygments_lexer": "ipython3",
   "version": "3.10.11"
  }
 },
 "nbformat": 4,
 "nbformat_minor": 5
}
