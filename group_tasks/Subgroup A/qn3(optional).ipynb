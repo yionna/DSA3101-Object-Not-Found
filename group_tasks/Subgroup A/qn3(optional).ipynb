{
 "cells": [
  {
   "cell_type": "markdown",
   "id": "991a8b1e-9947-4183-98a6-4b42c5880268",
   "metadata": {},
   "source": [
    "# How can we predict and mitigate customer churn using machine learning techniques?"
   ]
  },
  {
   "cell_type": "code",
   "execution_count": 1,
   "id": "3b0b7ab4-feee-429a-80c9-cf689dd7595e",
   "metadata": {},
   "outputs": [],
   "source": [
    "import pandas as pd\n",
    "import numpy as np\n",
    "import matplotlib.pyplot as plt\n",
    "from sklearn.preprocessing import  LabelEncoder\n",
    "from scipy.stats import norm\n",
    "from sklearn.model_selection import train_test_split\n",
    "from sklearn.ensemble import RandomForestClassifier\n",
    "from sklearn.metrics import accuracy_score, f1_score\n",
    "from sklearn.metrics import roc_auc_score, roc_curve"
   ]
  },
  {
   "cell_type": "code",
   "execution_count": 2,
   "id": "4419f18d-3bbf-4ab7-ad05-2b99e704b39c",
   "metadata": {},
   "outputs": [],
   "source": [
    "original = pd.read_csv(\"../../data/processed/Compaign_metrics.csv\")"
   ]
  },
  {
   "cell_type": "markdown",
   "id": "acabfa8e-552a-4e5e-86cc-93f529a63198",
   "metadata": {},
   "source": [
    "## Develop a machine learning model to predict the likelihood of customer churn."
   ]
  },
  {
   "cell_type": "code",
   "execution_count": 3,
   "id": "9a82186a-0e71-4cad-8abe-c8c08e61d4fc",
   "metadata": {},
   "outputs": [],
   "source": [
    "original['Churn'] = original['Attrition_Flag'].apply(lambda x: 'No' if x == 'Existing Customer' else 'Yes')\n",
    "ori = original.copy()\n",
    "ori = original.drop(columns = ['Attrition_Flag'])"
   ]
  },
  {
   "cell_type": "code",
   "execution_count": 4,
   "id": "c4a03c7b-55bc-4148-916e-f85a481efe95",
   "metadata": {},
   "outputs": [
    {
     "name": "stdout",
     "output_type": "stream",
     "text": [
      "The Churn Rate is quite high at 15.72%.\n"
     ]
    }
   ],
   "source": [
    "total_customers = ori['Churn'].count()\n",
    "churners = ori[ori['Churn'] == 'Yes'].shape[0]\n",
    "churn_rate = churners / total_customers * 100\n",
    "print(f\"The Churn Rate is quite high at {churn_rate:.2f}%.\")"
   ]
  },
  {
   "cell_type": "markdown",
   "id": "bf871db6-195e-4f2a-add7-2c3cc5ef4a28",
   "metadata": {},
   "source": [
    "### Likelihood of Churning for each customer"
   ]
  },
  {
   "cell_type": "markdown",
   "id": "b1f2ea03-de43-4650-bc79-24040da2195c",
   "metadata": {},
   "source": [
    "#### Preparing the data"
   ]
  },
  {
   "cell_type": "code",
   "execution_count": 5,
   "id": "7fb89891-0714-4a89-a7e3-d17256af1d99",
   "metadata": {},
   "outputs": [],
   "source": [
    "np.random.seed(3101)\n",
    "\n",
    "# encoding 'Income_Category', 'Product_Usage', 'Cluster_Labels' and 'Churn' to numerical formats\n",
    "encoders = {}\n",
    "for c in ['Gender', 'Income_Category', 'Education_Level', 'Marital_Status', 'Card_Category'\n",
    "          , 'Churn']:\n",
    "    le = LabelEncoder()\n",
    "    ori[c] = le.fit_transform(ori[c])\n",
    "    encoders[c] = le\n",
    "\n",
    "# splitting the data into training and test\n",
    "## training data size: 80%; test data size: 20%\n",
    "X = ori.drop(columns = ['Churn'])\n",
    "y = ori['Churn']\n",
    "X_train, X_test, y_train, y_test = train_test_split(X, y, test_size = 0.3, random_state = 1)"
   ]
  },
  {
   "cell_type": "markdown",
   "id": "8402e9aa-3032-47ff-b75f-b9d39051a0e4",
   "metadata": {},
   "source": [
    "#### Random Forest Classifier\n",
    "\n",
    "To add Churn_Probability to the data."
   ]
  },
  {
   "cell_type": "code",
   "execution_count": 6,
   "id": "81bec2ca-ae30-4e87-b055-f6561b43f58f",
   "metadata": {},
   "outputs": [],
   "source": [
    "model = RandomForestClassifier(random_state = 1)\n",
    "model.fit(X_train, y_train)\n",
    "y_pred = model.predict(X_test)\n",
    "churn_probabilities = model.predict_proba(X)[:, 1]\n",
    "\n",
    "# add likelihood of a customer churning into the dataset\n",
    "original['Churn_Probability'] = churn_probabilities"
   ]
  },
  {
   "cell_type": "markdown",
   "id": "67841851-ad40-4af7-8200-6d3350169f25",
   "metadata": {},
   "source": [
    "#### Testing viability\n",
    "\n",
    "##### Accuracy and F1 scores"
   ]
  },
  {
   "cell_type": "code",
   "execution_count": 7,
   "id": "250ba6b0-3f4f-4ef7-b8c8-658a109040af",
   "metadata": {},
   "outputs": [
    {
     "name": "stdout",
     "output_type": "stream",
     "text": [
      "Accuracy: 0.9308\n",
      "F1 score: 0.7487\n"
     ]
    }
   ],
   "source": [
    "accuracy = accuracy_score(y_test, y_pred)\n",
    "f1 = f1_score(y_test, y_pred)\n",
    "\n",
    "print(f\"Accuracy: {accuracy:.4f}\")\n",
    "print(f\"F1 score: {f1:.4f}\")"
   ]
  },
  {
   "cell_type": "markdown",
   "id": "4f932c83-dc85-4217-b23f-7670a58e414d",
   "metadata": {},
   "source": [
    "The accuracy is quite high at 93.18%. This shows that the model accurately classifies the customer into churned or not churned 94.27% of the time. However, this should not be trusted because most people did not churn (83.93%) in the data.\n",
    "\n",
    "The F1 score is relatively high 75.30%. It is average of precision and recall and both of these contribute equally to the F1 score (Sharma, 2023). The model as a modest ability in predicting true positives (customers who actually churn). "
   ]
  },
  {
   "cell_type": "markdown",
   "id": "cc891470-822d-4b21-8e07-c997c4964f18",
   "metadata": {},
   "source": [
    "##### AUC - ROC "
   ]
  },
  {
   "cell_type": "code",
   "execution_count": 8,
   "id": "7ac1dfe3-16a6-4d9a-9ffc-4d6254fac13e",
   "metadata": {},
   "outputs": [
    {
     "name": "stdout",
     "output_type": "stream",
     "text": [
      "AUC-ROC score: 0.9691\n"
     ]
    },
    {
     "data": {
      "image/png": "[encoded data removed]",
      "text/plain": [
       "<Figure size 640x480 with 1 Axes>"
      ]
     },
     "metadata": {},
     "output_type": "display_data"
    }
   ],
   "source": [
    "y_prob = model.predict_proba(X_test)[:, 1]\n",
    "auc = roc_auc_score(y_test, y_prob)\n",
    "print(f\"AUC-ROC score: {auc:.4f}\")\n",
    "\n",
    "# plotting the AUC-ROC\n",
    "false_pos_r, true_pos_r, thresholds = roc_curve(y_test, y_prob)\n",
    "plt.plot(false_pos_r, true_pos_r)\n",
    "plt.plot([0, 1], [0, 1])\n",
    "plt.xlabel('False Positive Rate')\n",
    "plt.ylabel('True Positive Rate')\n",
    "plt.show()"
   ]
  },
  {
   "cell_type": "markdown",
   "id": "d9bf17c4-eba6-40f0-98b9-72ac3ff60ad0",
   "metadata": {},
   "source": [
    "The AUC-ROC score is high at 96.84%. The model has significant in predicting the likelihood of a customer churning. The model correctly classifies with a probability of 96.84%."
   ]
  },
  {
   "cell_type": "markdown",
   "id": "d7ed1813-7a99-4072-b4a8-f8ebdeb9566e",
   "metadata": {},
   "source": [
    "### Early Warning System"
   ]
  },
  {
   "cell_type": "code",
   "execution_count": 9,
   "id": "aed62c6b-f2ed-402b-8148-b8acf149ef8f",
   "metadata": {},
   "outputs": [
    {
     "ename": "KeyError",
     "evalue": "'Transaction_Behavior'",
     "output_type": "error",
     "traceback": [
      "\u001b[0;31m---------------------------------------------------------------------------\u001b[0m",
      "\u001b[0;31mKeyError\u001b[0m                                  Traceback (most recent call last)",
      "File \u001b[0;32m/opt/anaconda3/envs/DSA3101/lib/python3.11/site-packages/pandas/core/indexes/base.py:3805\u001b[0m, in \u001b[0;36mIndex.get_loc\u001b[0;34m(self, key)\u001b[0m\n\u001b[1;32m   3804\u001b[0m \u001b[38;5;28;01mtry\u001b[39;00m:\n\u001b[0;32m-> 3805\u001b[0m     \u001b[38;5;28;01mreturn\u001b[39;00m \u001b[38;5;28;43mself\u001b[39;49m\u001b[38;5;241;43m.\u001b[39;49m\u001b[43m_engine\u001b[49m\u001b[38;5;241;43m.\u001b[39;49m\u001b[43mget_loc\u001b[49m\u001b[43m(\u001b[49m\u001b[43mcasted_key\u001b[49m\u001b[43m)\u001b[49m\n\u001b[1;32m   3806\u001b[0m \u001b[38;5;28;01mexcept\u001b[39;00m \u001b[38;5;167;01mKeyError\u001b[39;00m \u001b[38;5;28;01mas\u001b[39;00m err:\n",
      "File \u001b[0;32mindex.pyx:167\u001b[0m, in \u001b[0;36mpandas._libs.index.IndexEngine.get_loc\u001b[0;34m()\u001b[0m\n",
      "File \u001b[0;32mindex.pyx:196\u001b[0m, in \u001b[0;36mpandas._libs.index.IndexEngine.get_loc\u001b[0;34m()\u001b[0m\n",
      "File \u001b[0;32mpandas/_libs/hashtable_class_helper.pxi:7081\u001b[0m, in \u001b[0;36mpandas._libs.hashtable.PyObjectHashTable.get_item\u001b[0;34m()\u001b[0m\n",
      "File \u001b[0;32mpandas/_libs/hashtable_class_helper.pxi:7089\u001b[0m, in \u001b[0;36mpandas._libs.hashtable.PyObjectHashTable.get_item\u001b[0;34m()\u001b[0m\n",
      "\u001b[0;31mKeyError\u001b[0m: 'Transaction_Behavior'",
      "\nThe above exception was the direct cause of the following exception:\n",
      "\u001b[0;31mKeyError\u001b[0m                                  Traceback (most recent call last)",
      "Cell \u001b[0;32mIn[9], line 5\u001b[0m\n\u001b[1;32m      2\u001b[0m churned \u001b[38;5;241m=\u001b[39m ori[ori[\u001b[38;5;124m'\u001b[39m\u001b[38;5;124mChurn\u001b[39m\u001b[38;5;124m'\u001b[39m] \u001b[38;5;241m==\u001b[39m \u001b[38;5;241m1\u001b[39m]\n\u001b[1;32m      3\u001b[0m non_churned \u001b[38;5;241m=\u001b[39m ori[ori[\u001b[38;5;124m'\u001b[39m\u001b[38;5;124mChurn\u001b[39m\u001b[38;5;124m'\u001b[39m] \u001b[38;5;241m==\u001b[39m \u001b[38;5;241m0\u001b[39m]\n\u001b[0;32m----> 5\u001b[0m churned_mean \u001b[38;5;241m=\u001b[39m \u001b[43mchurned\u001b[49m\u001b[43m[\u001b[49m\u001b[38;5;124;43m'\u001b[39;49m\u001b[38;5;124;43mTransaction_Behavior\u001b[39;49m\u001b[38;5;124;43m'\u001b[39;49m\u001b[43m]\u001b[49m\u001b[38;5;241m.\u001b[39mmean()\n\u001b[1;32m      6\u001b[0m non_churned_mean \u001b[38;5;241m=\u001b[39m non_churned[\u001b[38;5;124m'\u001b[39m\u001b[38;5;124mTransaction_Behavior\u001b[39m\u001b[38;5;124m'\u001b[39m]\u001b[38;5;241m.\u001b[39mmean() \n\u001b[1;32m      8\u001b[0m \u001b[38;5;28mprint\u001b[39m(\u001b[38;5;124m\"\u001b[39m\u001b[38;5;124mAverage Transaction_Behavior for churned customers:\u001b[39m\u001b[38;5;124m\"\u001b[39m, churned_mean)\n",
      "File \u001b[0;32m/opt/anaconda3/envs/DSA3101/lib/python3.11/site-packages/pandas/core/frame.py:4102\u001b[0m, in \u001b[0;36mDataFrame.__getitem__\u001b[0;34m(self, key)\u001b[0m\n\u001b[1;32m   4100\u001b[0m \u001b[38;5;28;01mif\u001b[39;00m \u001b[38;5;28mself\u001b[39m\u001b[38;5;241m.\u001b[39mcolumns\u001b[38;5;241m.\u001b[39mnlevels \u001b[38;5;241m>\u001b[39m \u001b[38;5;241m1\u001b[39m:\n\u001b[1;32m   4101\u001b[0m     \u001b[38;5;28;01mreturn\u001b[39;00m \u001b[38;5;28mself\u001b[39m\u001b[38;5;241m.\u001b[39m_getitem_multilevel(key)\n\u001b[0;32m-> 4102\u001b[0m indexer \u001b[38;5;241m=\u001b[39m \u001b[38;5;28;43mself\u001b[39;49m\u001b[38;5;241;43m.\u001b[39;49m\u001b[43mcolumns\u001b[49m\u001b[38;5;241;43m.\u001b[39;49m\u001b[43mget_loc\u001b[49m\u001b[43m(\u001b[49m\u001b[43mkey\u001b[49m\u001b[43m)\u001b[49m\n\u001b[1;32m   4103\u001b[0m \u001b[38;5;28;01mif\u001b[39;00m is_integer(indexer):\n\u001b[1;32m   4104\u001b[0m     indexer \u001b[38;5;241m=\u001b[39m [indexer]\n",
      "File \u001b[0;32m/opt/anaconda3/envs/DSA3101/lib/python3.11/site-packages/pandas/core/indexes/base.py:3812\u001b[0m, in \u001b[0;36mIndex.get_loc\u001b[0;34m(self, key)\u001b[0m\n\u001b[1;32m   3807\u001b[0m     \u001b[38;5;28;01mif\u001b[39;00m \u001b[38;5;28misinstance\u001b[39m(casted_key, \u001b[38;5;28mslice\u001b[39m) \u001b[38;5;129;01mor\u001b[39;00m (\n\u001b[1;32m   3808\u001b[0m         \u001b[38;5;28misinstance\u001b[39m(casted_key, abc\u001b[38;5;241m.\u001b[39mIterable)\n\u001b[1;32m   3809\u001b[0m         \u001b[38;5;129;01mand\u001b[39;00m \u001b[38;5;28many\u001b[39m(\u001b[38;5;28misinstance\u001b[39m(x, \u001b[38;5;28mslice\u001b[39m) \u001b[38;5;28;01mfor\u001b[39;00m x \u001b[38;5;129;01min\u001b[39;00m casted_key)\n\u001b[1;32m   3810\u001b[0m     ):\n\u001b[1;32m   3811\u001b[0m         \u001b[38;5;28;01mraise\u001b[39;00m InvalidIndexError(key)\n\u001b[0;32m-> 3812\u001b[0m     \u001b[38;5;28;01mraise\u001b[39;00m \u001b[38;5;167;01mKeyError\u001b[39;00m(key) \u001b[38;5;28;01mfrom\u001b[39;00m \u001b[38;5;21;01merr\u001b[39;00m\n\u001b[1;32m   3813\u001b[0m \u001b[38;5;28;01mexcept\u001b[39;00m \u001b[38;5;167;01mTypeError\u001b[39;00m:\n\u001b[1;32m   3814\u001b[0m     \u001b[38;5;66;03m# If we have a listlike key, _check_indexing_error will raise\u001b[39;00m\n\u001b[1;32m   3815\u001b[0m     \u001b[38;5;66;03m#  InvalidIndexError. Otherwise we fall through and re-raise\u001b[39;00m\n\u001b[1;32m   3816\u001b[0m     \u001b[38;5;66;03m#  the TypeError.\u001b[39;00m\n\u001b[1;32m   3817\u001b[0m     \u001b[38;5;28mself\u001b[39m\u001b[38;5;241m.\u001b[39m_check_indexing_error(key)\n",
      "\u001b[0;31mKeyError\u001b[0m: 'Transaction_Behavior'"
     ]
    }
   ],
   "source": [
    "# Calculate mean and median Transaction_Behavior for churned vs. non-churned customers\n",
    "churned = ori[ori['Churn'] == 1]\n",
    "non_churned = ori[ori['Churn'] == 0]\n",
    "\n",
    "churned_mean = churned['Transaction_Behavior'].mean()\n",
    "non_churned_mean = non_churned['Transaction_Behavior'].mean() \n",
    "\n",
    "print(\"Average Transaction_Behavior for churned customers:\", churned_mean)\n",
    "print(\"Average Transaction_Behavior for non-churned customers:\", non_churned_mean)\n",
    "# Since churned customers have a lower Transaction_Behavior value on average, it suggests that lower Transaction_Behavior values correlate with a higher churn risk.\n",
    "\n",
    "# Defining threshold criteria for high-risk customers\n",
    "cluster_risk_threshold = [1, 3]  # Clusters likely associated with higher churn risk\n",
    "churn_status_threshold = 1  # Let 1 = churned, 0 = non-churned\n",
    "transaction_behavior_threshold = 1.3  # Threshold for frequent transactions\n",
    "product_usage_threshold = 1  # Flagging customers with a high product usage\n",
    "\n",
    "# Apply early warning system criteria\n",
    "ori['Alert'] = ori.apply(\n",
    "    lambda row: 'High risk of churn - follow up needed' if (\n",
    "        row['Cluster_Labels'] in cluster_risk_threshold or  # High-risk cluster\n",
    "        row['Churn'] >= churn_status_threshold or           # Churned or likely to churn\n",
    "        row['Transaction_Behavior'] < transaction_behavior_threshold or  # High transactions\n",
    "        row['Product_Usage'] > product_usage_threshold      # High product usage\n",
    "    ) else 'Low risk',\n",
    "    axis=1\n",
    ")\n",
    "\n",
    "# Display results\n",
    "print(ori[['CLIENTNUM', 'Churn', 'Cluster_Labels', 'Transaction_Behavior', 'Product_Usage', 'Alert']])\n",
    "\n",
    "# Count high-risk and low-risk customers\n",
    "risk_counts = ori['Alert'].value_counts()\n",
    "print(\"\\nCustomer Risk Summary:\")\n",
    "print(risk_counts) # high risk = 3760, low risk = 3321"
   ]
  },
  {
   "cell_type": "markdown",
   "id": "45915a6a-22f9-4b30-9ae7-f50e8319c783",
   "metadata": {},
   "source": [
    "#### Retention Strategies"
   ]
  },
  {
   "cell_type": "markdown",
   "id": "de4aaa2c-8fb7-447e-a481-119032f378c6",
   "metadata": {},
   "source": [
    "1. Personalized Communication Targeted Messaging: Use customer data to send tailored emails that acknowledge individual preferences and behaviors. Highlight relevant promotions or services to create a more personalized experience, which can significantly enhance engagement and satisfaction.\n",
    "\n",
    "2.  Incentives and Rewards Loyalty Programs: Implement a rewards program that encourages continued use of your services. Offering points, discounts, or exclusive benefits can motivate high-risk customers to remain loyal and feel valued.\n",
    "\n",
    "3. Enhanced Customer Support Dedicated Account Management: Assign dedicated account managers to high-risk customers. This personalized support ensures their concerns are addressed promptly and reinforces the commitment to customer satisfaction, fostering a stronger relationship and trust."
   ]
  },
  {
   "cell_type": "code",
   "execution_count": 59,
   "id": "fc668551-8570-4e30-8930-1b34921f7199",
   "metadata": {},
   "outputs": [],
   "source": [
    "# for API\n",
    "A_BQ3 = original[[\"CLIENTNUM\", \"Churn_Probability\"]]\n",
    "A_BQ3.to_csv('../data/processed/temp4.csv', index = False)"
   ]
  },
  {
   "cell_type": "code",
   "execution_count": null,
   "id": "cd540657-5f38-4365-b00e-a8ad684a4eba",
   "metadata": {},
   "outputs": [],
   "source": []
  }
 ],
 "metadata": {
  "kernelspec": {
   "display_name": "Python 3 (ipykernel)",
   "language": "python",
   "name": "python3"
  },
  "language_info": {
   "codemirror_mode": {
    "name": "ipython",
    "version": 3
   },
   "file_extension": ".py",
   "mimetype": "text/x-python",
   "name": "python",
   "nbconvert_exporter": "python",
   "pygments_lexer": "ipython3",
   "version": "3.11.9"
  }
 },
 "nbformat": 4,
 "nbformat_minor": 5
}
