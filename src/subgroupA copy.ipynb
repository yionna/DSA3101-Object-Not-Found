{
 "cells": [
  {
   "cell_type": "code",
   "execution_count": 88,
   "metadata": {},
   "outputs": [],
   "source": [
    "import pandas as pd\n",
    "import numpy as np\n",
    "from datetime import datetime\n",
    "from sklearn.cluster import KMeans\n",
    "from sdv.single_table import GaussianCopulaSynthesizer\n",
    "from sklearn.preprocessing import MinMaxScaler"
   ]
  },
  {
   "cell_type": "markdown",
   "metadata": {},
   "source": [
    "## Data cleaning"
   ]
  },
  {
   "cell_type": "code",
   "execution_count": 431,
   "metadata": {},
   "outputs": [],
   "source": [
    "original = pd.read_csv(\"../data/BankChurners.csv\")\n",
    "balance_df = pd.read_csv(\"../data/botswana_bank_customer_churn.csv\")"
   ]
  },
  {
   "cell_type": "code",
   "execution_count": 433,
   "metadata": {},
   "outputs": [],
   "source": [
    "# removing irrelevent columns\n",
    "original = original.drop(original.columns[[-1, -2]], axis=1)\n",
    "original = original.drop(columns=['Avg_Open_To_Buy','Total_Amt_Chng_Q4_Q1','Contacts_Count_12_mon','Total_Ct_Chng_Q4_Q1'])\n",
    "\n",
    "# renaming the datasets\n",
    "original = original.rename(columns={'Months_on_book' : 'Month_with_bank',\n",
    "                                    'Total_Relationship_Count' : 'No_of_product',\n",
    "                                    'Total_Trans_Ct' : 'Total_Trans_Count'})\n",
    "\n",
    "# removing Na from the dataset\n",
    "original_Unknown = original[original.isin(['Unknown']).any(axis=1)] # someone handle the unknown please\n",
    "original = original[~original.isin(['Unknown']).any(axis=1)]\n"
   ]
  },
  {
   "cell_type": "code",
   "execution_count": 435,
   "metadata": {},
   "outputs": [],
   "source": [
    "# this function will remove the k,$ and + sign in the income category column\n",
    "def clean_col(x):\n",
    "        if 'K' in x:\n",
    "            return x.replace('K','').replace('$','')\n",
    "        elif '+' in x:\n",
    "            return x.replace('+','')\n",
    "        elif x =='Less than 40':\n",
    "            return x.split()[2]\n",
    "        return x\n",
    "    \n",
    "original['Income_Category']=original['Income_Category'].apply(clean_col)"
   ]
  },
  {
   "cell_type": "code",
   "execution_count": 437,
   "metadata": {},
   "outputs": [],
   "source": [
    "# Converting object into category\n",
    "categorical_features = ['Attrition_Flag','Gender','Education_Level','Marital_Status','Income_Category','Card_Category']\n",
    "for category in categorical_features:\n",
    "    original[category] = original[category].astype('category')"
   ]
  },
  {
   "cell_type": "markdown",
   "metadata": {},
   "source": [
    "## Generating synthetic data"
   ]
  },
  {
   "cell_type": "markdown",
   "metadata": {},
   "source": [
    "### Feature selection"
   ]
  },
  {
   "cell_type": "code",
   "execution_count": 417,
   "metadata": {},
   "outputs": [],
   "source": [
    "# subsetting from the original data\n",
    "required_features = [\"CLIENTNUM\",\"Customer_Age\",\"Gender\",\"Income_Category\",\"No_of_product\"]\n",
    "subset_original = original.loc[:,required_features]\n",
    "\n",
    "# subsetting from the income data\n",
    "required_features2 = ['Date of Birth','Gender','Income','NumOfProducts']\n",
    "subset_balance = balance_df.loc[:,required_features2]"
   ]
  },
  {
   "cell_type": "markdown",
   "metadata": {},
   "source": [
    "### Data Cleaning"
   ]
  },
  {
   "cell_type": "code",
   "execution_count": 420,
   "metadata": {},
   "outputs": [],
   "source": [
    "# Changing date of birth to date time and them convert it to age\n",
    "subset_balance['Date of Birth'] = pd.to_datetime(subset_balance['Date of Birth'])\n",
    "reference_date = pd.Timestamp('2024-01-01')\n",
    "subset_balance['Date of Birth'] = reference_date.year - subset_balance['Date of Birth'].dt.year\n",
    "\n",
    "# Changing income into income category\n",
    "bins = [0, 40000, 60000, 80000, 120000, float('inf')]\n",
    "labels = ['Less than 40', '40 - 60', '60 - 80', '80 - 120', '120 +']\n",
    "subset_balance['Income'] = pd.cut(subset_balance['Income'], bins=bins, labels=labels, right=False)\n",
    "\n",
    "# Recoding Male to M...\n",
    "subset_balance['Gender'] = subset_balance['Gender'].replace({'Male':'M','Female':'F'})\n",
    "\n",
    "# Renaming the balance_subset dataframe\n",
    "subset_balance = subset_balance.rename(columns = {'Date of Birth' : \"Customer_Age\", \n",
    "                                        'Income' : \"Income_Category\", 'NumOfProducts':\"No_of_product\"})\n",
    "\n",
    "# Converting object to category\n",
    "subset_balance['Gender'] = subset_balance['Gender'].astype('category')\n",
    "\n",
    "# Scaling \n",
    "scaler = MinMaxScaler()\n",
    "subset_balance[['Customer_Age','No_of_product']] = scaler.fit_transform(subset_balance[['Customer_Age','No_of_product']])\n",
    "subset_original[['Customer_Age','No_of_product']] = scaler.fit_transform(subset_original[['Customer_Age','No_of_product']])\n"
   ]
  },
  {
   "cell_type": "markdown",
   "metadata": {},
   "source": [
    "### Savings and Investment"
   ]
  },
  {
   "cell_type": "code",
   "execution_count": 451,
   "metadata": {},
   "outputs": [
    {
     "name": "stderr",
     "output_type": "stream",
     "text": [
      "/Users/liviajaison/anaconda3/lib/python3.11/site-packages/sklearn/cluster/_kmeans.py:1412: FutureWarning: The default value of `n_init` will change from 10 to 'auto' in 1.4. Set the value of `n_init` explicitly to suppress the warning\n",
      "  super()._check_params_vs_input(X, default_n_init=10)\n"
     ]
    },
    {
     "data": {
      "text/html": [
       "<div>\n",
       "<style scoped>\n",
       "    .dataframe tbody tr th:only-of-type {\n",
       "        vertical-align: middle;\n",
       "    }\n",
       "\n",
       "    .dataframe tbody tr th {\n",
       "        vertical-align: top;\n",
       "    }\n",
       "\n",
       "    .dataframe thead th {\n",
       "        text-align: right;\n",
       "    }\n",
       "</style>\n",
       "<table border=\"1\" class=\"dataframe\">\n",
       "  <thead>\n",
       "    <tr style=\"text-align: right;\">\n",
       "      <th></th>\n",
       "      <th>CLIENTNUM</th>\n",
       "      <th>Attrition_Flag</th>\n",
       "      <th>Customer_Age</th>\n",
       "      <th>Gender</th>\n",
       "      <th>Dependent_count</th>\n",
       "      <th>Education_Level</th>\n",
       "      <th>Marital_Status</th>\n",
       "      <th>Income_Category</th>\n",
       "      <th>Card_Category</th>\n",
       "      <th>Month_with_bank</th>\n",
       "      <th>No_of_product</th>\n",
       "      <th>Months_Inactive_12_mon</th>\n",
       "      <th>Credit_Limit</th>\n",
       "      <th>Total_Revolving_Bal</th>\n",
       "      <th>Total_Trans_Amt</th>\n",
       "      <th>Total_Trans_Count</th>\n",
       "      <th>Avg_Utilization_Ratio</th>\n",
       "      <th>Savings</th>\n",
       "    </tr>\n",
       "  </thead>\n",
       "  <tbody>\n",
       "    <tr>\n",
       "      <th>0</th>\n",
       "      <td>768805383</td>\n",
       "      <td>Existing Customer</td>\n",
       "      <td>45</td>\n",
       "      <td>M</td>\n",
       "      <td>3</td>\n",
       "      <td>High School</td>\n",
       "      <td>Married</td>\n",
       "      <td>60 - 80</td>\n",
       "      <td>Blue</td>\n",
       "      <td>39</td>\n",
       "      <td>5</td>\n",
       "      <td>1</td>\n",
       "      <td>12691.0</td>\n",
       "      <td>777</td>\n",
       "      <td>1144</td>\n",
       "      <td>42</td>\n",
       "      <td>0.061</td>\n",
       "      <td>382432.76</td>\n",
       "    </tr>\n",
       "    <tr>\n",
       "      <th>1</th>\n",
       "      <td>818770008</td>\n",
       "      <td>Existing Customer</td>\n",
       "      <td>49</td>\n",
       "      <td>F</td>\n",
       "      <td>5</td>\n",
       "      <td>Graduate</td>\n",
       "      <td>Single</td>\n",
       "      <td>Less than 40</td>\n",
       "      <td>Blue</td>\n",
       "      <td>44</td>\n",
       "      <td>6</td>\n",
       "      <td>1</td>\n",
       "      <td>8256.0</td>\n",
       "      <td>864</td>\n",
       "      <td>1291</td>\n",
       "      <td>33</td>\n",
       "      <td>0.105</td>\n",
       "      <td>113478.31</td>\n",
       "    </tr>\n",
       "    <tr>\n",
       "      <th>2</th>\n",
       "      <td>713982108</td>\n",
       "      <td>Existing Customer</td>\n",
       "      <td>51</td>\n",
       "      <td>M</td>\n",
       "      <td>3</td>\n",
       "      <td>Graduate</td>\n",
       "      <td>Married</td>\n",
       "      <td>80 - 120</td>\n",
       "      <td>Blue</td>\n",
       "      <td>36</td>\n",
       "      <td>4</td>\n",
       "      <td>1</td>\n",
       "      <td>3418.0</td>\n",
       "      <td>0</td>\n",
       "      <td>1887</td>\n",
       "      <td>20</td>\n",
       "      <td>0.000</td>\n",
       "      <td>279771.55</td>\n",
       "    </tr>\n",
       "    <tr>\n",
       "      <th>4</th>\n",
       "      <td>709106358</td>\n",
       "      <td>Existing Customer</td>\n",
       "      <td>40</td>\n",
       "      <td>M</td>\n",
       "      <td>3</td>\n",
       "      <td>Uneducated</td>\n",
       "      <td>Married</td>\n",
       "      <td>60 - 80</td>\n",
       "      <td>Blue</td>\n",
       "      <td>21</td>\n",
       "      <td>5</td>\n",
       "      <td>1</td>\n",
       "      <td>4716.0</td>\n",
       "      <td>0</td>\n",
       "      <td>816</td>\n",
       "      <td>28</td>\n",
       "      <td>0.000</td>\n",
       "      <td>176644.77</td>\n",
       "    </tr>\n",
       "    <tr>\n",
       "      <th>5</th>\n",
       "      <td>713061558</td>\n",
       "      <td>Existing Customer</td>\n",
       "      <td>44</td>\n",
       "      <td>M</td>\n",
       "      <td>2</td>\n",
       "      <td>Graduate</td>\n",
       "      <td>Married</td>\n",
       "      <td>40 - 60</td>\n",
       "      <td>Blue</td>\n",
       "      <td>36</td>\n",
       "      <td>3</td>\n",
       "      <td>1</td>\n",
       "      <td>4010.0</td>\n",
       "      <td>1247</td>\n",
       "      <td>1088</td>\n",
       "      <td>24</td>\n",
       "      <td>0.311</td>\n",
       "      <td>0.00</td>\n",
       "    </tr>\n",
       "  </tbody>\n",
       "</table>\n",
       "</div>"
      ],
      "text/plain": [
       "   CLIENTNUM     Attrition_Flag  Customer_Age Gender  Dependent_count  \\\n",
       "0  768805383  Existing Customer            45      M                3   \n",
       "1  818770008  Existing Customer            49      F                5   \n",
       "2  713982108  Existing Customer            51      M                3   \n",
       "4  709106358  Existing Customer            40      M                3   \n",
       "5  713061558  Existing Customer            44      M                2   \n",
       "\n",
       "  Education_Level Marital_Status Income_Category Card_Category  \\\n",
       "0     High School        Married         60 - 80          Blue   \n",
       "1        Graduate         Single    Less than 40          Blue   \n",
       "2        Graduate        Married        80 - 120          Blue   \n",
       "4      Uneducated        Married         60 - 80          Blue   \n",
       "5        Graduate        Married         40 - 60          Blue   \n",
       "\n",
       "   Month_with_bank  No_of_product  Months_Inactive_12_mon  Credit_Limit  \\\n",
       "0               39              5                       1       12691.0   \n",
       "1               44              6                       1        8256.0   \n",
       "2               36              4                       1        3418.0   \n",
       "4               21              5                       1        4716.0   \n",
       "5               36              3                       1        4010.0   \n",
       "\n",
       "   Total_Revolving_Bal  Total_Trans_Amt  Total_Trans_Count  \\\n",
       "0                  777             1144                 42   \n",
       "1                  864             1291                 33   \n",
       "2                    0             1887                 20   \n",
       "4                    0              816                 28   \n",
       "5                 1247             1088                 24   \n",
       "\n",
       "   Avg_Utilization_Ratio    Savings  \n",
       "0                  0.061  382432.76  \n",
       "1                  0.105  113478.31  \n",
       "2                  0.000  279771.55  \n",
       "4                  0.000  176644.77  \n",
       "5                  0.311       0.00  "
      ]
     },
     "execution_count": 451,
     "metadata": {},
     "output_type": "execute_result"
    }
   ],
   "source": [
    "#Savings\n",
    "from sklearn.cluster import KMeans\n",
    "\n",
    "original_copy = original\n",
    "sav = pd.read_csv(\"../data/credit_score.csv\") \n",
    "# https://www.kaggle.com/datasets/conorsully1/credit-score?resource=download\n",
    "\n",
    "# convert income into income category then one-hot encoding\n",
    "bins = [0, 40000, 60000, 80000, 120000, float('inf')]\n",
    "labels = ['Less than 40', '40 - 60', '60 - 80', '80 - 120', '120 +']\n",
    "sav['Income_Category'] = pd.cut(sav['INCOME'], bins = bins, labels = labels, right = False)\n",
    "sav = pd.get_dummies(sav, columns=['Income_Category'], drop_first=True)\n",
    "\n",
    "# clustering\n",
    "features = sav[['Income_Category_40 - 60', 'Income_Category_60 - 80', 'Income_Category_80 - 120', 'Income_Category_120 +']]\n",
    "\n",
    "kmeans = KMeans(n_clusters=3)\n",
    "sav['Cluster'] = kmeans.fit_predict(features)\n",
    "\n",
    "# fitting normal distribution\n",
    "stats = sav.groupby('Cluster')['SAVINGS'].agg(['mean', 'std']).reset_index()\n",
    "stats.columns = ['Cluster', 'Mean', 'SD']\n",
    "\n",
    "def sample(cluster):\n",
    "    mean = stats.loc[stats['Cluster'] == cluster, 'Mean'].values[0]\n",
    "    sd = stats.loc[stats['Cluster'] == cluster, 'SD'].values[0]\n",
    "    return round(max(np.random.normal(mean, sd), 0), 2) #avoid savings being negative & change to 2 decimal places\n",
    "\n",
    "sav['Savings'] = sav['Cluster'].apply(sample)\n",
    "\n",
    "# fitting into original\n",
    "original_copy = pd.get_dummies(original_copy, columns=['Income_Category'], drop_first = False)\n",
    "original_copy['Cluster'] = kmeans.predict(original_copy[['Income_Category_40 - 60', 'Income_Category_60 - 80', 'Income_Category_80 - 120', 'Income_Category_120 +']])\n",
    "original_copy['Savings'] = original_copy['Cluster'].apply(sample)\n",
    "original['Savings'] = original_copy['Savings']"
   ]
  },
  {
   "cell_type": "code",
   "execution_count": 501,
   "metadata": {},
   "outputs": [],
   "source": [
    "# Investment\n",
    "from faker import Faker\n",
    "\n",
    "faker = Faker()\n",
    "# building fake investment based on their income level and savings\n",
    "def investment(row):\n",
    "    base = faker.random_int(1200, 12000) #invest $100-$1000 per month\n",
    "    if row['Income_Category'] == 'Less than 40':\n",
    "        factor = 1\n",
    "    elif row['Income_Category'] == '40 - 60':\n",
    "        factor = 1.5\n",
    "    elif row['Income_Category'] == '60 - 80':\n",
    "        factor = 2\n",
    "    elif row['Income_Category'] == '80 - 120':\n",
    "        factor = 2\n",
    "    elif row['Income_Category'] == '120 +':\n",
    "        factor = 2.5\n",
    "    # take into account their savings\n",
    "    save = min(row['Savings']/10000, 5)\n",
    "    if row['Savings'] == 0.00:\n",
    "        save = 1 #they can still invest with no savings\n",
    "    # if their savings is small: using a basing investment off a portion of that\n",
    "    investment = base * factor * save\n",
    "    return round(investment, 2)\n",
    "\n",
    "original['Investment'] = original.apply(investment, axis = 1)"
   ]
  },
  {
   "cell_type": "markdown",
   "metadata": {},
   "source": [
    "### Fitting model, KMEANS"
   ]
  },
  {
   "cell_type": "code",
   "execution_count": 515,
   "metadata": {},
   "outputs": [
    {
     "data": {
      "text/plain": [
       "CLIENTNUM                         713061558\n",
       "Attrition_Flag            Existing Customer\n",
       "Customer_Age                             44\n",
       "Gender                                    M\n",
       "Dependent_count                           2\n",
       "Education_Level                    Graduate\n",
       "Marital_Status                      Married\n",
       "Income_Category                     40 - 60\n",
       "Card_Category                          Blue\n",
       "Month_with_bank                          36\n",
       "No_of_product                             3\n",
       "Months_Inactive_12_mon                    1\n",
       "Credit_Limit                         4010.0\n",
       "Total_Revolving_Bal                    1247\n",
       "Total_Trans_Amt                        1088\n",
       "Total_Trans_Count                        24\n",
       "Avg_Utilization_Ratio                 0.311\n",
       "Savings                                 0.0\n",
       "Investment                           9669.0\n",
       "Name: 5, dtype: object"
      ]
     },
     "execution_count": 515,
     "metadata": {},
     "output_type": "execute_result"
    }
   ],
   "source": [
    "original.iloc[4]"
   ]
  },
  {
   "cell_type": "code",
   "execution_count": 483,
   "metadata": {},
   "outputs": [
    {
     "data": {
      "text/plain": [
       "0.011331"
      ]
     },
     "execution_count": 483,
     "metadata": {},
     "output_type": "execute_result"
    }
   ],
   "source": [
    "min(113.31 / 10000, 2.0)\n"
   ]
  },
  {
   "cell_type": "code",
   "execution_count": null,
   "metadata": {},
   "outputs": [],
   "source": []
  }
 ],
 "metadata": {
  "kernelspec": {
   "display_name": "Python 3 (ipykernel)",
   "language": "python",
   "name": "python3"
  },
  "language_info": {
   "codemirror_mode": {
    "name": "ipython",
    "version": 3
   },
   "file_extension": ".py",
   "mimetype": "text/x-python",
   "name": "python",
   "nbconvert_exporter": "python",
   "pygments_lexer": "ipython3",
   "version": "3.11.5"
  }
 },
 "nbformat": 4,
 "nbformat_minor": 4
}
