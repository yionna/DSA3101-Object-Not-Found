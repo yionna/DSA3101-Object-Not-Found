{
 "cells": [
  {
   "cell_type": "code",
   "execution_count": 1,
   "metadata": {},
   "outputs": [
    {
     "name": "stderr",
     "output_type": "stream",
     "text": [
      "Matplotlib is building the font cache; this may take a moment.\n"
     ]
    }
   ],
   "source": [
    "import pandas as pd\n",
    "import numpy as np\n",
    "from datetime import datetime\n",
    "from sklearn.cluster import KMeans\n",
    "from sdv.single_table import GaussianCopulaSynthesizer\n",
    "from sklearn.preprocessing import MinMaxScaler, LabelEncoder\n",
    "import matplotlib.pyplot as plt\n",
    "from scipy.stats import norm"
   ]
  },
  {
   "cell_type": "markdown",
   "metadata": {},
   "source": [
    "# 1. Data cleaning"
   ]
  },
  {
   "cell_type": "code",
   "execution_count": 2,
   "metadata": {},
   "outputs": [],
   "source": [
    "original = pd.read_csv(\"../data/BankChurners.csv\")\n",
    "balance_df = pd.read_csv(\"../data/botswana_bank_customer_churn.csv\")\n",
    "technical_df = pd.read_csv(\"../data/User churn.csv\")"
   ]
  },
  {
   "cell_type": "code",
   "execution_count": 3,
   "metadata": {},
   "outputs": [],
   "source": [
    "# removing irrelevent columns\n",
    "original = original.drop(original.columns[[-1, -2]], axis=1)\n",
    "original = original.drop(columns=['Avg_Open_To_Buy','Total_Amt_Chng_Q4_Q1','Contacts_Count_12_mon','Total_Ct_Chng_Q4_Q1'])\n",
    "\n",
    "# renaming the datasets\n",
    "original = original.rename(columns={'Months_on_book' : 'Month_with_bank',\n",
    "                                    'Total_Relationship_Count' : 'No_of_product',\n",
    "                                    'Total_Trans_Ct' : 'Total_Trans_Count'})\n",
    "\n",
    "# removing Na from the dataset\n",
    "original_Unknown = original[original.isin(['Unknown']).any(axis=1)] # someone handle the unknown please\n",
    "original = original[~original.isin(['Unknown']).any(axis=1)]\n"
   ]
  },
  {
   "cell_type": "code",
   "execution_count": 4,
   "metadata": {},
   "outputs": [],
   "source": [
    "# this function will remove the k,$ and + sign in the income category column\n",
    "def clean_col(x):\n",
    "        if 'K' in x:\n",
    "            return x.replace('K','').replace('$','')\n",
    "        elif '+' in x:\n",
    "            return x.replace('+','')\n",
    "        elif x =='Less than 40':\n",
    "            return x.split()[2]\n",
    "        return x\n",
    "    \n",
    "original['Income_Category']=original['Income_Category'].apply(clean_col)"
   ]
  },
  {
   "cell_type": "code",
   "execution_count": 5,
   "metadata": {},
   "outputs": [],
   "source": [
    "# Converting object into category\n",
    "categorical_features = ['Attrition_Flag','Gender','Education_Level','Marital_Status','Income_Category','Card_Category']\n",
    "for category in categorical_features:\n",
    "    original[category] = original[category].astype('category')"
   ]
  },
  {
   "cell_type": "markdown",
   "metadata": {},
   "source": [
    "# 2. Synthetic data "
   ]
  },
  {
   "cell_type": "markdown",
   "metadata": {},
   "source": [
    "## 2.1 Balance dataset"
   ]
  },
  {
   "cell_type": "markdown",
   "metadata": {},
   "source": [
    "Adding in  `Credit Score`,`Outstanding Loans`, `Balance` from balance dataset. The final dataframe is stored as `final_df`"
   ]
  },
  {
   "cell_type": "markdown",
   "metadata": {},
   "source": [
    "### 2.1.1 Feature selection"
   ]
  },
  {
   "cell_type": "code",
   "execution_count": 6,
   "metadata": {},
   "outputs": [],
   "source": [
    "# subsetting from the original data\n",
    "required_features = [\"CLIENTNUM\",\"Customer_Age\",\"Gender\",\"Income_Category\",\"No_of_product\"]\n",
    "subset_original = original.loc[:,required_features]\n",
    "\n",
    "# subsetting from the income data\n",
    "required_features2 = ['Date of Birth','Gender','Income','NumOfProducts','Credit Score','Outstanding Loans', 'Balance']\n",
    "subset_balance = balance_df.loc[:,required_features2]"
   ]
  },
  {
   "cell_type": "markdown",
   "metadata": {},
   "source": [
    "### 2.1.2 Data Cleaning"
   ]
  },
  {
   "cell_type": "code",
   "execution_count": 7,
   "metadata": {},
   "outputs": [],
   "source": [
    "# Changing date of birth to date time and them convert it to age\n",
    "subset_balance['Date of Birth'] = pd.to_datetime(subset_balance['Date of Birth'])\n",
    "reference_date = pd.Timestamp('2024-01-01')\n",
    "subset_balance['Date of Birth'] = reference_date.year - subset_balance['Date of Birth'].dt.year\n",
    "\n",
    "# Changing income into income category\n",
    "bins = [0, 40000, 60000, 80000, 120000, float('inf')]\n",
    "labels = ['Less than 40', '40 - 60', '60 - 80', '80 - 120', '120 +']\n",
    "subset_balance['Income'] = pd.cut(subset_balance['Income'], bins=bins, labels=labels, right=False)\n",
    "\n",
    "# Recoding Male to M...\n",
    "subset_balance['Gender'] = subset_balance['Gender'].replace({'Male':'M','Female':'F'})\n",
    "\n",
    "# Renaming the balance_subset dataframe\n",
    "subset_balance = subset_balance.rename(columns = {'Date of Birth' : \"Customer_Age\", \n",
    "                                        'Income' : \"Income_Category\", 'NumOfProducts' : \"No_of_product\"})\n",
    "\n",
    "# Converting object to category\n",
    "subset_balance['Gender'] = subset_balance['Gender'].astype('category')"
   ]
  },
  {
   "cell_type": "markdown",
   "metadata": {},
   "source": [
    "### 2.1.3 Data Transformation"
   ]
  },
  {
   "cell_type": "code",
   "execution_count": 8,
   "metadata": {},
   "outputs": [],
   "source": [
    "#Scaling \n",
    "scaler = MinMaxScaler()\n",
    "subset_balance[['Customer_Age','No_of_product']] = scaler.fit_transform(subset_balance[['Customer_Age','No_of_product']])\n",
    "subset_original[['Customer_Age','No_of_product']] = scaler.fit_transform(subset_original[['Customer_Age','No_of_product']])\n",
    "\n",
    "# Encode the categorical variables\n",
    "le_gender = LabelEncoder()\n",
    "subset_balance['Gender_Encoded'] = le_gender.fit_transform(subset_balance['Gender'])\n",
    "subset_original['Gender_Encoded'] = le_gender.fit_transform(subset_original['Gender'])\n",
    "\n",
    "le_income = LabelEncoder()\n",
    "subset_balance['Income_Category_Encoded'] = le_income.fit_transform(subset_balance['Income_Category'])\n",
    "subset_original['Income_Category_Encoded'] = le_income.fit_transform(subset_original['Income_Category'])\n",
    "\n",
    "# Extract relevant features for clustering\n",
    "features_balance = subset_balance[['Customer_Age', 'No_of_product', 'Gender_Encoded', 'Income_Category_Encoded']]\n",
    "features_original = subset_original[['Customer_Age', 'No_of_product', 'Gender_Encoded', 'Income_Category_Encoded']]"
   ]
  },
  {
   "cell_type": "markdown",
   "metadata": {},
   "source": [
    "### 2.1.4 Model Training"
   ]
  },
  {
   "cell_type": "code",
   "execution_count": 9,
   "metadata": {},
   "outputs": [],
   "source": [
    "# Perform KMeans clustering on balance data and find optimal clusters\n",
    "cluster_range = range(2, 7)  # Define the range of cluster numbers to test\n",
    "inertia_values = []  # Inertia will help determine the optimal cluster number\n",
    "\n",
    "for k in cluster_range:\n",
    "    kmeans = KMeans(n_clusters=k, random_state=42)\n",
    "    kmeans.fit(features_balance)\n",
    "    inertia_values.append(kmeans.inertia_)"
   ]
  },
  {
   "cell_type": "code",
   "execution_count": 10,
   "metadata": {},
   "outputs": [
    {
     "data": {
      "image/png": "[encoded data removed]",
      "text/plain": [
       "<Figure size 800x500 with 1 Axes>"
      ]
     },
     "metadata": {},
     "output_type": "display_data"
    }
   ],
   "source": [
    "# Plot the elbow method to determine the best cluster count\n",
    "plt.figure(figsize=(8, 5))\n",
    "plt.plot(cluster_range, inertia_values, marker='o', linestyle='--', color='b')\n",
    "plt.title('Elbow Method for Optimal Number of Clusters')\n",
    "plt.xlabel('Number of Clusters')\n",
    "plt.ylabel('Inertia')\n",
    "plt.grid(True)\n",
    "plt.show()"
   ]
  },
  {
   "cell_type": "code",
   "execution_count": 11,
   "metadata": {},
   "outputs": [],
   "source": [
    "# Fit the final KMeans model with the selected number of clusters\n",
    "optimal_k = 5  # Choosen based on the elbow plot\n",
    "kmeans_final = KMeans(n_clusters=optimal_k, random_state=3101)\n",
    "kmeans_final.fit(features_balance)\n",
    "subset_balance['Cluster_Labels'] = kmeans_final.labels_\n",
    "\n",
    "#Predict cluster labels for the original subset using the same KMeans model\n",
    "subset_original['Cluster_Labels'] = kmeans_final.predict(features_original)"
   ]
  },
  {
   "cell_type": "code",
   "execution_count": 12,
   "metadata": {},
   "outputs": [],
   "source": [
    "# List of target variables\n",
    "target_columns = ['Credit Score','Outstanding Loans', 'Balance']\n",
    "\n",
    "# Dictionary to hold fitted parameters (mean, std) for each cluster and each target variable\n",
    "cluster_params = {}\n",
    "\n",
    "for target in target_columns:\n",
    "    cluster_params[target] = {}\n",
    "    # Group by clusters\n",
    "    for cluster in subset_balance['Cluster_Labels'].unique():\n",
    "        cluster_data = subset_balance[subset_balance['Cluster_Labels'] == cluster][target]\n",
    "        # Fit a normal distribution to the data in the cluster\n",
    "        mean, std = norm.fit(cluster_data)\n",
    "        cluster_params[target][cluster] = (mean, std)"
   ]
  },
  {
   "cell_type": "code",
   "execution_count": 13,
   "metadata": {},
   "outputs": [],
   "source": [
    "# Create a function to draw samples based on the cluster label using CLIENTNUM\n",
    "def generate_synthetic_data_with_clientnum(base_data, cluster_params, target):\n",
    "    # Initialize a dictionary for storing CLIENTNUM and synthetic values\n",
    "    synthetic_values = {}\n",
    "    \n",
    "    # Iterate over each record in the base data\n",
    "    for idx, row in base_data.iterrows():\n",
    "        clientnum = row['CLIENTNUM']  # Fetch the unique identifier\n",
    "        cluster_label = row['Cluster_Labels']  # Assuming cluster labels are already assigned to base data\n",
    "        mean, std = cluster_params[target][cluster_label]\n",
    "        \n",
    "        # Draw a sample from the normal distribution\n",
    "        synthetic_value = norm.rvs(loc=mean, scale=std)\n",
    "        \n",
    "        # Store the synthetic value with CLIENTNUM as the key\n",
    "        synthetic_values[clientnum] = synthetic_value\n",
    "    \n",
    "    return synthetic_values\n",
    "\n",
    "# Generate synthetic data for each target variable in the original subset\n",
    "for target in target_columns:\n",
    "    synthetic_data = generate_synthetic_data_with_clientnum(subset_original, cluster_params, target)\n",
    "    \n",
    "    # Add the synthetic data to the original subset using CLIENTNUM as the identifier\n",
    "    subset_original[f'Synthetic_{target}'] = subset_original['CLIENTNUM'].map(synthetic_data)"
   ]
  },
  {
   "cell_type": "code",
   "execution_count": 14,
   "metadata": {},
   "outputs": [],
   "source": [
    "# resulting dataframe\n",
    "features_final = ['CLIENTNUM','Synthetic_Credit Score',\n",
    "       'Synthetic_Outstanding Loans', 'Synthetic_Balance']\n",
    "\n",
    "final_df = subset_original.loc[:,features_final]"
   ]
  },
  {
   "cell_type": "markdown",
   "metadata": {},
   "source": [
    "## 2.2 Technical dataset"
   ]
  },
  {
   "cell_type": "markdown",
   "metadata": {},
   "source": [
    "This section aims to generate artificial data for digital engagement."
   ]
  },
  {
   "cell_type": "markdown",
   "metadata": {},
   "source": [
    "### 2.2.1 Feature Selection"
   ]
  },
  {
   "cell_type": "code",
   "execution_count": 153,
   "metadata": {},
   "outputs": [],
   "source": [
    "required_features_original = ['CLIENTNUM', 'Gender', 'Customer_Age', 'Marital_Status', 'Dependent_count', 'Attrition_Flag']\n",
    "subset_original2 = original.loc[:,required_features_original]\n",
    "\n",
    "required_features_tech = ['gender', 'SeniorCitizen', 'Partner', 'Dependents', 'Churn',\n",
    "                          'PhoneService', 'InternetService', 'TechSupport', 'PaperlessBilling', 'PaymentMethod']\n",
    "subset_technical = technical_df.loc[:,required_features_tech]"
   ]
  },
  {
   "cell_type": "markdown",
   "metadata": {},
   "source": [
    "### 2.2.2 Data Cleaning"
   ]
  },
  {
   "cell_type": "code",
   "execution_count": 154,
   "metadata": {},
   "outputs": [],
   "source": [
    "subset_original2['SeniorCitizen'] = (subset_original2['Customer_Age'] > 60).astype(int)\n",
    "subset_original2['Dependents'] = subset_original2['Dependent_count'].apply(lambda x: 'Yes' if x > 0 else 'No')\n",
    "\n",
    "subset_original2.drop(['Customer_Age', 'Dependent_count'], axis = 1, inplace = True)\n",
    "\n",
    "subset_technical['gender'] = subset_technical['gender'].replace({'Male':'M','Female':'F'})\n",
    "subset_technical['Churn'] = subset_technical['Churn'].replace({'Attrited Customer':'Yes','Existing Customer':'No'})\n",
    "subset_technical['Partner'] = subset_technical['Partner'].replace({'Married':'Yes','Single':'No'})\n",
    "\n",
    "subset_technical = subset_technical.rename(columns = {'gender' : \"Gender\", 'Churn' : \"Attrition_Flag\", 'Partner' : \"Marital_Status\"})"
   ]
  },
  {
   "cell_type": "markdown",
   "metadata": {},
   "source": [
    "### 2.2.3 Data Transformation"
   ]
  },
  {
   "cell_type": "code",
   "execution_count": 155,
   "metadata": {},
   "outputs": [],
   "source": [
    "modified_features_tech = ['Gender', 'SeniorCitizen', 'Marital_Status', 'Dependents', 'Attrition_Flag', \n",
    "                          'PhoneService', 'InternetService', 'TechSupport', 'PaperlessBilling', 'PaymentMethod']\n",
    "for feature in modified_features_tech:\n",
    "    subset_technical[feature] = subset_technical[feature].astype('category')\n",
    "    if feature in subset_original2:\n",
    "        subset_original2[feature] = subset_original2[feature].astype('category')\n",
    "\n",
    "for feature in modified_features_tech:\n",
    "    le_technical = LabelEncoder()\n",
    "    subset_technical[feature + '_Encoded'] = le_technical.fit_transform(subset_technical[feature])\n",
    "    if feature in subset_original2:\n",
    "        le_original2 = LabelEncoder()\n",
    "        subset_original2[feature + '_Encoded'] = le_original2.fit_transform(subset_original2[feature])\n",
    "\n",
    "features_original2 = subset_original2[['Gender_Encoded', 'SeniorCitizen_Encoded', 'Marital_Status_Encoded', 'Dependents_Encoded', 'Attrition_Flag_Encoded']]\n",
    "features_technical = subset_technical[['Gender_Encoded', 'SeniorCitizen_Encoded', 'Marital_Status_Encoded', 'Dependents_Encoded', 'Attrition_Flag_Encoded']]"
   ]
  },
  {
   "cell_type": "markdown",
   "metadata": {},
   "source": [
    "### 2.2.4 Model Training"
   ]
  },
  {
   "cell_type": "code",
   "execution_count": 156,
   "metadata": {},
   "outputs": [],
   "source": [
    "# Perform KMeans clustering on balance data and find optimal clusters\n",
    "cluster_range2 = range(2, 10)  # Define the range of cluster numbers to test\n",
    "inertia_values2 = []  # Inertia will help determine the optimal cluster number\n",
    "\n",
    "for k in cluster_range2:\n",
    "    kmeans = KMeans(n_clusters=k, random_state=42)\n",
    "    kmeans.fit(features_technical)\n",
    "    inertia_values2.append(kmeans.inertia_)"
   ]
  },
  {
   "cell_type": "code",
   "execution_count": 157,
   "metadata": {},
   "outputs": [
    {
     "data": {
      "image/png": "[encoded data removed]",
      "text/plain": [
       "<Figure size 800x500 with 1 Axes>"
      ]
     },
     "metadata": {},
     "output_type": "display_data"
    }
   ],
   "source": [
    "plt.figure(figsize=(8, 5))\n",
    "plt.plot(cluster_range2, inertia_values2, marker='o', linestyle='--', color='b')\n",
    "plt.title('Elbow Method for Optimal Number of Clusters for Technical Features')\n",
    "plt.xlabel('Number of Clusters')\n",
    "plt.ylabel('Inertia')\n",
    "plt.grid(True)\n",
    "plt.show()"
   ]
  },
  {
   "cell_type": "code",
   "execution_count": 158,
   "metadata": {},
   "outputs": [],
   "source": [
    "# Fit the final KMeans model with the selected number of clusters\n",
    "optimal_k_technical = 5  # Choosen based on the elbow plot\n",
    "kmeans_technical = KMeans(n_clusters=optimal_k, random_state=3101)\n",
    "kmeans_technical.fit(features_technical)\n",
    "subset_technical['Cluster_Labels'] = kmeans_technical.labels_\n",
    "\n",
    "#Predict cluster labels for the original subset using the same KMeans model\n",
    "subset_original2['Cluster_Labels'] = kmeans_technical.predict(features_original2)"
   ]
  },
  {
   "cell_type": "code",
   "execution_count": 159,
   "metadata": {},
   "outputs": [],
   "source": [
    "# Calculate the distribution of PhoneService\n",
    "phone_service_distribution = (\n",
    "    subset_technical.groupby('Cluster_Labels')['PhoneService_Encoded']\n",
    "    .value_counts(normalize=True)\n",
    "    .unstack(fill_value=0)\n",
    ")\n",
    "\n",
    "# Calculate the distribution of InternetService\n",
    "internet_service_distribution = (\n",
    "    subset_technical.groupby('Cluster_Labels')['InternetService_Encoded']\n",
    "    .value_counts(normalize=True)\n",
    "    .unstack(fill_value=0)\n",
    ")\n",
    "\n",
    "# Calculate the distribution of TechSupport\n",
    "tech_support_distribution = (\n",
    "    subset_technical.groupby('Cluster_Labels')['TechSupport_Encoded']\n",
    "    .value_counts(normalize=True)\n",
    "    .unstack(fill_value=0)\n",
    ")\n",
    "\n",
    "# Calculate the distribution of PaperlessBilling\n",
    "paperless_billing_distribution = (\n",
    "    subset_technical.groupby('Cluster_Labels')['PaperlessBilling_Encoded']\n",
    "    .value_counts(normalize=True)\n",
    "    .unstack(fill_value=0)\n",
    ")\n",
    "\n",
    "# Calculate the distribution of PaymentMethod\n",
    "payment_method_distribution = (\n",
    "    subset_technical.groupby('Cluster_Labels')['PaymentMethod_Encoded']\n",
    "    .value_counts(normalize=True)\n",
    "    .unstack(fill_value=0)\n",
    ")"
   ]
  },
  {
   "cell_type": "code",
   "execution_count": 151,
   "metadata": {},
   "outputs": [],
   "source": [
    "def generate_synthetic_features(df, distribution):\n",
    "    synthetic_feature = []\n",
    "    \n",
    "    for _, row in df.iterrows():\n",
    "        cluster = row['Cluster_Labels']\n",
    "        \n",
    "        # Sample a new feature based on the defined probabilities\n",
    "        sample = np.random.choice(\n",
    "            distribution.columns,  # Possible features to sample from\n",
    "            p=distribution.loc[cluster].values  # Probabilities for the respective features\n",
    "        )\n",
    "        synthetic_feature.append(sample)\n",
    "            \n",
    "    return synthetic_feature\n",
    "\n",
    "# Generate synthetic features\n",
    "subset_original2['PhoneService'] = generate_synthetic_features(subset_original2, phone_service_distribution)\n",
    "subset_original2['InternetService'] = generate_synthetic_features(subset_original2, internet_service_distribution)\n",
    "subset_original2['TechSupport'] = generate_synthetic_features(subset_original2, tech_support_distribution)\n",
    "subset_original2['PaperlessBilling'] = generate_synthetic_features(subset_original2, paperless_billing_distribution)\n",
    "subset_original2['TechSupport'] = generate_synthetic_features(subset_original2, payment_method_distribution)"
   ]
  },
  {
   "cell_type": "code",
   "execution_count": 152,
   "metadata": {},
   "outputs": [
    {
     "data": {
      "text/html": [
       "<div>\n",
       "<style scoped>\n",
       "    .dataframe tbody tr th:only-of-type {\n",
       "        vertical-align: middle;\n",
       "    }\n",
       "\n",
       "    .dataframe tbody tr th {\n",
       "        vertical-align: top;\n",
       "    }\n",
       "\n",
       "    .dataframe thead th {\n",
       "        text-align: right;\n",
       "    }\n",
       "</style>\n",
       "<table border=\"1\" class=\"dataframe\">\n",
       "  <thead>\n",
       "    <tr style=\"text-align: right;\">\n",
       "      <th></th>\n",
       "      <th>CLIENTNUM</th>\n",
       "      <th>Gender</th>\n",
       "      <th>Marital_Status</th>\n",
       "      <th>Attrition_Flag</th>\n",
       "      <th>SeniorCitizen</th>\n",
       "      <th>Dependents</th>\n",
       "      <th>Gender_Encoded</th>\n",
       "      <th>SeniorCitizen_Encoded</th>\n",
       "      <th>Marital_Status_Encoded</th>\n",
       "      <th>Dependents_Encoded</th>\n",
       "      <th>Attrition_Flag_Encoded</th>\n",
       "      <th>Cluster_Labels</th>\n",
       "      <th>PhoneService</th>\n",
       "      <th>InternetService</th>\n",
       "      <th>TechSupport</th>\n",
       "      <th>PaperlessBilling</th>\n",
       "    </tr>\n",
       "  </thead>\n",
       "  <tbody>\n",
       "    <tr>\n",
       "      <th>0</th>\n",
       "      <td>768805383</td>\n",
       "      <td>M</td>\n",
       "      <td>Married</td>\n",
       "      <td>Existing Customer</td>\n",
       "      <td>0</td>\n",
       "      <td>Yes</td>\n",
       "      <td>1</td>\n",
       "      <td>0</td>\n",
       "      <td>1</td>\n",
       "      <td>1</td>\n",
       "      <td>1</td>\n",
       "      <td>1</td>\n",
       "      <td>1</td>\n",
       "      <td>0</td>\n",
       "      <td>2</td>\n",
       "      <td>0</td>\n",
       "    </tr>\n",
       "    <tr>\n",
       "      <th>1</th>\n",
       "      <td>818770008</td>\n",
       "      <td>F</td>\n",
       "      <td>Single</td>\n",
       "      <td>Existing Customer</td>\n",
       "      <td>0</td>\n",
       "      <td>Yes</td>\n",
       "      <td>0</td>\n",
       "      <td>0</td>\n",
       "      <td>2</td>\n",
       "      <td>1</td>\n",
       "      <td>1</td>\n",
       "      <td>2</td>\n",
       "      <td>1</td>\n",
       "      <td>1</td>\n",
       "      <td>3</td>\n",
       "      <td>0</td>\n",
       "    </tr>\n",
       "    <tr>\n",
       "      <th>2</th>\n",
       "      <td>713982108</td>\n",
       "      <td>M</td>\n",
       "      <td>Married</td>\n",
       "      <td>Existing Customer</td>\n",
       "      <td>0</td>\n",
       "      <td>Yes</td>\n",
       "      <td>1</td>\n",
       "      <td>0</td>\n",
       "      <td>1</td>\n",
       "      <td>1</td>\n",
       "      <td>1</td>\n",
       "      <td>1</td>\n",
       "      <td>1</td>\n",
       "      <td>1</td>\n",
       "      <td>3</td>\n",
       "      <td>0</td>\n",
       "    </tr>\n",
       "    <tr>\n",
       "      <th>4</th>\n",
       "      <td>709106358</td>\n",
       "      <td>M</td>\n",
       "      <td>Married</td>\n",
       "      <td>Existing Customer</td>\n",
       "      <td>0</td>\n",
       "      <td>Yes</td>\n",
       "      <td>1</td>\n",
       "      <td>0</td>\n",
       "      <td>1</td>\n",
       "      <td>1</td>\n",
       "      <td>1</td>\n",
       "      <td>1</td>\n",
       "      <td>1</td>\n",
       "      <td>1</td>\n",
       "      <td>2</td>\n",
       "      <td>1</td>\n",
       "    </tr>\n",
       "    <tr>\n",
       "      <th>5</th>\n",
       "      <td>713061558</td>\n",
       "      <td>M</td>\n",
       "      <td>Married</td>\n",
       "      <td>Existing Customer</td>\n",
       "      <td>0</td>\n",
       "      <td>Yes</td>\n",
       "      <td>1</td>\n",
       "      <td>0</td>\n",
       "      <td>1</td>\n",
       "      <td>1</td>\n",
       "      <td>1</td>\n",
       "      <td>1</td>\n",
       "      <td>1</td>\n",
       "      <td>2</td>\n",
       "      <td>0</td>\n",
       "      <td>1</td>\n",
       "    </tr>\n",
       "  </tbody>\n",
       "</table>\n",
       "</div>"
      ],
      "text/plain": [
       "   CLIENTNUM Gender Marital_Status     Attrition_Flag SeniorCitizen  \\\n",
       "0  768805383      M        Married  Existing Customer             0   \n",
       "1  818770008      F         Single  Existing Customer             0   \n",
       "2  713982108      M        Married  Existing Customer             0   \n",
       "4  709106358      M        Married  Existing Customer             0   \n",
       "5  713061558      M        Married  Existing Customer             0   \n",
       "\n",
       "  Dependents  Gender_Encoded  SeniorCitizen_Encoded  Marital_Status_Encoded  \\\n",
       "0        Yes               1                      0                       1   \n",
       "1        Yes               0                      0                       2   \n",
       "2        Yes               1                      0                       1   \n",
       "4        Yes               1                      0                       1   \n",
       "5        Yes               1                      0                       1   \n",
       "\n",
       "   Dependents_Encoded  Attrition_Flag_Encoded  Cluster_Labels  PhoneService  \\\n",
       "0                   1                       1               1             1   \n",
       "1                   1                       1               2             1   \n",
       "2                   1                       1               1             1   \n",
       "4                   1                       1               1             1   \n",
       "5                   1                       1               1             1   \n",
       "\n",
       "   InternetService  TechSupport  PaperlessBilling  \n",
       "0                0            2                 0  \n",
       "1                1            3                 0  \n",
       "2                1            3                 0  \n",
       "4                1            2                 1  \n",
       "5                2            0                 1  "
      ]
     },
     "execution_count": 152,
     "metadata": {},
     "output_type": "execute_result"
    }
   ],
   "source": [
    "subset_original2.head()"
   ]
  }
 ],
 "metadata": {
  "kernelspec": {
   "display_name": "Python 3",
   "language": "python",
   "name": "python3"
  },
  "language_info": {
   "codemirror_mode": {
    "name": "ipython",
    "version": 3
   },
   "file_extension": ".py",
   "mimetype": "text/x-python",
   "name": "python",
   "nbconvert_exporter": "python",
   "pygments_lexer": "ipython3",
   "version": "3.10.6"
  }
 },
 "nbformat": 4,
 "nbformat_minor": 2
}
