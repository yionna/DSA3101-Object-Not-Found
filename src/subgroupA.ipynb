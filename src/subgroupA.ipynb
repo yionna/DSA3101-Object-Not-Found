{
 "cells": [
  {
   "cell_type": "code",
   "execution_count": 87,
   "metadata": {},
   "outputs": [],
   "source": [
    "import pandas as pd\n",
    "import numpy as np\n",
    "from datetime import datetime\n",
    "from sklearn.cluster import KMeans\n",
    "from sdv.single_table import GaussianCopulaSynthesizer\n",
    "from sklearn.preprocessing import MinMaxScaler, LabelEncoder\n",
    "import matplotlib.pyplot as plt\n",
    "from scipy.stats import norm"
   ]
  },
  {
   "cell_type": "markdown",
   "metadata": {},
   "source": [
    "## Data cleaning"
   ]
  },
  {
   "cell_type": "code",
   "execution_count": 88,
   "metadata": {},
   "outputs": [],
   "source": [
    "original = pd.read_csv(\"../data/BankChurners.csv\")\n",
    "balance_df = pd.read_csv(\"../data/botswana_bank_customer_churn.csv\")"
   ]
  },
  {
   "cell_type": "code",
   "execution_count": 89,
   "metadata": {},
   "outputs": [],
   "source": [
    "# removing irrelevent columns\n",
    "original = original.drop(original.columns[[-1, -2]], axis=1)\n",
    "original = original.drop(columns=['Avg_Open_To_Buy','Total_Amt_Chng_Q4_Q1','Contacts_Count_12_mon','Total_Ct_Chng_Q4_Q1'])\n",
    "\n",
    "# renaming the datasets\n",
    "original = original.rename(columns={'Months_on_book' : 'Month_with_bank',\n",
    "                                    'Total_Relationship_Count' : 'No_of_product',\n",
    "                                    'Total_Trans_Ct' : 'Total_Trans_Count'})\n",
    "\n",
    "# removing Na from the dataset\n",
    "original_Unknown = original[original.isin(['Unknown']).any(axis=1)] # someone handle the unknown please\n",
    "original = original[~original.isin(['Unknown']).any(axis=1)]\n"
   ]
  },
  {
   "cell_type": "code",
   "execution_count": 90,
   "metadata": {},
   "outputs": [],
   "source": [
    "# this function will remove the k,$ and + sign in the income category column\n",
    "def clean_col(x):\n",
    "        if 'K' in x:\n",
    "            return x.replace('K','').replace('$','')\n",
    "        elif '+' in x:\n",
    "            return x.replace('+','')\n",
    "        elif x =='Less than 40':\n",
    "            return x.split()[2]\n",
    "        return x\n",
    "    \n",
    "original['Income_Category']=original['Income_Category'].apply(clean_col)"
   ]
  },
  {
   "cell_type": "code",
   "execution_count": 91,
   "metadata": {},
   "outputs": [],
   "source": [
    "# Converting object into category\n",
    "categorical_features = ['Attrition_Flag','Gender','Education_Level','Marital_Status','Income_Category','Card_Category']\n",
    "for category in categorical_features:\n",
    "    original[category] = original[category].astype('category')"
   ]
  },
  {
   "cell_type": "markdown",
   "metadata": {},
   "source": [
    "## Generating synthetic data"
   ]
  },
  {
   "cell_type": "markdown",
   "metadata": {},
   "source": [
    "Adding in  `Credit Score`,`Outstanding Loans`, `Balance` from balance dataset. The final dataframe is stored as `final_df`"
   ]
  },
  {
   "cell_type": "markdown",
   "metadata": {},
   "source": [
    "### Feature selection"
   ]
  },
  {
   "cell_type": "code",
   "execution_count": 92,
   "metadata": {},
   "outputs": [],
   "source": [
    "# subsetting from the original data\n",
    "required_features = [\"CLIENTNUM\",\"Customer_Age\",\"Gender\",\"Income_Category\",\"No_of_product\"]\n",
    "subset_original = original.loc[:,required_features]\n",
    "\n",
    "# subsetting from the income data\n",
    "required_features2 = ['Date of Birth','Gender','Income','NumOfProducts','Credit Score','Outstanding Loans', 'Balance']\n",
    "subset_balance = balance_df.loc[:,required_features2]"
   ]
  },
  {
   "cell_type": "markdown",
   "metadata": {},
   "source": [
    "### Data Cleaning"
   ]
  },
  {
   "cell_type": "code",
   "execution_count": 93,
   "metadata": {},
   "outputs": [],
   "source": [
    "# Changing date of birth to date time and them convert it to age\n",
    "subset_balance['Date of Birth'] = pd.to_datetime(subset_balance['Date of Birth'])\n",
    "reference_date = pd.Timestamp('2024-01-01')\n",
    "subset_balance['Date of Birth'] = reference_date.year - subset_balance['Date of Birth'].dt.year\n",
    "\n",
    "# Changing income into income category\n",
    "bins = [0, 40000, 60000, 80000, 120000, float('inf')]\n",
    "labels = ['Less than 40', '40 - 60', '60 - 80', '80 - 120', '120 +']\n",
    "subset_balance['Income'] = pd.cut(subset_balance['Income'], bins=bins, labels=labels, right=False)\n",
    "\n",
    "# Recoding Male to M...\n",
    "subset_balance['Gender'] = subset_balance['Gender'].replace({'Male':'M','Female':'F'})\n",
    "\n",
    "# Renaming the balance_subset dataframe\n",
    "subset_balance = subset_balance.rename(columns = {'Date of Birth' : \"Customer_Age\", \n",
    "                                        'Income' : \"Income_Category\", 'NumOfProducts':\"No_of_product\"})\n",
    "\n",
    "# Converting object to category\n",
    "subset_balance['Gender'] = subset_balance['Gender'].astype('category')"
   ]
  },
  {
   "cell_type": "markdown",
   "metadata": {},
   "source": [
    "### Data Transformation"
   ]
  },
  {
   "cell_type": "code",
   "execution_count": 94,
   "metadata": {},
   "outputs": [],
   "source": [
    "#Scaling \n",
    "scaler = MinMaxScaler()\n",
    "subset_balance[['Customer_Age','No_of_product']] = scaler.fit_transform(subset_balance[['Customer_Age','No_of_product']])\n",
    "subset_original[['Customer_Age','No_of_product']] = scaler.fit_transform(subset_original[['Customer_Age','No_of_product']])\n",
    "\n",
    "# Encode the categorical variables\n",
    "le_gender = LabelEncoder()\n",
    "subset_balance['Gender_Encoded'] = le_gender.fit_transform(subset_balance['Gender'])\n",
    "subset_original['Gender_Encoded'] = le_gender.fit_transform(subset_original['Gender'])\n",
    "\n",
    "le_income = LabelEncoder()\n",
    "subset_balance['Income_Category_Encoded'] = le_income.fit_transform(subset_balance['Income_Category'])\n",
    "subset_original['Income_Category_Encoded'] = le_income.fit_transform(subset_original['Income_Category'])\n",
    "\n",
    "# Extract relevant features for clustering\n",
    "features_balance = subset_balance[['Customer_Age', 'No_of_product', 'Gender_Encoded', 'Income_Category_Encoded']]\n",
    "features_original = subset_original[['Customer_Age', 'No_of_product', 'Gender_Encoded', 'Income_Category_Encoded']]\n",
    "\n"
   ]
  },
  {
   "cell_type": "markdown",
   "metadata": {},
   "source": [
    "### Clustering, KMEANS"
   ]
  },
  {
   "cell_type": "code",
   "execution_count": 95,
   "metadata": {},
   "outputs": [],
   "source": [
    "# Perform KMeans clustering on balance data and find optimal clusters\n",
    "cluster_range = range(2, 7)  # Define the range of cluster numbers to test\n",
    "inertia_values = []  # Inertia will help determine the optimal cluster number\n",
    "\n",
    "for k in cluster_range:\n",
    "    kmeans = KMeans(n_clusters=k, random_state=42)\n",
    "    kmeans.fit(features_balance)\n",
    "    inertia_values.append(kmeans.inertia_)"
   ]
  },
  {
   "cell_type": "code",
   "execution_count": 96,
   "metadata": {},
   "outputs": [
    {
     "data": {
      "image/png": "[encoded data removed]",
      "text/plain": [
       "<Figure size 800x500 with 1 Axes>"
      ]
     },
     "metadata": {},
     "output_type": "display_data"
    }
   ],
   "source": [
    "# Plot the elbow method to determine the best cluster count\n",
    "plt.figure(figsize=(8, 5))\n",
    "plt.plot(cluster_range, inertia_values, marker='o', linestyle='--', color='b')\n",
    "plt.title('Elbow Method for Optimal Number of Clusters')\n",
    "plt.xlabel('Number of Clusters')\n",
    "plt.ylabel('Inertia')\n",
    "plt.grid(True)\n",
    "plt.show()"
   ]
  },
  {
   "cell_type": "code",
   "execution_count": 97,
   "metadata": {},
   "outputs": [],
   "source": [
    "# Fit the final KMeans model with the selected number of clusters\n",
    "optimal_k = 5  # Choosen based on the elbow plot\n",
    "kmeans_final = KMeans(n_clusters=optimal_k, random_state=3101)\n",
    "kmeans_final.fit(features_balance)\n",
    "subset_balance['Cluster_Labels'] = kmeans_final.labels_\n",
    "\n",
    "#Predict cluster labels for the original subset using the same KMeans model\n",
    "subset_original['Cluster_Labels'] = kmeans_final.predict(features_original)\n"
   ]
  },
  {
   "cell_type": "code",
   "execution_count": 98,
   "metadata": {},
   "outputs": [],
   "source": [
    "# List of target variables\n",
    "target_columns = ['Credit Score','Outstanding Loans', 'Balance']\n",
    "\n",
    "# Dictionary to hold fitted parameters (mean, std) for each cluster and each target variable\n",
    "cluster_params = {}\n",
    "\n",
    "for target in target_columns:\n",
    "    cluster_params[target] = {}\n",
    "    # Group by clusters\n",
    "    for cluster in subset_balance['Cluster_Labels'].unique():\n",
    "        cluster_data = subset_balance[subset_balance['Cluster_Labels'] == cluster][target]\n",
    "        # Fit a normal distribution to the data in the cluster\n",
    "        mean, std = norm.fit(cluster_data)\n",
    "        cluster_params[target][cluster] = (mean, std)"
   ]
  },
  {
   "cell_type": "code",
   "execution_count": 99,
   "metadata": {},
   "outputs": [],
   "source": [
    "# Create a function to draw samples based on the cluster label using CLIENTNUM\n",
    "def generate_synthetic_data_with_clientnum(base_data, cluster_params, target):\n",
    "    # Initialize a dictionary for storing CLIENTNUM and synthetic values\n",
    "    synthetic_values = {}\n",
    "    \n",
    "    # Iterate over each record in the base data\n",
    "    for idx, row in base_data.iterrows():\n",
    "        clientnum = row['CLIENTNUM']  # Fetch the unique identifier\n",
    "        cluster_label = row['Cluster_Labels']  # Assuming cluster labels are already assigned to base data\n",
    "        mean, std = cluster_params[target][cluster_label]\n",
    "        \n",
    "        # Draw a sample from the normal distribution\n",
    "        synthetic_value = norm.rvs(loc=mean, scale=std)\n",
    "        \n",
    "        # Store the synthetic value with CLIENTNUM as the key\n",
    "        synthetic_values[clientnum] = synthetic_value\n",
    "    \n",
    "    return synthetic_values\n",
    "\n",
    "# Generate synthetic data for each target variable in the original subset\n",
    "for target in target_columns:\n",
    "    synthetic_data = generate_synthetic_data_with_clientnum(subset_original, cluster_params, target)\n",
    "    \n",
    "    # Add the synthetic data to the original subset using CLIENTNUM as the identifier\n",
    "    subset_original[f'Synthetic_{target}'] = subset_original['CLIENTNUM'].map(synthetic_data)"
   ]
  },
  {
   "cell_type": "code",
   "execution_count": 100,
   "metadata": {},
   "outputs": [
    {
     "data": {
      "text/plain": [
       "Index(['CLIENTNUM', 'Customer_Age', 'Gender', 'Income_Category',\n",
       "       'No_of_product', 'Gender_Encoded', 'Income_Category_Encoded',\n",
       "       'Cluster_Labels', 'Synthetic_Credit Score',\n",
       "       'Synthetic_Outstanding Loans', 'Synthetic_Balance'],\n",
       "      dtype='object')"
      ]
     },
     "execution_count": 100,
     "metadata": {},
     "output_type": "execute_result"
    }
   ],
   "source": [
    "subset_original.columns"
   ]
  },
  {
   "cell_type": "code",
   "execution_count": 103,
   "metadata": {},
   "outputs": [],
   "source": [
    "# resulting dataframe\n",
    "features_final = ['CLIENTNUM','Synthetic_Credit Score',\n",
    "       'Synthetic_Outstanding Loans', 'Synthetic_Balance']\n",
    "\n",
    "final_df = subset_original.loc[:,features_final]"
   ]
  }
 ],
 "metadata": {
  "kernelspec": {
   "display_name": "DSA3101",
   "language": "python",
   "name": "python3"
  },
  "language_info": {
   "codemirror_mode": {
    "name": "ipython",
    "version": 3
   },
   "file_extension": ".py",
   "mimetype": "text/x-python",
   "name": "python",
   "nbconvert_exporter": "python",
   "pygments_lexer": "ipython3",
   "version": "3.11.9"
  }
 },
 "nbformat": 4,
 "nbformat_minor": 2
}
