{
 "cells": [
  {
   "cell_type": "code",
   "execution_count": 113,
   "metadata": {},
   "outputs": [],
   "source": [
    "import pandas as pd\n",
    "import numpy as np\n",
    "from sklearn.cluster import KMeans\n",
    "from sklearn.preprocessing import MinMaxScaler, LabelEncoder\n",
    "import matplotlib.pyplot as plt\n",
    "import seaborn as sns\n",
    "from scipy.stats import norm"
   ]
  },
  {
   "cell_type": "markdown",
   "metadata": {},
   "source": [
    "# 1. Data cleaning"
   ]
  },
  {
   "cell_type": "code",
   "execution_count": 114,
   "metadata": {},
   "outputs": [],
   "source": [
    "original = pd.read_csv(\"../data/BankChurners.csv\")\n",
    "balance_df = pd.read_csv(\"../data/botswana_bank_customer_churn.csv\")\n",
    "technical_df = pd.read_csv(\"../data/User churn.csv\")"
   ]
  },
  {
   "cell_type": "code",
   "execution_count": 115,
   "metadata": {},
   "outputs": [],
   "source": [
    "# removing irrelevent columns\n",
    "original = original.drop(original.columns[[-1, -2]], axis=1)\n",
    "original = original.drop(columns=['Avg_Open_To_Buy','Total_Amt_Chng_Q4_Q1','Contacts_Count_12_mon','Total_Ct_Chng_Q4_Q1'])\n",
    "\n",
    "# renaming the datasets\n",
    "original = original.rename(columns={'Months_on_book' : 'Month_with_bank',\n",
    "                                    'Total_Relationship_Count' : 'No_of_product',\n",
    "                                    'Total_Trans_Ct' : 'Total_Trans_Count'})\n",
    "\n",
    "# removing Na from the dataset\n",
    "original_Unknown = original[original.isin(['Unknown']).any(axis=1)] # someone handle the unknown please\n",
    "original = original[~original.isin(['Unknown']).any(axis=1)]\n"
   ]
  },
  {
   "cell_type": "code",
   "execution_count": 116,
   "metadata": {},
   "outputs": [],
   "source": [
    "# this function will remove the k,$ and + sign in the income category column\n",
    "def clean_col(x):\n",
    "        if 'K' in x:\n",
    "            return x.replace('K','').replace('$','')\n",
    "        elif '+' in x:\n",
    "            return x.replace('+','')\n",
    "        elif x =='Less than 40':\n",
    "            return x.split()[2]\n",
    "        return x\n",
    "    \n",
    "original['Income_Category']=original['Income_Category'].apply(clean_col)"
   ]
  },
  {
   "cell_type": "code",
   "execution_count": 117,
   "metadata": {},
   "outputs": [],
   "source": [
    "# Converting object into category\n",
    "categorical_features = ['Attrition_Flag','Gender','Education_Level','Marital_Status','Income_Category','Card_Category']\n",
    "for category in categorical_features:\n",
    "    original[category] = original[category].astype('category')"
   ]
  },
  {
   "cell_type": "markdown",
   "metadata": {},
   "source": [
    "# 2. Synthetic data "
   ]
  },
  {
   "cell_type": "markdown",
   "metadata": {},
   "source": [
    "## 2.1 Balance dataset"
   ]
  },
  {
   "cell_type": "markdown",
   "metadata": {},
   "source": [
    "Adding in  `Credit Score`,`Outstanding Loans`, `Balance` from balance dataset. The final dataframe is stored as `final_df`"
   ]
  },
  {
   "cell_type": "markdown",
   "metadata": {},
   "source": [
    "### 2.1.1 Feature selection"
   ]
  },
  {
   "cell_type": "code",
   "execution_count": 118,
   "metadata": {},
   "outputs": [],
   "source": [
    "# subsetting from the original data\n",
    "required_features = [\"CLIENTNUM\",\"Customer_Age\",\"Gender\",\"Income_Category\",\"No_of_product\"]\n",
    "subset_original = original.loc[:,required_features]\n",
    "\n",
    "# subsetting from the income data\n",
    "required_features2 = ['Date of Birth','Gender','Income','NumOfProducts','Credit Score','Outstanding Loans', 'Balance']\n",
    "subset_balance = balance_df.loc[:,required_features2]"
   ]
  },
  {
   "cell_type": "markdown",
   "metadata": {},
   "source": [
    "### 2.1.2 Data Cleaning"
   ]
  },
  {
   "cell_type": "code",
   "execution_count": 119,
   "metadata": {},
   "outputs": [],
   "source": [
    "# Changing date of birth to date time and them convert it to age\n",
    "subset_balance['Date of Birth'] = pd.to_datetime(subset_balance['Date of Birth'])\n",
    "reference_date = pd.Timestamp('2024-01-01')\n",
    "subset_balance['Date of Birth'] = reference_date.year - subset_balance['Date of Birth'].dt.year\n",
    "\n",
    "# Changing income into income category\n",
    "bins = [0, 40000, 60000, 80000, 120000, float('inf')]\n",
    "labels = ['Less than 40', '40 - 60', '60 - 80', '80 - 120', '120 +']\n",
    "subset_balance['Income'] = pd.cut(subset_balance['Income'], bins=bins, labels=labels, right=False)\n",
    "\n",
    "# Recoding Male to M...\n",
    "subset_balance['Gender'] = subset_balance['Gender'].replace({'Male':'M','Female':'F'})\n",
    "\n",
    "# Renaming the balance_subset dataframe\n",
    "subset_balance = subset_balance.rename(columns = {'Date of Birth' : \"Customer_Age\", \n",
    "                                        'Income' : \"Income_Category\", 'NumOfProducts' : \"No_of_product\"})\n",
    "\n",
    "# Converting object to category\n",
    "subset_balance['Gender'] = subset_balance['Gender'].astype('category')"
   ]
  },
  {
   "cell_type": "markdown",
   "metadata": {},
   "source": [
    "### 2.1.3 Data Transformation"
   ]
  },
  {
   "cell_type": "code",
   "execution_count": 120,
   "metadata": {},
   "outputs": [],
   "source": [
    "#Scaling \n",
    "scaler = MinMaxScaler()\n",
    "subset_balance[['Customer_Age','No_of_product']] = scaler.fit_transform(subset_balance[['Customer_Age','No_of_product']])\n",
    "subset_original[['Customer_Age','No_of_product']] = scaler.fit_transform(subset_original[['Customer_Age','No_of_product']])\n",
    "\n",
    "# Encode the categorical variables\n",
    "le_gender = LabelEncoder()\n",
    "subset_balance['Gender_Encoded'] = le_gender.fit_transform(subset_balance['Gender'])\n",
    "subset_original['Gender_Encoded'] = le_gender.fit_transform(subset_original['Gender'])\n",
    "\n",
    "le_income = LabelEncoder()\n",
    "subset_balance['Income_Category_Encoded'] = le_income.fit_transform(subset_balance['Income_Category'])\n",
    "subset_original['Income_Category_Encoded'] = le_income.fit_transform(subset_original['Income_Category'])\n",
    "\n",
    "# Extract relevant features for clustering\n",
    "features_balance = subset_balance[['Customer_Age', 'No_of_product', 'Gender_Encoded', 'Income_Category_Encoded']]\n",
    "features_original = subset_original[['Customer_Age', 'No_of_product', 'Gender_Encoded', 'Income_Category_Encoded']]"
   ]
  },
  {
   "cell_type": "markdown",
   "metadata": {},
   "source": [
    "### 2.1.4 Model Training"
   ]
  },
  {
   "cell_type": "code",
   "execution_count": 121,
   "metadata": {},
   "outputs": [],
   "source": [
    "# Perform KMeans clustering on balance data and find optimal clusters\n",
    "cluster_range = range(2, 7)  # Define the range of cluster numbers to test\n",
    "inertia_values = []  # Inertia will help determine the optimal cluster number\n",
    "\n",
    "for k in cluster_range:\n",
    "    kmeans = KMeans(n_clusters=k, random_state=42)\n",
    "    kmeans.fit(features_balance)\n",
    "    inertia_values.append(kmeans.inertia_)"
   ]
  },
  {
   "cell_type": "code",
   "execution_count": 122,
   "metadata": {},
   "outputs": [
    {
     "data": {
      "image/png": "[encoded data removed]",
      "text/plain": [
       "<Figure size 800x500 with 1 Axes>"
      ]
     },
     "metadata": {},
     "output_type": "display_data"
    }
   ],
   "source": [
    "# Plot the elbow method to determine the best cluster count\n",
    "plt.figure(figsize=(8, 5))\n",
    "plt.plot(cluster_range, inertia_values, marker='o', linestyle='--', color='b')\n",
    "plt.title('Elbow Method for Optimal Number of Clusters')\n",
    "plt.xlabel('Number of Clusters')\n",
    "plt.ylabel('Inertia')\n",
    "plt.grid(True)\n",
    "plt.show()"
   ]
  },
  {
   "cell_type": "code",
   "execution_count": 123,
   "metadata": {},
   "outputs": [],
   "source": [
    "# Fit the final KMeans model with the selected number of clusters\n",
    "optimal_k = 5  # Choosen based on the elbow plot\n",
    "kmeans_final = KMeans(n_clusters=optimal_k, random_state=3101)\n",
    "kmeans_final.fit(features_balance)\n",
    "subset_balance['Cluster_Labels'] = kmeans_final.labels_\n",
    "\n",
    "#Predict cluster labels for the original subset using the same KMeans model\n",
    "subset_original['Cluster_Labels'] = kmeans_final.predict(features_original)"
   ]
  },
  {
   "cell_type": "code",
   "execution_count": 124,
   "metadata": {},
   "outputs": [],
   "source": [
    "# List of target variables\n",
    "target_columns = ['Credit Score','Outstanding Loans', 'Balance']\n",
    "\n",
    "# Dictionary to hold fitted parameters (mean, std) for each cluster and each target variable\n",
    "cluster_params = {}\n",
    "\n",
    "for target in target_columns:\n",
    "    cluster_params[target] = {}\n",
    "    # Group by clusters\n",
    "    for cluster in subset_balance['Cluster_Labels'].unique():\n",
    "        cluster_data = subset_balance[subset_balance['Cluster_Labels'] == cluster][target]\n",
    "        # Fit a normal distribution to the data in the cluster\n",
    "        mean, std = norm.fit(cluster_data)\n",
    "        cluster_params[target][cluster] = (mean, std)"
   ]
  },
  {
   "cell_type": "code",
   "execution_count": 125,
   "metadata": {},
   "outputs": [],
   "source": [
    "# Create a function to draw samples based on the cluster label using CLIENTNUM\n",
    "def generate_synthetic_data_with_clientnum(base_data, cluster_params, target):\n",
    "    # Initialize a dictionary for storing CLIENTNUM and synthetic values\n",
    "    synthetic_values = {}\n",
    "    \n",
    "    # Iterate over each record in the base data\n",
    "    for idx, row in base_data.iterrows():\n",
    "        clientnum = row['CLIENTNUM']  # Fetch the unique identifier\n",
    "        cluster_label = row['Cluster_Labels']  # Assuming cluster labels are already assigned to base data\n",
    "        mean, std = cluster_params[target][cluster_label]\n",
    "        \n",
    "        # Draw a sample from the normal distribution\n",
    "        synthetic_value = norm.rvs(loc=mean, scale=std)\n",
    "        \n",
    "        # Store the synthetic value with CLIENTNUM as the key\n",
    "        synthetic_values[clientnum] = synthetic_value\n",
    "    \n",
    "    return synthetic_values\n",
    "\n",
    "# Generate synthetic data for each target variable in the original subset\n",
    "for target in target_columns:\n",
    "    synthetic_data = generate_synthetic_data_with_clientnum(subset_original, cluster_params, target)\n",
    "    \n",
    "    # Add the synthetic data to the original subset using CLIENTNUM as the identifier\n",
    "    subset_original[f'{target}'] = subset_original['CLIENTNUM'].map(synthetic_data)"
   ]
  },
  {
   "cell_type": "markdown",
   "metadata": {},
   "source": [
    "## 2.2 Technical dataset"
   ]
  },
  {
   "cell_type": "markdown",
   "metadata": {},
   "source": [
    "This section aims to generate artificial data for digital engagement."
   ]
  },
  {
   "cell_type": "markdown",
   "metadata": {},
   "source": [
    "### 2.2.1 Feature Selection"
   ]
  },
  {
   "cell_type": "code",
   "execution_count": 126,
   "metadata": {},
   "outputs": [],
   "source": [
    "required_features_original = ['CLIENTNUM', 'Gender', 'Customer_Age', 'Marital_Status', 'Dependent_count', 'Attrition_Flag']\n",
    "subset_original2 = original.loc[:,required_features_original]\n",
    "\n",
    "required_features_tech = ['gender', 'SeniorCitizen', 'Partner', 'Dependents', 'Churn',\n",
    "                          'PhoneService', 'InternetService', 'TechSupport', 'PaperlessBilling', 'PaymentMethod']\n",
    "subset_technical = technical_df.loc[:,required_features_tech]"
   ]
  },
  {
   "cell_type": "markdown",
   "metadata": {},
   "source": [
    "### 2.2.2 Data Cleaning"
   ]
  },
  {
   "cell_type": "code",
   "execution_count": 127,
   "metadata": {},
   "outputs": [],
   "source": [
    "subset_original2['SeniorCitizen'] = (subset_original2['Customer_Age'] > 60).astype(int)\n",
    "subset_original2['Dependents'] = subset_original2['Dependent_count'].apply(lambda x: 'Yes' if x > 0 else 'No')\n",
    "\n",
    "subset_original2.drop(['Customer_Age', 'Dependent_count'], axis = 1, inplace = True)\n",
    "\n",
    "subset_technical['gender'] = subset_technical['gender'].replace({'Male':'M','Female':'F'})\n",
    "subset_technical['Churn'] = subset_technical['Churn'].replace({'Attrited Customer':'Yes','Existing Customer':'No'})\n",
    "subset_technical['Partner'] = subset_technical['Partner'].replace({'Married':'Yes','Single':'No'})\n",
    "\n",
    "subset_technical = subset_technical.rename(columns = {'gender' : \"Gender\", 'Churn' : \"Attrition_Flag\", 'Partner' : \"Marital_Status\"})"
   ]
  },
  {
   "cell_type": "markdown",
   "metadata": {},
   "source": [
    "### 2.2.3 Data Transformation"
   ]
  },
  {
   "cell_type": "code",
   "execution_count": 128,
   "metadata": {},
   "outputs": [
    {
     "name": "stdout",
     "output_type": "stream",
     "text": [
      "Encodings for subset_technical:\n",
      "Gender: {'F': 0, 'M': 1}\n",
      "SeniorCitizen: {0: 0, 1: 1}\n",
      "Marital_Status: {'No': 0, 'Yes': 1}\n",
      "Dependents: {'No': 0, 'Yes': 1}\n",
      "Attrition_Flag: {'No': 0, 'Yes': 1}\n",
      "PhoneService: {'No': 0, 'Yes': 1}\n",
      "InternetService: {'DSL': 0, 'Fiber optic': 1, 'No': 2}\n",
      "TechSupport: {'No': 0, 'No internet service': 1, 'Yes': 2}\n",
      "PaperlessBilling: {'No': 0, 'Yes': 1}\n",
      "PaymentMethod: {'Bank transfer (automatic)': 0, 'Credit card (automatic)': 1, 'Electronic check': 2, 'Mailed check': 3}\n",
      "\n",
      "Encodings for subset_original2:\n",
      "Gender: {'F': 0, 'M': 1}\n",
      "SeniorCitizen: {0: 0, 1: 1}\n",
      "Marital_Status: {'Divorced': 0, 'Married': 1, 'Single': 2}\n",
      "Dependents: {'No': 0, 'Yes': 1}\n",
      "Attrition_Flag: {'Attrited Customer': 0, 'Existing Customer': 1}\n"
     ]
    }
   ],
   "source": [
    "from sklearn.preprocessing import LabelEncoder\n",
    "\n",
    "# List of categorical features\n",
    "modified_features_tech = ['Gender', 'SeniorCitizen', 'Marital_Status', 'Dependents', 'Attrition_Flag', \n",
    "                          'PhoneService', 'InternetService', 'TechSupport', 'PaperlessBilling', 'PaymentMethod']\n",
    "\n",
    "# Initialize dictionaries to store encodings\n",
    "encodings_technical = {}\n",
    "encodings_original2 = {}\n",
    "\n",
    "# Encoding for subset_technical\n",
    "for feature in modified_features_tech:\n",
    "    # Convert to category type\n",
    "    subset_technical[feature] = subset_technical[feature].astype('category')\n",
    "    if feature in subset_original2:\n",
    "        subset_original2[feature] = subset_original2[feature].astype('category')\n",
    "\n",
    "# Apply LabelEncoder and show mappings\n",
    "for feature in modified_features_tech:\n",
    "    le_technical = LabelEncoder()\n",
    "    \n",
    "    # Fit and transform for subset_technical\n",
    "    subset_technical[feature + '_Encoded'] = le_technical.fit_transform(subset_technical[feature])\n",
    "    \n",
    "    # Store the mapping for subset_technical\n",
    "    encodings_technical[feature] = dict(zip(le_technical.classes_, le_technical.transform(le_technical.classes_)))\n",
    "    \n",
    "    # If feature exists in subset_original2, apply encoding\n",
    "    if feature in subset_original2:\n",
    "        le_original2 = LabelEncoder()\n",
    "        subset_original2[feature + '_Encoded'] = le_original2.fit_transform(subset_original2[feature])\n",
    "        \n",
    "        # Store the mapping for subset_original2\n",
    "        encodings_original2[feature] = dict(zip(le_original2.classes_, le_original2.transform(le_original2.classes_)))\n",
    "\n",
    "features_original2 = subset_original2[['Gender_Encoded', 'SeniorCitizen_Encoded', 'Marital_Status_Encoded', 'Dependents_Encoded', 'Attrition_Flag_Encoded']]\n",
    "features_technical = subset_technical[['Gender_Encoded', 'SeniorCitizen_Encoded', 'Marital_Status_Encoded', 'Dependents_Encoded', 'Attrition_Flag_Encoded']]\n",
    "# Display the encoding mappings\n",
    "print(\"Encodings for subset_technical:\")\n",
    "for feature, mapping in encodings_technical.items():\n",
    "    print(f\"{feature}: {mapping}\")\n",
    "\n",
    "print(\"\\nEncodings for subset_original2:\")\n",
    "for feature, mapping in encodings_original2.items():\n",
    "    print(f\"{feature}: {mapping}\")"
   ]
  },
  {
   "cell_type": "markdown",
   "metadata": {},
   "source": [
    "### 2.2.4 Model Training"
   ]
  },
  {
   "cell_type": "code",
   "execution_count": 129,
   "metadata": {},
   "outputs": [],
   "source": [
    "# Perform KMeans clustering on balance data and find optimal clusters\n",
    "cluster_range2 = range(2, 10)  # Define the range of cluster numbers to test\n",
    "inertia_values2 = []  # Inertia will help determine the optimal cluster number\n",
    "\n",
    "for k in cluster_range2:\n",
    "    kmeans = KMeans(n_clusters=k, random_state=42)\n",
    "    kmeans.fit(features_technical)\n",
    "    inertia_values2.append(kmeans.inertia_)"
   ]
  },
  {
   "cell_type": "code",
   "execution_count": 130,
   "metadata": {},
   "outputs": [
    {
     "data": {
      "image/png": "[encoded data removed]",
      "text/plain": [
       "<Figure size 800x500 with 1 Axes>"
      ]
     },
     "metadata": {},
     "output_type": "display_data"
    }
   ],
   "source": [
    "plt.figure(figsize=(8, 5))\n",
    "plt.plot(cluster_range2, inertia_values2, marker='o', linestyle='--', color='b')\n",
    "plt.title('Elbow Method for Optimal Number of Clusters for Technical Features')\n",
    "plt.xlabel('Number of Clusters')\n",
    "plt.ylabel('Inertia')\n",
    "plt.grid(True)\n",
    "plt.show()"
   ]
  },
  {
   "cell_type": "code",
   "execution_count": 131,
   "metadata": {},
   "outputs": [],
   "source": [
    "# Fit the final KMeans model with the selected number of clusters\n",
    "optimal_k_technical = 5  # Choosen based on the elbow plot\n",
    "kmeans_technical = KMeans(n_clusters=optimal_k, random_state=3101)\n",
    "kmeans_technical.fit(features_technical)\n",
    "subset_technical['Cluster_Labels'] = kmeans_technical.labels_\n",
    "\n",
    "#Predict cluster labels for the original subset using the same KMeans model\n",
    "subset_original2['Cluster_Labels'] = kmeans_technical.predict(features_original2)"
   ]
  },
  {
   "cell_type": "code",
   "execution_count": 132,
   "metadata": {},
   "outputs": [],
   "source": [
    "# Calculate the distribution of PhoneService\n",
    "phone_service_distribution = (\n",
    "    subset_technical.groupby('Cluster_Labels')['PhoneService_Encoded']\n",
    "    .value_counts(normalize=True)\n",
    "    .unstack(fill_value=0)\n",
    ")\n",
    "\n",
    "# Calculate the distribution of InternetService\n",
    "internet_service_distribution = (\n",
    "    subset_technical.groupby('Cluster_Labels')['InternetService_Encoded']\n",
    "    .value_counts(normalize=True)\n",
    "    .unstack(fill_value=0)\n",
    ")\n",
    "\n",
    "# Calculate the distribution of TechSupport\n",
    "tech_support_distribution = (\n",
    "    subset_technical.groupby('Cluster_Labels')['TechSupport_Encoded']\n",
    "    .value_counts(normalize=True)\n",
    "    .unstack(fill_value=0)\n",
    ")\n",
    "\n",
    "# Calculate the distribution of PaperlessBilling\n",
    "paperless_billing_distribution = (\n",
    "    subset_technical.groupby('Cluster_Labels')['PaperlessBilling_Encoded']\n",
    "    .value_counts(normalize=True)\n",
    "    .unstack(fill_value=0)\n",
    ")\n",
    "\n",
    "# Calculate the distribution of PaymentMethod\n",
    "payment_method_distribution = (\n",
    "    subset_technical.groupby('Cluster_Labels')['PaymentMethod_Encoded']\n",
    "    .value_counts(normalize=True)\n",
    "    .unstack(fill_value=0)\n",
    ")"
   ]
  },
  {
   "cell_type": "code",
   "execution_count": 133,
   "metadata": {},
   "outputs": [],
   "source": [
    "def generate_synthetic_features(df, distribution):\n",
    "    synthetic_feature = []\n",
    "    \n",
    "    for _, row in df.iterrows():\n",
    "        cluster = row['Cluster_Labels']\n",
    "        \n",
    "        # Sample a new feature based on the defined probabilities\n",
    "        sample = np.random.choice(\n",
    "            distribution.columns,  # Possible features to sample from\n",
    "            p=distribution.loc[cluster].values  # Probabilities for the respective features\n",
    "        )\n",
    "        synthetic_feature.append(sample)\n",
    "            \n",
    "    return synthetic_feature\n",
    "\n",
    "# Generate synthetic features\n",
    "subset_original2['PhoneService'] = generate_synthetic_features(subset_original2, phone_service_distribution)\n",
    "subset_original2['InternetService'] = generate_synthetic_features(subset_original2, internet_service_distribution)\n",
    "subset_original2['TechSupport'] = generate_synthetic_features(subset_original2, tech_support_distribution)\n",
    "subset_original2['PaperlessBilling'] = generate_synthetic_features(subset_original2, paperless_billing_distribution)\n",
    "subset_original2['PaymentMethod'] = generate_synthetic_features(subset_original2, payment_method_distribution)"
   ]
  },
  {
   "cell_type": "markdown",
   "metadata": {},
   "source": [
    "##### Final synthetic dataframe"
   ]
  },
  {
   "cell_type": "code",
   "execution_count": 134,
   "metadata": {},
   "outputs": [],
   "source": [
    "# Making the final segmentation data for actual segmentation\n",
    "\n",
    "# Feature from original dataset\n",
    "feature_from_original = ['CLIENTNUM','Income_Category','No_of_product',\n",
    "                         'Total_Trans_Amt', 'Total_Trans_Count']\n",
    "temp1 = original.loc[:,feature_from_original]\n",
    "\n",
    "# Feature from balance\n",
    "final_balance_features = ['CLIENTNUM','Credit Score',\n",
    "       'Outstanding Loans', 'Balance']\n",
    "temp2 = subset_original.loc[:,final_balance_features]\n",
    "\n",
    "# Feature from technical\n",
    "final_tech_features = ['CLIENTNUM','PhoneService','InternetService','TechSupport','PaperlessBilling','PaymentMethod']\n",
    "temp3  = subset_original2.loc[:,final_tech_features]\n",
    "\n",
    "\n",
    "# Joingning them all together\n",
    "temp4 = pd.merge(temp1, temp2, on='CLIENTNUM', how='inner')\n",
    "final_df = pd.merge(temp4, temp3, on='CLIENTNUM', how = 'inner')"
   ]
  },
  {
   "cell_type": "markdown",
   "metadata": {},
   "source": [
    "# 3. Customer Segmentation"
   ]
  },
  {
   "cell_type": "markdown",
   "metadata": {},
   "source": [
    "## 3.1 Feature Engineering Rules\n",
    "\n",
    "### 3.1.1 Digital Engagement\n",
    "We will combine the following features to create the `Digital_Engagement` score:\n",
    "- **PhoneService**: If the customer has phone service (`PhoneService = 1`), add 1 point.\n",
    "- **InternetService**: \n",
    "  - If the customer has **Fiber optic internet** (`InternetService = 1`), add 2 points.\n",
    "  - If **DSL** (`InternetService = 0`), add 1 point.\n",
    "- **TechSupport**: \n",
    "  - If the customer uses tech support (`TechSupport = 2`), add 2 points.\n",
    "  - If no tech support (`TechSupport = 0`), add 0 points.\n",
    "- **PaperlessBilling**: If the customer has paperless billing (`PaperlessBilling = 1`), add 1 point.\n",
    "- **PaymentMethod**: \n",
    "  - If the customer uses **automatic payments** (`PaymentMethod = 0 or 1`), add 2 points.\n",
    "  - If **electronic check** (`PaymentMethod = 2`), add 1 point.\n",
    "\n",
    "**Total score range**: 0 to 8 (where 0 means low engagement and 8 means high engagement).\n",
    "\n",
    "---\n",
    "\n",
    "### 3.1.3 Financial Status\n",
    "We will combine the following features to create the `Financial_Status` score:\n",
    "- **Income_Category**: \n",
    "  - If the customer has income in the range `80 - 120` or higher (`120 +`), add 2 points.\n",
    "  - If `40 - 60`, add 1 point.\n",
    "- **Credit Score**: \n",
    "  - If the credit score is above 700, add 2 points.\n",
    "  - If between 600 and 700, add 1 point.\n",
    "- **Outstanding Loans**: \n",
    "  - If the loans are less than $20,000, add 2 points.\n",
    "  - If loans are between $20,000 and $50,000, add 1 point.\n",
    "- **Balance**: \n",
    "  - If the balance is higher than $100,000, add 2 points.\n",
    "  - If balance is between $50,000 and $100,000, add 1 point.\n",
    "\n",
    "**Total score range**: 0 to 8 (higher means stronger financial status).\n",
    "\n",
    "---\n",
    "\n",
    "### 3.1.3 Transaction Behavior\n",
    "We will create a composite score for `Transaction_Behavior`:\n",
    "- **Total_Trans_Amt**: \n",
    "  - If the total transaction amount is in the top 25%, add 2 points.\n",
    "  - If in the middle 50%, add 1 point.\n",
    "- **Total_Trans_Count**: \n",
    "  - If the total number of transactions is in the top 25%, add 2 points.\n",
    "  - If in the middle 50%, add 1 point.\n",
    "\n",
    "**Total score range**: 0 to 4 (higher means frequent and high-value transactions).\n",
    "\n",
    "---\n",
    "\n",
    "### 3.1.4 Product Usage\n",
    "We will categorize customers based on the number of products they use and assign them a `Product_Usage` label:\n",
    "- **Heavy User**: Customers using more than 3 products.\n",
    "- **Moderate User**: Customers using 2-3 products.\n",
    "- **Light User**: Customers using 1 product."
   ]
  },
  {
   "cell_type": "code",
   "execution_count": 135,
   "metadata": {},
   "outputs": [],
   "source": [
    "### 1. Digital Engagement Score ###\n",
    "def digital_engagement(row):\n",
    "    score = 0\n",
    "    # PhoneService\n",
    "    if row['PhoneService'] == 1:\n",
    "        score += 1\n",
    "    # InternetService\n",
    "    if row['InternetService'] == 1:  # Fiber optic\n",
    "        score += 2\n",
    "    elif row['InternetService'] == 0:  # DSL\n",
    "        score += 1\n",
    "    # TechSupport\n",
    "    if row['TechSupport'] == 2:\n",
    "        score += 2\n",
    "    # PaperlessBilling\n",
    "    if row['PaperlessBilling'] == 1:\n",
    "        score += 1\n",
    "    # PaymentMethod\n",
    "    if row['PaymentMethod'] in [0, 1]:  # Bank transfer or Credit card (automatic)\n",
    "        score += 2\n",
    "    elif row['PaymentMethod'] == 2:  # Electronic check\n",
    "        score += 1\n",
    "    return score\n",
    "\n",
    "### 2. Financial Status Score ###\n",
    "def financial_status(row):\n",
    "    score = 0\n",
    "    # Income_Category\n",
    "    if row['Income_Category'] in ['80 - 120', 'Other']:\n",
    "        score += 2\n",
    "    elif row['Income_Category'] == '40 - 60':\n",
    "        score += 1\n",
    "    # Credit Score\n",
    "    if row['Credit Score'] > 700:\n",
    "        score += 2\n",
    "    elif 600 <= row['Credit Score'] <= 700:\n",
    "        score += 1\n",
    "    # Outstanding Loans\n",
    "    if row['Outstanding Loans'] < 20000:\n",
    "        score += 2\n",
    "    elif 20000 <= row['Outstanding Loans'] < 50000:\n",
    "        score += 1\n",
    "    # Balance\n",
    "    if row['Balance'] > 100000:\n",
    "        score += 2\n",
    "    elif 50000 <= row['Balance'] <= 100000:\n",
    "        score += 1\n",
    "    return score\n",
    "\n",
    "### 3. Transaction Behavior Score ###\n",
    "def transaction_behavior(df, amt_feature, count_feature):\n",
    "    # Precompute the quantiles for the given transaction amount and count features\n",
    "    trans_amt_quantiles = df[amt_feature].quantile([0.25, 0.75])\n",
    "    trans_count_quantiles = df[count_feature].quantile([0.25, 0.75])\n",
    "    \n",
    "    def calculate_score(row):\n",
    "        score = 0\n",
    "        # Total_Trans_Amt\n",
    "        if row[amt_feature] > trans_amt_quantiles[0.75]:\n",
    "            score += 2\n",
    "        elif row[amt_feature] > trans_amt_quantiles[0.25]:\n",
    "            score += 1\n",
    "        # Total_Trans_Count\n",
    "        if row[count_feature] > trans_count_quantiles[0.75]:\n",
    "            score += 2\n",
    "        elif row[count_feature] > trans_count_quantiles[0.25]:\n",
    "            score += 1\n",
    "        return score\n",
    "    \n",
    "    # Apply the score calculation function to the dataframe\n",
    "    df['Transaction_Behavior'] = df.apply(calculate_score, axis=1)\n",
    "    \n",
    "    return df\n",
    "\n",
    "### 4. Product Usage ###\n",
    "def product_usage(row):\n",
    "    if row['No_of_product'] > 4:\n",
    "        return 'Heavy User'\n",
    "    elif 2 <= row['No_of_product'] >= 4:\n",
    "        return 'Moderate User'\n",
    "    else:\n",
    "        return 'Light User'"
   ]
  },
  {
   "cell_type": "markdown",
   "metadata": {},
   "source": [
    "### Feature Integration: Banking Behavior and Customer Preferences\n",
    "\n",
    "#### 1. **Banking Behavior**\n",
    "- **Transaction Behavior**: \n",
    "  - Combines total transaction amount and count.\n",
    "  - High transaction behavior receives a higher score.\n",
    "  \n",
    "- **Product Usage**:\n",
    "  - If the customer is a **Heavy User** of products, they get an additional 2 points.\n",
    "  - **Moderate Users** get 1 point.\n",
    "  - **Light Users** don’t add any points.\n",
    "  \n",
    "#### 2. **Customer Preferences**\n",
    "- **Digital Engagement**:\n",
    "  - Captures how much the customer engages with the bank's digital services.\n",
    "  - Score based on PhoneService, InternetService, TechSupport, PaperlessBilling, and PaymentMethod.\n",
    "  \n",
    "- **Financial Status**:\n",
    "  - Measures the customer’s financial health based on income, credit score, outstanding loans, and balance.\n",
    "  \n",
    "The final **Customer Preferences Score** is the sum of **Digital Engagement** and **Financial Status**."
   ]
  },
  {
   "cell_type": "code",
   "execution_count": 136,
   "metadata": {},
   "outputs": [],
   "source": [
    "# Function to combine the individual features into two composite features\n",
    "\n",
    "def integrate_banking_behavior(row):\n",
    "    # Combine Transaction Behavior and Product Usage\n",
    "    banking_behavior_score = row['Transaction_Behavior']\n",
    "    \n",
    "    if row['Product_Usage'] == 'Heavy User':\n",
    "        banking_behavior_score += 2\n",
    "    elif row['Product_Usage'] == 'Moderate User':\n",
    "        banking_behavior_score += 1\n",
    "    # Light users don't add extra points to the banking behavior score\n",
    "    \n",
    "    return banking_behavior_score\n",
    "\n",
    "def integrate_customer_preferences(row):\n",
    "    # Combine Digital Engagement and Financial Status\n",
    "    customer_preferences_score = row['Digital_Engagement'] + row['Financial_Status']\n",
    "    \n",
    "    return customer_preferences_score\n"
   ]
  },
  {
   "cell_type": "code",
   "execution_count": 137,
   "metadata": {},
   "outputs": [],
   "source": [
    "final_df['Digital_Engagement'] = final_df.apply(digital_engagement, axis=1)\n",
    "final_df['Financial_Status'] = final_df.apply(financial_status, axis=1)\n",
    "final_df = transaction_behavior(final_df, 'Total_Trans_Amt', 'Total_Trans_Count')\n",
    "final_df['Product_Usage'] = final_df.apply(product_usage, axis=1)\n",
    "\n",
    "# Apply the new functions to the dataframe\n",
    "final_df['Banking_Behavior'] = final_df.apply(integrate_banking_behavior, axis=1)\n",
    "final_df['Customer_Preferences'] = final_df.apply(integrate_customer_preferences, axis=1)"
   ]
  },
  {
   "cell_type": "markdown",
   "metadata": {},
   "source": [
    "### Rule-Based Segmentation Based on Banking Behavior and Customer Preferences\n",
    "\n",
    "#### Classification Ranges:\n",
    "- **Banking Behavior**:\n",
    "  - **Low (L)**: Score < 3\n",
    "  - **Moderate (M)**: Score 3–4(inclusive)\n",
    "  - **High (H)**: Score > 4\n",
    "\n",
    "- **Customer Preferences**:\n",
    "  - **Low (L)**: Score < 6\n",
    "  - **Moderate (M)**: Score 6–11(inclusive)\n",
    "  - **High (H)**: Score > 11\n",
    "\n",
    "#### Segments:\n",
    "\n",
    "1. **Low Engagement, Low Banking Behavior**:\n",
    "   - **Banking Behavior**: Low (Score < 3)\n",
    "   - **Customer Preferences**: Low (Score < 6)\n",
    "   - **Business Insight**: These customers are disengaged both digitally and financially. Focus on retention through educational programs and targeted basic financial offerings.\n",
    "\n",
    "2. **Highly Engaged, High Banking Behavior**:\n",
    "   - **Banking Behavior**: High (Score > 4)\n",
    "   - **Customer Preferences**: High (Score > 11)\n",
    "   - **Business Insight**: These customers are highly engaged both financially and digitally. They should be prioritized for premium services, loyalty programs, and personalized offers.\n",
    "\n",
    "3. **High Engagement, Low or Moderate Banking Behavior**:\n",
    "   - **Banking Behavior**: Low (Score < 3) or Moderate (Score 3–4)\n",
    "   - **Customer Preferences**: High (Score > 11)\n",
    "   - **Business Insight**: These customers are digitally engaged but lack full financial activity. Focus on cross-selling financial products to increase their banking engagement.\n",
    "\n",
    "4. **High Banking Behavior, Low or Moderate Engagement**:\n",
    "   - **Banking Behavior**: High (Score > 4)\n",
    "   - **Customer Preferences**: Low (Score < 6) or Moderate (Score 6–10)\n",
    "   - **Business Insight**: These customers are financially active but have lower digital engagement. Promote online services or mobile banking to increase digital activity.\n",
    "\n",
    "5. **Moderate or Low Engagement and Banking Behavior**:\n",
    "   - **Banking Behavior**: Moderate (Score 3–4) or Low (Score < 3)\n",
    "   - **Customer Preferences**: Moderate (Score 6–10) or Low (Score < 6)\n",
    "   - **Business Insight**: These customers have limited engagement both financially and digitally. Focus on retention strategies and encouraging digital services and basic financial products."
   ]
  },
  {
   "cell_type": "code",
   "execution_count": 140,
   "metadata": {},
   "outputs": [],
   "source": [
    "# Function to assign clusters based on Banking Behavior and Customer Preferences with thresholds as arguments\n",
    "def assign_rule_based_cluster(row, banking_thresholds, customer_thresholds):\n",
    "    banking_low, banking_moderate = banking_thresholds\n",
    "    customer_low, customer_moderate = customer_thresholds\n",
    "    \n",
    "    # Rule 1: Low Engagement, Low Banking Behavior\n",
    "    if row['Banking_Behavior'] < banking_low and row['Customer_Preferences'] < customer_low:\n",
    "        return 'Low Engagement, Low Banking Behavior'\n",
    "    \n",
    "    # Rule 2: Highly Engaged, High Banking Behavior\n",
    "    elif row['Banking_Behavior'] > banking_moderate and row['Customer_Preferences'] > customer_moderate:\n",
    "        return 'Highly Engaged, High Banking Behavior'\n",
    "    \n",
    "    # Rule 3: High Engagement, Low or Moderate Banking Behavior\n",
    "    elif row['Banking_Behavior'] <= banking_moderate and row['Customer_Preferences'] > customer_moderate:\n",
    "        return 'High Engagement, Low or Moderate Banking Behavior'\n",
    "    \n",
    "    # Rule 4: High Banking Behavior, Low or Moderate Engagement\n",
    "    elif row['Banking_Behavior'] > banking_moderate and row['Customer_Preferences'] <= customer_moderate:\n",
    "        return 'High Banking Behavior, Low or Moderate Engagement'\n",
    "    \n",
    "    # Rule 5: Moderate or Low Engagement and Banking Behavior\n",
    "    elif row['Banking_Behavior'] <= banking_moderate and row['Customer_Preferences'] <= customer_moderate:\n",
    "        return 'Moderate or Low Engagement and Banking Behavior'\n",
    "    \n",
    "    # Default case: If no specific rule is met\n",
    "    return 'Other'\n"
   ]
  },
  {
   "cell_type": "code",
   "execution_count": 141,
   "metadata": {},
   "outputs": [
    {
     "data": {
      "text/plain": [
       "Cluster_Labels\n",
       "Moderate or Low Engagement and Banking Behavior      5599\n",
       "High Banking Behavior, Low or Moderate Engagement     643\n",
       "High Engagement, Low or Moderate Banking Behavior     630\n",
       "Low Engagement, Low Banking Behavior                  150\n",
       "Highly Engaged, High Banking Behavior                  59\n",
       "Name: count, dtype: int64"
      ]
     },
     "execution_count": 141,
     "metadata": {},
     "output_type": "execute_result"
    }
   ],
   "source": [
    "banking_thresholds = (3, 4)  # (Low, Moderate)\n",
    "customer_thresholds = (6, 11)  # (Low, Moderate)\n",
    "\n",
    "# Apply the function to create the 'Cluster_Labels' column\n",
    "final_df['Cluster_Labels'] = final_df.apply(assign_rule_based_cluster, axis=1, \n",
    "                                            banking_thresholds=banking_thresholds, \n",
    "                                            customer_thresholds=customer_thresholds)\n",
    "\n",
    "# Display the cluster distribution\n",
    "final_df['Cluster_Labels'].value_counts()"
   ]
  }
 ],
 "metadata": {
  "kernelspec": {
   "display_name": "Python 3",
   "language": "python",
   "name": "python3"
  },
  "language_info": {
   "codemirror_mode": {
    "name": "ipython",
    "version": 3
   },
   "file_extension": ".py",
   "mimetype": "text/x-python",
   "name": "python",
   "nbconvert_exporter": "python",
   "pygments_lexer": "ipython3",
   "version": "3.11.9"
  }
 },
 "nbformat": 4,
 "nbformat_minor": 2
}
