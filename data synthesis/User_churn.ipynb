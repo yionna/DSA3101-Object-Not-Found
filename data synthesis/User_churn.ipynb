{
 "cells": [
  {
   "cell_type": "code",
   "execution_count": 1,
   "id": "09b72598-4a6b-42e1-bac3-c515f959c87e",
   "metadata": {},
   "outputs": [],
   "source": [
    "import pandas as pd\n",
    "import numpy as np\n",
    "from sklearn.cluster import KMeans\n",
    "from sklearn.preprocessing import MinMaxScaler, LabelEncoder\n",
    "import matplotlib.pyplot as plt\n",
    "import seaborn as sns\n",
    "from scipy.stats import norm"
   ]
  },
  {
   "cell_type": "code",
   "execution_count": 5,
   "id": "7b51d84b-01a0-4934-bd5c-97a6fe022b2d",
   "metadata": {},
   "outputs": [],
   "source": [
    "original = pd.read_csv(\"../data/BankChurners.csv\")\n",
    "temp4 = pd.read_csv(\"../temp4.csv\")\n",
    "technical_df = pd.read_csv(\"../data/User churn.csv\")"
   ]
  },
  {
   "cell_type": "markdown",
   "id": "c273ebfa-4178-4991-87a1-6286ac3f44f5",
   "metadata": {},
   "source": [
    "This section aims to generate artificial data for digital engagement."
   ]
  },
  {
   "cell_type": "markdown",
   "id": "dc7dee47-f556-4d78-92b6-d15ab24371a3",
   "metadata": {},
   "source": [
    "### Feature Selection"
   ]
  },
  {
   "cell_type": "code",
   "execution_count": 9,
   "id": "97c61c1e-298d-48dd-8655-a8b60ef9a5e0",
   "metadata": {},
   "outputs": [],
   "source": [
    "required_features_original = ['CLIENTNUM', 'Gender', 'Customer_Age', 'Marital_Status', 'Dependent_count', 'Attrition_Flag']\n",
    "subset_original2 = original.loc[:,required_features_original]\n",
    "\n",
    "required_features_tech = ['gender', 'SeniorCitizen', 'Partner', 'Dependents', 'Churn',\n",
    "                          'PhoneService', 'InternetService', 'TechSupport', 'PaperlessBilling', 'PaymentMethod']\n",
    "subset_technical = technical_df.loc[:,required_features_tech]"
   ]
  },
  {
   "cell_type": "markdown",
   "id": "3d637ef8-6042-4c33-a156-bbf554f48acb",
   "metadata": {},
   "source": [
    "### Data Cleaning"
   ]
  },
  {
   "cell_type": "code",
   "execution_count": 12,
   "id": "79edd460-7308-4696-9a2d-6e2c27744961",
   "metadata": {},
   "outputs": [],
   "source": [
    "subset_original2['SeniorCitizen'] = (subset_original2['Customer_Age'] > 60).astype(int)\n",
    "subset_original2['Dependents'] = subset_original2['Dependent_count'].apply(lambda x: 'Yes' if x > 0 else 'No')\n",
    "\n",
    "subset_original2.drop(['Customer_Age', 'Dependent_count'], axis = 1, inplace = True)\n",
    "\n",
    "subset_technical['gender'] = subset_technical['gender'].replace({'Male':'M','Female':'F'})\n",
    "subset_technical['Churn'] = subset_technical['Churn'].replace({'Attrited Customer':'Yes','Existing Customer':'No'})\n",
    "subset_technical['Partner'] = subset_technical['Partner'].replace({'Married':'Yes','Single':'No'})\n",
    "\n",
    "subset_technical = subset_technical.rename(columns = {'gender' : \"Gender\", 'Churn' : \"Attrition_Flag\", 'Partner' : \"Marital_Status\"})\n"
   ]
  },
  {
   "cell_type": "markdown",
   "id": "3eb7e2a0-22b2-472c-9c27-ba5949ad7963",
   "metadata": {},
   "source": [
    "### Data Transformation"
   ]
  },
  {
   "cell_type": "code",
   "execution_count": 17,
   "id": "620a4549-2370-4d15-8377-eee70189c57f",
   "metadata": {},
   "outputs": [
    {
     "name": "stdout",
     "output_type": "stream",
     "text": [
      "Encodings for subset_technical:\n",
      "Gender: {'F': 0, 'M': 1}\n",
      "SeniorCitizen: {0: 0, 1: 1}\n",
      "Marital_Status: {'No': 0, 'Yes': 1}\n",
      "Dependents: {'No': 0, 'Yes': 1}\n",
      "Attrition_Flag: {'No': 0, 'Yes': 1}\n",
      "PhoneService: {'No': 0, 'Yes': 1}\n",
      "InternetService: {'DSL': 0, 'Fiber optic': 1, 'No': 2}\n",
      "TechSupport: {'No': 0, 'No internet service': 1, 'Yes': 2}\n",
      "PaperlessBilling: {'No': 0, 'Yes': 1}\n",
      "PaymentMethod: {'Bank transfer (automatic)': 0, 'Credit card (automatic)': 1, 'Electronic check': 2, 'Mailed check': 3}\n",
      "\n",
      "Encodings for subset_original2:\n",
      "Gender: {'F': 0, 'M': 1}\n",
      "SeniorCitizen: {0: 0, 1: 1}\n",
      "Marital_Status: {'Divorced': 0, 'Married': 1, 'Single': 2, 'Unknown': 3}\n",
      "Dependents: {'No': 0, 'Yes': 1}\n",
      "Attrition_Flag: {'Attrited Customer': 0, 'Existing Customer': 1}\n"
     ]
    }
   ],
   "source": [
    "# List of categorical features\n",
    "modified_features_tech = ['Gender', 'SeniorCitizen', 'Marital_Status', 'Dependents', 'Attrition_Flag', \n",
    "                          'PhoneService', 'InternetService', 'TechSupport', 'PaperlessBilling', 'PaymentMethod']\n",
    "\n",
    "# Initialize dictionaries to store encodings\n",
    "encodings_technical = {}\n",
    "encodings_original2 = {}\n",
    "\n",
    "# Encoding for subset_technical\n",
    "for feature in modified_features_tech:\n",
    "    # Convert to category type\n",
    "    subset_technical[feature] = subset_technical[feature].astype('category')\n",
    "    if feature in subset_original2:\n",
    "        subset_original2[feature] = subset_original2[feature].astype('category')\n",
    "\n",
    "# Apply LabelEncoder and show mappings\n",
    "for feature in modified_features_tech:\n",
    "    le_technical = LabelEncoder()\n",
    "    \n",
    "    # Fit and transform for subset_technical\n",
    "    subset_technical[feature + '_Encoded'] = le_technical.fit_transform(subset_technical[feature])\n",
    "    \n",
    "    # Store the mapping for subset_technical\n",
    "    encodings_technical[feature] = dict(zip(le_technical.classes_, le_technical.transform(le_technical.classes_)))\n",
    "    \n",
    "    # If feature exists in subset_original2, apply encoding\n",
    "    if feature in subset_original2:\n",
    "        le_original2 = LabelEncoder()\n",
    "        subset_original2[feature + '_Encoded'] = le_original2.fit_transform(subset_original2[feature])\n",
    "        \n",
    "        # Store the mapping for subset_original2\n",
    "        encodings_original2[feature] = dict(zip(le_original2.classes_, le_original2.transform(le_original2.classes_)))\n",
    "\n",
    "features_original2 = subset_original2[['Gender_Encoded', 'SeniorCitizen_Encoded', 'Marital_Status_Encoded', 'Dependents_Encoded', 'Attrition_Flag_Encoded']]\n",
    "features_technical = subset_technical[['Gender_Encoded', 'SeniorCitizen_Encoded', 'Marital_Status_Encoded', 'Dependents_Encoded', 'Attrition_Flag_Encoded']]\n",
    "# Display the encoding mappings\n",
    "print(\"Encodings for subset_technical:\")\n",
    "for feature, mapping in encodings_technical.items():\n",
    "    print(f\"{feature}: {mapping}\")\n",
    "\n",
    "print(\"\\nEncodings for subset_original2:\")\n",
    "for feature, mapping in encodings_original2.items():\n",
    "    print(f\"{feature}: {mapping}\")"
   ]
  },
  {
   "cell_type": "markdown",
   "id": "a53c97fb-ce4c-4e15-9d39-e41c602a49ac",
   "metadata": {},
   "source": [
    "### Model Training"
   ]
  },
  {
   "cell_type": "code",
   "execution_count": 20,
   "id": "2aeddc95-45ad-4d9b-90af-273c6b496781",
   "metadata": {},
   "outputs": [],
   "source": [
    "# Perform KMeans clustering on balance data and find optimal clusters\n",
    "cluster_range2 = range(2, 10)  # Define the range of cluster numbers to test\n",
    "inertia_values2 = []  # Inertia will help determine the optimal cluster number\n",
    "\n",
    "for k in cluster_range2:\n",
    "    kmeans = KMeans(n_clusters=k, random_state=42, n_init = 10)\n",
    "    kmeans.fit(features_technical)\n",
    "    inertia_values2.append(kmeans.inertia_)\n"
   ]
  },
  {
   "cell_type": "code",
   "execution_count": 22,
   "id": "372d0a5b-c6e3-4a5d-9bf1-0f5f89c73dde",
   "metadata": {},
   "outputs": [
    {
     "data": {
      "image/png": "[encoded data removed]",
      "text/plain": [
       "<Figure size 800x500 with 1 Axes>"
      ]
     },
     "metadata": {},
     "output_type": "display_data"
    }
   ],
   "source": [
    "plt.figure(figsize=(8, 5))\n",
    "plt.plot(cluster_range2, inertia_values2, marker='o', linestyle='--', color='b')\n",
    "plt.title('Elbow Method for Optimal Number of Clusters for Technical Features')\n",
    "plt.xlabel('Number of Clusters')\n",
    "plt.ylabel('Inertia')\n",
    "plt.grid(True)\n",
    "plt.show()"
   ]
  },
  {
   "cell_type": "code",
   "execution_count": 26,
   "id": "1fd58e68-e7dd-457a-80ff-7cc17a52fa04",
   "metadata": {},
   "outputs": [],
   "source": [
    "# Fit the final KMeans model with the selected number of clusters\n",
    "optimal_k_technical = 5  # Choosen based on the elbow plot\n",
    "kmeans_technical = KMeans(n_clusters=optimal_k_technical, random_state=3101, n_init = 10)\n",
    "kmeans_technical.fit(features_technical)\n",
    "subset_technical['Cluster_Labels'] = kmeans_technical.labels_\n",
    "\n",
    "#Predict cluster labels for the original subset using the same KMeans model\n",
    "subset_original2['Cluster_Labels'] = kmeans_technical.predict(features_original2)"
   ]
  },
  {
   "cell_type": "code",
   "execution_count": 28,
   "id": "419d385f-94d8-410b-bbdb-6cc640fe69c9",
   "metadata": {},
   "outputs": [],
   "source": [
    "# Calculate the distribution of PhoneService\n",
    "phone_service_distribution = (\n",
    "    subset_technical.groupby('Cluster_Labels')['PhoneService_Encoded']\n",
    "    .value_counts(normalize=True)\n",
    "    .unstack(fill_value=0)\n",
    ")\n",
    "\n",
    "# Calculate the distribution of InternetService\n",
    "internet_service_distribution = (\n",
    "    subset_technical.groupby('Cluster_Labels')['InternetService_Encoded']\n",
    "    .value_counts(normalize=True)\n",
    "    .unstack(fill_value=0)\n",
    ")\n",
    "\n",
    "# Calculate the distribution of TechSupport\n",
    "tech_support_distribution = (\n",
    "    subset_technical.groupby('Cluster_Labels')['TechSupport_Encoded']\n",
    "    .value_counts(normalize=True)\n",
    "    .unstack(fill_value=0)\n",
    ")\n",
    "\n",
    "# Calculate the distribution of PaperlessBilling\n",
    "paperless_billing_distribution = (\n",
    "    subset_technical.groupby('Cluster_Labels')['PaperlessBilling_Encoded']\n",
    "    .value_counts(normalize=True)\n",
    "    .unstack(fill_value=0)\n",
    ")\n",
    "\n",
    "# Calculate the distribution of PaymentMethod\n",
    "payment_method_distribution = (\n",
    "    subset_technical.groupby('Cluster_Labels')['PaymentMethod_Encoded']\n",
    "    .value_counts(normalize=True)\n",
    "    .unstack(fill_value=0)\n",
    ")"
   ]
  },
  {
   "cell_type": "code",
   "execution_count": 30,
   "id": "63aab6ad-d09c-4f13-9bc6-fd8b44b0b4c9",
   "metadata": {},
   "outputs": [],
   "source": [
    "def generate_synthetic_features(df, distribution):\n",
    "    synthetic_feature = []\n",
    "    \n",
    "    for _, row in df.iterrows():\n",
    "        cluster = row['Cluster_Labels']\n",
    "        \n",
    "        # Sample a new feature based on the defined probabilities\n",
    "        sample = np.random.choice(\n",
    "            distribution.columns,  # Possible features to sample from\n",
    "            p=distribution.loc[cluster].values  # Probabilities for the respective features\n",
    "        )\n",
    "        synthetic_feature.append(sample)\n",
    "            \n",
    "    return synthetic_feature\n",
    "\n",
    "# Generate synthetic features\n",
    "subset_original2['PhoneService'] = generate_synthetic_features(subset_original2, phone_service_distribution)\n",
    "subset_original2['InternetService'] = generate_synthetic_features(subset_original2, internet_service_distribution)\n",
    "subset_original2['TechSupport'] = generate_synthetic_features(subset_original2, tech_support_distribution)\n",
    "subset_original2['PaperlessBilling'] = generate_synthetic_features(subset_original2, paperless_billing_distribution)\n",
    "subset_original2['PaymentMethod'] = generate_synthetic_features(subset_original2, payment_method_distribution)\n"
   ]
  },
  {
   "cell_type": "markdown",
   "id": "71ee0269-11e7-4c25-ae58-8196784d2932",
   "metadata": {},
   "source": [
    "### Final dataframe"
   ]
  },
  {
   "cell_type": "code",
   "execution_count": 35,
   "id": "5fc1afd9-24d9-4423-87fe-7a831c9d280d",
   "metadata": {},
   "outputs": [],
   "source": [
    "# Feature from technical\n",
    "final_tech_features = ['CLIENTNUM','PhoneService','InternetService','TechSupport','PaperlessBilling','PaymentMethod']\n",
    "temp3  = subset_original2.loc[:,final_tech_features]\n",
    "\n",
    "# Joingning them all together\n",
    "final_df = pd.merge(temp4, temp3, on='CLIENTNUM', how = 'inner')"
   ]
  },
  {
   "cell_type": "code",
   "execution_count": 37,
   "id": "549a9fff-853c-4c11-8bc5-e6da5226d679",
   "metadata": {},
   "outputs": [],
   "source": [
    "final_df.to_csv('original.csv', index=False)"
   ]
  },
  {
   "cell_type": "code",
   "execution_count": null,
   "id": "8e966c38-7fbe-41b6-9456-159b326064c7",
   "metadata": {},
   "outputs": [],
   "source": []
  }
 ],
 "metadata": {
  "kernelspec": {
   "display_name": "Python 3 (ipykernel)",
   "language": "python",
   "name": "python3"
  },
  "language_info": {
   "codemirror_mode": {
    "name": "ipython",
    "version": 3
   },
   "file_extension": ".py",
   "mimetype": "text/x-python",
   "name": "python",
   "nbconvert_exporter": "python",
   "pygments_lexer": "ipython3",
   "version": "3.11.5"
  }
 },
 "nbformat": 4,
 "nbformat_minor": 5
}
