{
 "cells": [
  {
   "cell_type": "markdown",
   "metadata": {},
   "source": [
    "### Data Addition\n",
    "Compile all additions to the data here\n",
    "\n",
    "Update cleaned_BankChurner (or whatever the final dataset name will be) with new data"
   ]
  },
  {
   "cell_type": "code",
   "execution_count": 1,
   "metadata": {},
   "outputs": [],
   "source": [
    "# libraries\n",
    "import numpy as np\n",
    "import pandas as pd\n",
    "from sklearn.neighbors import KernelDensity"
   ]
  },
  {
   "cell_type": "code",
   "execution_count": null,
   "metadata": {},
   "outputs": [],
   "source": [
    "# load main dataset\n",
    "bank_churners = pd.read_csv('../../data/BankChurners.csv') # main dataset"
   ]
  },
  {
   "cell_type": "markdown",
   "metadata": {},
   "source": [
    "### Data Addition:\n",
    "\n",
    "Add dataset name, link to dataset, and other relevant details"
   ]
  },
  {
   "cell_type": "markdown",
   "metadata": {},
   "source": [
    "##### Subgroup B Q1: InsuranceProducts\n",
    "\n",
    "Link: https://www.kaggle.com/datasets/akhilups/insurance-product-purchase-prediction?resource=download\n",
    "\n",
    "**Product Options** ( 'A', 'B', 'C', 'D', 'E', 'F', 'G')\n",
    "\n",
    "Each product has 7 customizable options selected by customers, each with 2, 3, or 4 ordinal values possible:\n",
    "\n",
    "A product is simply a vector with length 7 whose values are chosen from each of the options listed above. The cost of a product is a function of both the product options and customer characteristics.\n",
    "\n",
    "Columns Added: 'A', 'B', 'C', 'D', 'E', 'F', 'G', 'risk_factor'"
   ]
  },
  {
   "cell_type": "code",
   "execution_count": 5,
   "metadata": {},
   "outputs": [],
   "source": [
    "def generate_new_data(df_target, df_source, colname, lowerlim=None, upperlim=None, kernel='gaussian',  inttype=False):\n",
    "    kde_new = KernelDensity(bandwidth=1, kernel=kernel)\n",
    "    kde_new.fit(df_source[colname].values.reshape(-1, 1))\n",
    "\n",
    "    new_samples = kde_new.sample(len(df_target)).reshape(-1)        \n",
    "    df_target[colname] = new_samples\n",
    "\n",
    "    if lowerlim != None:\n",
    "        df_target.loc[df_target[colname] < lowerlim, colname] = lowerlim\n",
    "    if upperlim != None:\n",
    "        df_target.loc[df_target[colname] > upperlim, colname] = upperlim\n",
    "    \n",
    "    return df_target"
   ]
  },
  {
   "cell_type": "code",
   "execution_count": 6,
   "metadata": {},
   "outputs": [],
   "source": [
    "# load datasets\n",
    "insurance_products = load_data('InsuranceProduct.csv') # dataset with different products and services\n",
    "\n",
    "# merge datasets\n",
    "df = bank_churners.drop(['Naive_Bayes_Classifier_Attrition_Flag_Card_Category_Contacts_Count_12_mon_Dependent_count_Education_Level_Months_Inactive_12_mon_1', \n",
    "                         'Naive_Bayes_Classifier_Attrition_Flag_Card_Category_Contacts_Count_12_mon_Dependent_count_Education_Level_Months_Inactive_12_mon_2',\n",
    "                         'Unnamed: 0'],\n",
    "                         axis=1) \t\n",
    "\n",
    "# fill na values for risk factor with median and 0 for everything else\n",
    "cols_to_merge = ['A', 'B', 'C', 'D', 'E', 'F', 'G', 'risk_factor']\n",
    "insurance_products['risk_factor'] = insurance_products['risk_factor'].fillna(insurance_products['risk_factor'].median()) \n",
    "insurance_products = insurance_products[cols_to_merge].fillna(0)\n",
    "\n",
    "col_limits = {'A': [0, 2], 'B': [0, 1], 'C': [1, 4], 'D': [1, 3], 'E': [0, 1], 'F': [0, 3], 'G': [1, 4], 'risk_factor': [0, None]}\n",
    "for col in cols_to_merge:\n",
    "    df = generate_new_data(df, insurance_products, col, lowerlim=col_limits[col][0], upperlim=col_limits[col][1])\n",
    "    if col != 'cost':\n",
    "        df[col] = np.round(df[col]).astype(int)"
   ]
  },
  {
   "cell_type": "markdown",
   "metadata": {},
   "source": [
    "### Save dataset generated"
   ]
  },
  {
   "cell_type": "code",
   "execution_count": null,
   "metadata": {},
   "outputs": [],
   "source": [
    "df.to_csv('../data/bq1_dataset.csv')"
   ]
  }
 ],
 "metadata": {
  "kernelspec": {
   "display_name": "default",
   "language": "python",
   "name": "python3"
  },
  "language_info": {
   "codemirror_mode": {
    "name": "ipython",
    "version": 3
   },
   "file_extension": ".py",
   "mimetype": "text/x-python",
   "name": "python",
   "nbconvert_exporter": "python",
   "pygments_lexer": "ipython3",
   "version": "3.11.4"
  }
 },
 "nbformat": 4,
 "nbformat_minor": 2
}
