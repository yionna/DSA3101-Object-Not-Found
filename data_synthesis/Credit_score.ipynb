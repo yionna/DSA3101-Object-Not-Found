{
 "cells": [
  {
   "cell_type": "code",
   "execution_count": 2,
   "id": "22af412e-8469-4058-b39b-700a970ff047",
   "metadata": {},
   "outputs": [],
   "source": [
    "import pandas as pd\n",
    "import numpy as np\n",
    "from sklearn.cluster import KMeans\n",
    "from sklearn.preprocessing import MinMaxScaler, LabelEncoder\n",
    "import matplotlib.pyplot as plt\n",
    "import seaborn as sns\n",
    "from scipy.stats import norm"
   ]
  },
  {
   "cell_type": "code",
   "execution_count": 4,
   "id": "3f55d1f7-6d85-403a-82da-898a6b46493b",
   "metadata": {},
   "outputs": [],
   "source": [
    "original = pd.read_csv(\"../../data/processed/BankChurners_cleaned.csv\")\n",
    "sav = pd.read_csv(\"../../data/credit_score.csv\")\n",
    "# https://www.kaggle.com/datasets/conorsully1/credit-score?resource=download"
   ]
  },
  {
   "cell_type": "code",
   "execution_count": 6,
   "id": "49b47b58-0dc1-44ed-ac56-d6bd642846b9",
   "metadata": {},
   "outputs": [],
   "source": [
    "original_copy = original.copy()\n",
    "\n",
    "# convert income into income category then one-hot encoding\n",
    "bins = [0, 40000, 60000, 80000, 120000, float('inf')]\n",
    "labels = ['Less than 40', '40 - 60', '60 - 80', '80 - 120', '120 +']\n",
    "sav['Income_Category'] = pd.cut(sav['INCOME'], bins = bins, labels = labels, right = False)\n",
    "sav = pd.get_dummies(sav, columns=['Income_Category'], drop_first=True)\n",
    "\n",
    "# clustering\n",
    "features = sav[['Income_Category_40 - 60', 'Income_Category_60 - 80', 'Income_Category_80 - 120', 'Income_Category_120 +']]\n",
    "\n",
    "kmeans = KMeans(n_clusters = 5, n_init = 10)\n",
    "sav['Cluster'] = kmeans.fit_predict(features)\n",
    "\n",
    "# fitting normal distribution\n",
    "stats = sav.groupby('Cluster')['SAVINGS'].agg(['mean', 'std']).reset_index()\n",
    "stats.columns = ['Cluster', 'Mean', 'SD']\n",
    "\n",
    "def sample(cluster):\n",
    "    mean = stats.loc[stats['Cluster'] == cluster, 'Mean'].values[0]\n",
    "    sd = stats.loc[stats['Cluster'] == cluster, 'SD'].values[0]\n",
    "    return round(max(np.random.normal(mean, sd), 0), 2) #avoid savings being negative & change to 2 decimal places\n",
    "\n",
    "sav['Savings'] = sav['Cluster'].apply(sample)\n",
    "\n",
    "# fitting into original\n",
    "original_copy = pd.get_dummies(original_copy, columns=['Income_Category'], drop_first = False)\n",
    "original_copy['Cluster'] = kmeans.predict(original_copy[['Income_Category_40 - 60', 'Income_Category_60 - 80', 'Income_Category_80 - 120', 'Income_Category_120 +']])\n",
    "original_copy['Savings'] = original_copy['Cluster'].apply(sample)\n",
    "original['Savings'] = original_copy['Savings']"
   ]
  },
  {
   "cell_type": "code",
   "execution_count": 7,
   "id": "04ab43cc-9dad-4764-a6cb-d119339dca68",
   "metadata": {},
   "outputs": [],
   "source": [
    "original.to_csv('../../data/processed/original (2).csv', index=False)"
   ]
  },
  {
   "cell_type": "code",
   "execution_count": null,
   "id": "9844bed5-efc6-4e41-b72c-b408be118af6",
   "metadata": {},
   "outputs": [],
   "source": []
  }
 ],
 "metadata": {
  "kernelspec": {
   "display_name": "Python 3 (ipykernel)",
   "language": "python",
   "name": "python3"
  },
  "language_info": {
   "codemirror_mode": {
    "name": "ipython",
    "version": 3
   },
   "file_extension": ".py",
   "mimetype": "text/x-python",
   "name": "python",
   "nbconvert_exporter": "python",
   "pygments_lexer": "ipython3",
   "version": "3.11.5"
  }
 },
 "nbformat": 4,
 "nbformat_minor": 5
}
