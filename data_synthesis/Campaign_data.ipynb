{
 "cells": [
  {
   "cell_type": "markdown",
   "id": "2435a066",
   "metadata": {},
   "source": [
    "# Synthetic data generation for campaign effectiveness"
   ]
  },
  {
   "cell_type": "markdown",
   "id": "6bc4d5f9",
   "metadata": {},
   "source": [
    "We will be making use of the data from https://www.kaggle.com/datasets/conorsully1/credit-score?resource=download for saving and https://www.kaggle.com/datasets/prakharrathi25/banking-dataset-marketing-targets?select=test.csv for campaign."
   ]
  },
  {
   "cell_type": "code",
   "execution_count": 1,
   "id": "d43e27bc-3125-4154-8a03-e25fdd73f96c",
   "metadata": {},
   "outputs": [],
   "source": [
    "import pandas as pd\n",
    "import numpy as np\n",
    "from sklearn.cluster import KMeans\n",
    "import matplotlib.pyplot as plt\n",
    "from scipy.stats import norm"
   ]
  },
  {
   "cell_type": "code",
   "execution_count": 2,
   "id": "3d7c14f4-2dc4-4593-9b57-0af180f20815",
   "metadata": {},
   "outputs": [],
   "source": [
    "original = pd.read_csv(\"../data/processed/BankChurners_cleaned.csv\")\n",
    "campaign = pd.read_csv(\"../data/raw/campaign_data.csv\", sep = ';')\n",
    "sav = pd.read_csv(\"../data/raw/credit_score.csv\")"
   ]
  },
  {
   "cell_type": "code",
   "execution_count": 3,
   "id": "98d8c999",
   "metadata": {},
   "outputs": [
    {
     "name": "stdout",
     "output_type": "stream",
     "text": [
      "Number of duplicate rows in 'campaign': 0\n",
      "Number of duplicate rows in 'sav': 0\n"
     ]
    }
   ],
   "source": [
    "# Checking for duplicates\n",
    "campaign_duplicates = campaign.duplicated()\n",
    "sav_duplicates = sav.duplicated()\n",
    "\n",
    "# Display the number of duplicate rows, if any\n",
    "print(f\"Number of duplicate rows in 'campaign': {campaign_duplicates.sum()}\")\n",
    "print(f\"Number of duplicate rows in 'sav': {sav_duplicates.sum()}\")"
   ]
  },
  {
   "cell_type": "markdown",
   "id": "9eca893b",
   "metadata": {},
   "source": [
    "# 1. Campaign data"
   ]
  },
  {
   "cell_type": "markdown",
   "id": "91d8866d-d761-4fcb-a131-13a90bc3d30c",
   "metadata": {},
   "source": [
    "Data that will be added:\n",
    "\n",
    "- `duration`: last contact duration, in seconds (numeric) --> `Duration_of_Contact`\n",
    "- `campaign`: number of contacts performed during this campaign and for this client (numeric, includes last contact) --> `Number_of_Contacts_Made`\n",
    "- `pdays`: number of days that passed by after the client was last contacted from a previous campaign (numeric, -1 means client was not previously contacted) --> `Last_Contact_Made`\n",
    "- `y`: has the client subscribed a term deposit? (binary: \"yes\",\"no\") --> `Outcome`"
   ]
  },
  {
   "cell_type": "markdown",
   "id": "04c1fdf5",
   "metadata": {},
   "source": [
    "## 1.1 Feature selection"
   ]
  },
  {
   "cell_type": "code",
   "execution_count": 4,
   "id": "6fbb12cb-bc1d-47c2-85f8-199f0108dbda",
   "metadata": {},
   "outputs": [],
   "source": [
    "# similar columns: education, marital, age\n",
    "common_features = ['education', 'marital', 'age']\n",
    "\n",
    "ori = original.copy()\n",
    "ori['education'] = ori['Education_Level']\n",
    "ori['education'] = ori['education'].replace(\n",
    "    {'Doctorate': 'tertiary',\n",
    "     'Post-Graduate': 'tertiary',\n",
    "     'Graduate': 'tertiary',\n",
    "     'College': 'secondary',\n",
    "     'High School': 'secondary', \n",
    "     'Uneducated': 'primary'})\n",
    "\n",
    "ori['marital'] = ori['Marital_Status']\n",
    "ori['marital'] = ori['marital'].replace(\n",
    "    {'Married': 'married',\n",
    "     'Single': 'single',\n",
    "     'Divorced': 'divorced'})\n",
    "\n",
    "ori['age'] = ori['Customer_Age']"
   ]
  },
  {
   "cell_type": "code",
   "execution_count": 5,
   "id": "0e06a594-e0fc-46ae-8f12-d939bae986cd",
   "metadata": {},
   "outputs": [
    {
     "name": "stderr",
     "output_type": "stream",
     "text": [
      "/var/folders/0r/kk1hzrmn3gn15tq_k14nb0r00000gn/T/ipykernel_87040/2509053190.py:23: FutureWarning: Downcasting behavior in `replace` is deprecated and will be removed in a future version. To retain the old behavior, explicitly call `result.infer_objects(copy=False)`. To opt-in to the future behavior, set `pd.set_option('future.no_silent_downcasting', True)`\n",
      "  campaign['y'] = campaign['y'].replace({'yes': 1, 'no': 0})\n"
     ]
    }
   ],
   "source": [
    "# d/b of duration\n",
    "duration_db = (\n",
    "    campaign.groupby(common_features)['duration']\n",
    "    .value_counts(normalize = True)\n",
    "    .unstack(fill_value = 0)\n",
    ")\n",
    "\n",
    "# d/b of campaign\n",
    "campaign_db = (\n",
    "    campaign.groupby(common_features)['campaign']\n",
    "    .value_counts(normalize = True)\n",
    "    .unstack(fill_value = 0)\n",
    ")\n",
    "\n",
    "# d/b of pdays\n",
    "pdays_db = (\n",
    "    campaign.groupby(common_features)['pdays']\n",
    "    .value_counts(normalize = True)\n",
    "    .unstack(fill_value = 0)\n",
    ")\n",
    "\n",
    "# d/b of y\n",
    "campaign['y'] = campaign['y'].replace({'yes': 1, 'no': 0})\n",
    "y_db = (\n",
    "    campaign.groupby(common_features)['y']\n",
    "    .mean()\n",
    "    .reset_index()\n",
    ")"
   ]
  },
  {
   "cell_type": "markdown",
   "id": "aafca6c3",
   "metadata": {},
   "source": [
    "## 1.2 Sampling"
   ]
  },
  {
   "cell_type": "code",
   "execution_count": 6,
   "id": "f3126810-45b2-44b3-9808-c16d0d869e5f",
   "metadata": {},
   "outputs": [
    {
     "data": {
      "text/html": [
       "<div>\n",
       "<style scoped>\n",
       "    .dataframe tbody tr th:only-of-type {\n",
       "        vertical-align: middle;\n",
       "    }\n",
       "\n",
       "    .dataframe tbody tr th {\n",
       "        vertical-align: top;\n",
       "    }\n",
       "\n",
       "    .dataframe thead th {\n",
       "        text-align: right;\n",
       "    }\n",
       "</style>\n",
       "<table border=\"1\" class=\"dataframe\">\n",
       "  <thead>\n",
       "    <tr style=\"text-align: right;\">\n",
       "      <th></th>\n",
       "      <th>CLIENTNUM</th>\n",
       "      <th>Attrition_Flag</th>\n",
       "      <th>Customer_Age</th>\n",
       "      <th>Gender</th>\n",
       "      <th>Dependent_count</th>\n",
       "      <th>Education_Level</th>\n",
       "      <th>Marital_Status</th>\n",
       "      <th>Income_Category</th>\n",
       "      <th>Card_Category</th>\n",
       "      <th>Month_with_bank</th>\n",
       "      <th>...</th>\n",
       "      <th>Months_Inactive_12_mon</th>\n",
       "      <th>Credit_Limit</th>\n",
       "      <th>Total_Revolving_Bal</th>\n",
       "      <th>Total_Trans_Amt</th>\n",
       "      <th>Total_Trans_Count</th>\n",
       "      <th>Avg_Utilization_Ratio</th>\n",
       "      <th>Duration_of_Contact</th>\n",
       "      <th>Num_of_Contacts_Made</th>\n",
       "      <th>Last_Contacted</th>\n",
       "      <th>Outcome</th>\n",
       "    </tr>\n",
       "  </thead>\n",
       "  <tbody>\n",
       "    <tr>\n",
       "      <th>0</th>\n",
       "      <td>768805383</td>\n",
       "      <td>1</td>\n",
       "      <td>45</td>\n",
       "      <td>1</td>\n",
       "      <td>3</td>\n",
       "      <td>High School</td>\n",
       "      <td>1</td>\n",
       "      <td>2</td>\n",
       "      <td>1</td>\n",
       "      <td>39</td>\n",
       "      <td>...</td>\n",
       "      <td>1</td>\n",
       "      <td>12691.0</td>\n",
       "      <td>777</td>\n",
       "      <td>1144</td>\n",
       "      <td>42</td>\n",
       "      <td>0.061</td>\n",
       "      <td>1101</td>\n",
       "      <td>27</td>\n",
       "      <td>364</td>\n",
       "      <td>1</td>\n",
       "    </tr>\n",
       "    <tr>\n",
       "      <th>1</th>\n",
       "      <td>818770008</td>\n",
       "      <td>1</td>\n",
       "      <td>49</td>\n",
       "      <td>0</td>\n",
       "      <td>5</td>\n",
       "      <td>Graduate</td>\n",
       "      <td>0</td>\n",
       "      <td>4</td>\n",
       "      <td>1</td>\n",
       "      <td>44</td>\n",
       "      <td>...</td>\n",
       "      <td>1</td>\n",
       "      <td>8256.0</td>\n",
       "      <td>864</td>\n",
       "      <td>1291</td>\n",
       "      <td>33</td>\n",
       "      <td>0.105</td>\n",
       "      <td>864</td>\n",
       "      <td>5</td>\n",
       "      <td>391</td>\n",
       "      <td>0</td>\n",
       "    </tr>\n",
       "    <tr>\n",
       "      <th>2</th>\n",
       "      <td>713982108</td>\n",
       "      <td>1</td>\n",
       "      <td>51</td>\n",
       "      <td>1</td>\n",
       "      <td>3</td>\n",
       "      <td>Graduate</td>\n",
       "      <td>1</td>\n",
       "      <td>3</td>\n",
       "      <td>1</td>\n",
       "      <td>36</td>\n",
       "      <td>...</td>\n",
       "      <td>1</td>\n",
       "      <td>3418.0</td>\n",
       "      <td>0</td>\n",
       "      <td>1887</td>\n",
       "      <td>20</td>\n",
       "      <td>0.000</td>\n",
       "      <td>1205</td>\n",
       "      <td>63</td>\n",
       "      <td>394</td>\n",
       "      <td>1</td>\n",
       "    </tr>\n",
       "    <tr>\n",
       "      <th>3</th>\n",
       "      <td>709106358</td>\n",
       "      <td>1</td>\n",
       "      <td>40</td>\n",
       "      <td>1</td>\n",
       "      <td>3</td>\n",
       "      <td>Uneducated</td>\n",
       "      <td>1</td>\n",
       "      <td>2</td>\n",
       "      <td>1</td>\n",
       "      <td>21</td>\n",
       "      <td>...</td>\n",
       "      <td>1</td>\n",
       "      <td>4716.0</td>\n",
       "      <td>0</td>\n",
       "      <td>816</td>\n",
       "      <td>28</td>\n",
       "      <td>0.000</td>\n",
       "      <td>701</td>\n",
       "      <td>32</td>\n",
       "      <td>456</td>\n",
       "      <td>0</td>\n",
       "    </tr>\n",
       "    <tr>\n",
       "      <th>4</th>\n",
       "      <td>713061558</td>\n",
       "      <td>1</td>\n",
       "      <td>44</td>\n",
       "      <td>1</td>\n",
       "      <td>2</td>\n",
       "      <td>Graduate</td>\n",
       "      <td>1</td>\n",
       "      <td>1</td>\n",
       "      <td>1</td>\n",
       "      <td>36</td>\n",
       "      <td>...</td>\n",
       "      <td>1</td>\n",
       "      <td>4010.0</td>\n",
       "      <td>1247</td>\n",
       "      <td>1088</td>\n",
       "      <td>24</td>\n",
       "      <td>0.311</td>\n",
       "      <td>1859</td>\n",
       "      <td>31</td>\n",
       "      <td>310</td>\n",
       "      <td>1</td>\n",
       "    </tr>\n",
       "  </tbody>\n",
       "</table>\n",
       "<p>5 rows × 21 columns</p>\n",
       "</div>"
      ],
      "text/plain": [
       "   CLIENTNUM  Attrition_Flag  Customer_Age  Gender  Dependent_count  \\\n",
       "0  768805383               1            45       1                3   \n",
       "1  818770008               1            49       0                5   \n",
       "2  713982108               1            51       1                3   \n",
       "3  709106358               1            40       1                3   \n",
       "4  713061558               1            44       1                2   \n",
       "\n",
       "  Education_Level  Marital_Status  Income_Category  Card_Category  \\\n",
       "0     High School               1                2              1   \n",
       "1        Graduate               0                4              1   \n",
       "2        Graduate               1                3              1   \n",
       "3      Uneducated               1                2              1   \n",
       "4        Graduate               1                1              1   \n",
       "\n",
       "   Month_with_bank  ...  Months_Inactive_12_mon  Credit_Limit  \\\n",
       "0               39  ...                       1       12691.0   \n",
       "1               44  ...                       1        8256.0   \n",
       "2               36  ...                       1        3418.0   \n",
       "3               21  ...                       1        4716.0   \n",
       "4               36  ...                       1        4010.0   \n",
       "\n",
       "   Total_Revolving_Bal  Total_Trans_Amt  Total_Trans_Count  \\\n",
       "0                  777             1144                 42   \n",
       "1                  864             1291                 33   \n",
       "2                    0             1887                 20   \n",
       "3                    0              816                 28   \n",
       "4                 1247             1088                 24   \n",
       "\n",
       "   Avg_Utilization_Ratio  Duration_of_Contact  Num_of_Contacts_Made  \\\n",
       "0                  0.061                 1101                    27   \n",
       "1                  0.105                  864                     5   \n",
       "2                  0.000                 1205                    63   \n",
       "3                  0.000                  701                    32   \n",
       "4                  0.311                 1859                    31   \n",
       "\n",
       "   Last_Contacted  Outcome  \n",
       "0             364        1  \n",
       "1             391        0  \n",
       "2             394        1  \n",
       "3             456        0  \n",
       "4             310        1  \n",
       "\n",
       "[5 rows x 21 columns]"
      ]
     },
     "execution_count": 6,
     "metadata": {},
     "output_type": "execute_result"
    }
   ],
   "source": [
    "# generating synthetic features\n",
    "def generate_synthetic_features(df, distribution, feature):\n",
    "    synthetic_feature = []\n",
    "    \n",
    "    for _, row in df.iterrows():\n",
    "        features = tuple(row[common_features])\n",
    "        try:\n",
    "            sample = np.random.choice(\n",
    "                distribution.columns,\n",
    "                p=distribution.loc[features].values\n",
    "            )\n",
    "        except KeyError: #incase the feature combination is missing\n",
    "            sample = np.random.choice(distribution.columns)\n",
    "            \n",
    "        synthetic_feature.append(sample)\n",
    "            \n",
    "    return synthetic_feature\n",
    "\n",
    "def generate_synthetic_outcome(df, distribution):\n",
    "    synthetic_outcome = []\n",
    "    \n",
    "    for _, row in df.iterrows():\n",
    "        features = tuple(row[common_features])\n",
    "        matching_row = distribution.loc[(distribution[common_features] == features).all(axis=1)]\n",
    "        \n",
    "        if not matching_row.empty:\n",
    "            prob_yes = matching_row['y'].values[0]\n",
    "            sample = np.random.choice([0, 1], p=[1 - prob_yes, prob_yes])\n",
    "        else:\n",
    "            sample = np.random.choice([0, 1])\n",
    "        \n",
    "        synthetic_outcome.append(sample)\n",
    "    \n",
    "    return synthetic_outcome\n",
    "\n",
    "# generating the data\n",
    "np.random.seed(3101)\n",
    "original['Duration_of_Contact'] = generate_synthetic_features(ori, duration_db, 'duration')\n",
    "original['Num_of_Contacts_Made'] = generate_synthetic_features(ori, campaign_db, 'campaign')\n",
    "original['Last_Contacted'] = generate_synthetic_features(ori, pdays_db, 'pdays')\n",
    "original['Outcome'] = generate_synthetic_outcome(ori, y_db)\n",
    "original.head()"
   ]
  },
  {
   "cell_type": "markdown",
   "id": "821cafcf",
   "metadata": {},
   "source": [
    "# 2 Savings"
   ]
  },
  {
   "cell_type": "markdown",
   "id": "a0114f40",
   "metadata": {},
   "source": [
    "We will be generating synthetic data 'saving' base on the sav dataset. Since savings are usually highly correlated to income, we will make use of income to make some decisions(clustering)."
   ]
  },
  {
   "cell_type": "markdown",
   "id": "02febc3f",
   "metadata": {},
   "source": [
    "## 2.1 Data cleaning"
   ]
  },
  {
   "cell_type": "code",
   "execution_count": 7,
   "id": "200a3dae",
   "metadata": {},
   "outputs": [],
   "source": [
    "# convert income into income category then one-hot encoding\n",
    "bins = [0, 40000, 60000, 80000, 120000, float('inf')]\n",
    "labels = ['Less than 40', '40 - 60', '60 - 80', '80 - 120', '120 +']\n",
    "sav['Income_Category'] = pd.cut(sav['INCOME'], bins = bins, labels = labels, right = False)\n",
    "sav = pd.get_dummies(sav, columns=['Income_Category'], drop_first=True)"
   ]
  },
  {
   "cell_type": "markdown",
   "id": "1edf9bf1",
   "metadata": {},
   "source": [
    "## 2.2 Clustering"
   ]
  },
  {
   "cell_type": "code",
   "execution_count": 8,
   "id": "5c2f16ef",
   "metadata": {},
   "outputs": [
    {
     "name": "stderr",
     "output_type": "stream",
     "text": [
      "/opt/anaconda3/envs/DSA3101/lib/python3.11/site-packages/sklearn/base.py:1473: ConvergenceWarning: Number of distinct clusters (5) found smaller than n_clusters (6). Possibly due to duplicate points in X.\n",
      "  return fit_method(estimator, *args, **kwargs)\n",
      "/opt/anaconda3/envs/DSA3101/lib/python3.11/site-packages/sklearn/base.py:1473: ConvergenceWarning: Number of distinct clusters (5) found smaller than n_clusters (7). Possibly due to duplicate points in X.\n",
      "  return fit_method(estimator, *args, **kwargs)\n",
      "/opt/anaconda3/envs/DSA3101/lib/python3.11/site-packages/sklearn/base.py:1473: ConvergenceWarning: Number of distinct clusters (5) found smaller than n_clusters (8). Possibly due to duplicate points in X.\n",
      "  return fit_method(estimator, *args, **kwargs)\n",
      "/opt/anaconda3/envs/DSA3101/lib/python3.11/site-packages/sklearn/base.py:1473: ConvergenceWarning: Number of distinct clusters (5) found smaller than n_clusters (9). Possibly due to duplicate points in X.\n",
      "  return fit_method(estimator, *args, **kwargs)\n",
      "/opt/anaconda3/envs/DSA3101/lib/python3.11/site-packages/sklearn/base.py:1473: ConvergenceWarning: Number of distinct clusters (5) found smaller than n_clusters (10). Possibly due to duplicate points in X.\n",
      "  return fit_method(estimator, *args, **kwargs)\n"
     ]
    },
    {
     "data": {
      "image/png": "[encoded data removed]",
      "text/plain": [
       "<Figure size 800x600 with 1 Axes>"
      ]
     },
     "metadata": {},
     "output_type": "display_data"
    }
   ],
   "source": [
    "features = sav[['Income_Category_40 - 60', 'Income_Category_60 - 80', 'Income_Category_80 - 120', 'Income_Category_120 +']]\n",
    "\n",
    "# Elbow method to find the optimal number of clusters\n",
    "cluster_range = range(1, 11)\n",
    "wcss = []\n",
    "\n",
    "for k in cluster_range:\n",
    "    kmeans = KMeans(n_clusters=k, n_init=10, random_state=42)\n",
    "    kmeans.fit(features)\n",
    "    wcss.append(kmeans.inertia_)\n",
    "\n",
    "# Plot the elbow graph\n",
    "plt.figure(figsize=(8, 6))\n",
    "plt.plot(cluster_range, wcss, marker='o')\n",
    "plt.title('Elbow Method for Optimal K')\n",
    "plt.xlabel('Number of Clusters')\n",
    "plt.ylabel('Within-Cluster Sum of Squares (WCSS)')\n",
    "plt.show()\n"
   ]
  },
  {
   "cell_type": "code",
   "execution_count": 9,
   "id": "2846ca32",
   "metadata": {},
   "outputs": [],
   "source": [
    "optimal_clusters = 5\n",
    "kmeans = KMeans(n_clusters=optimal_clusters, n_init=10, random_state=42)\n",
    "sav['Cluster'] = kmeans.fit_predict(features)\n",
    "\n",
    "# Calculate mean and standard deviation for savings in each cluster\n",
    "cluster_stats = sav.groupby('Cluster')['SAVINGS'].agg(['mean', 'std']).reset_index()\n",
    "cluster_stats.columns = ['Cluster', 'Mean', 'SD']"
   ]
  },
  {
   "cell_type": "markdown",
   "id": "8c26dbca",
   "metadata": {},
   "source": [
    "## 2.2 Sampling"
   ]
  },
  {
   "cell_type": "code",
   "execution_count": 10,
   "id": "19d536c5",
   "metadata": {},
   "outputs": [],
   "source": [
    "# Define a function to sample synthetic savings\n",
    "def sample_savings(cluster):\n",
    "    \"\"\"Generates synthetic savings based on the cluster's mean and standard deviation.\"\"\"\n",
    "    mean = cluster_stats.loc[cluster_stats['Cluster'] == cluster, 'Mean'].values[0]\n",
    "    std = cluster_stats.loc[cluster_stats['Cluster'] == cluster, 'SD'].values[0]\n",
    "    return round(np.maximum(np.random.normal(mean, std), 0), 2)  # Ensure non-negative values\n"
   ]
  },
  {
   "cell_type": "code",
   "execution_count": 11,
   "id": "50641247",
   "metadata": {},
   "outputs": [
    {
     "ename": "KeyError",
     "evalue": "\"None of [Index(['Income_Category_40 - 60', 'Income_Category_60 - 80',\\n       'Income_Category_80 - 120', 'Income_Category_120 +'],\\n      dtype='object')] are in the [columns]\"",
     "output_type": "error",
     "traceback": [
      "\u001b[0;31m---------------------------------------------------------------------------\u001b[0m",
      "\u001b[0;31mKeyError\u001b[0m                                  Traceback (most recent call last)",
      "Cell \u001b[0;32mIn[11], line 6\u001b[0m\n\u001b[1;32m      4\u001b[0m \u001b[38;5;66;03m# Apply clustering and synthetic savings generation to 'original' data\u001b[39;00m\n\u001b[1;32m      5\u001b[0m original \u001b[38;5;241m=\u001b[39m pd\u001b[38;5;241m.\u001b[39mget_dummies(original, columns\u001b[38;5;241m=\u001b[39m[\u001b[38;5;124m'\u001b[39m\u001b[38;5;124mIncome_Category\u001b[39m\u001b[38;5;124m'\u001b[39m], drop_first\u001b[38;5;241m=\u001b[39m\u001b[38;5;28;01mFalse\u001b[39;00m)\n\u001b[0;32m----> 6\u001b[0m original[\u001b[38;5;124m'\u001b[39m\u001b[38;5;124mCluster\u001b[39m\u001b[38;5;124m'\u001b[39m] \u001b[38;5;241m=\u001b[39m kmeans\u001b[38;5;241m.\u001b[39mpredict(\u001b[43moriginal\u001b[49m\u001b[43m[\u001b[49m\u001b[43m[\u001b[49m\u001b[38;5;124;43m'\u001b[39;49m\u001b[38;5;124;43mIncome_Category_40 - 60\u001b[39;49m\u001b[38;5;124;43m'\u001b[39;49m\u001b[43m,\u001b[49m\u001b[43m \u001b[49m\u001b[38;5;124;43m'\u001b[39;49m\u001b[38;5;124;43mIncome_Category_60 - 80\u001b[39;49m\u001b[38;5;124;43m'\u001b[39;49m\u001b[43m,\u001b[49m\u001b[43m \u001b[49m\u001b[38;5;124;43m'\u001b[39;49m\u001b[38;5;124;43mIncome_Category_80 - 120\u001b[39;49m\u001b[38;5;124;43m'\u001b[39;49m\u001b[43m,\u001b[49m\u001b[43m \u001b[49m\u001b[38;5;124;43m'\u001b[39;49m\u001b[38;5;124;43mIncome_Category_120 +\u001b[39;49m\u001b[38;5;124;43m'\u001b[39;49m\u001b[43m]\u001b[49m\u001b[43m]\u001b[49m)\n\u001b[1;32m      7\u001b[0m original[\u001b[38;5;124m'\u001b[39m\u001b[38;5;124mSavings\u001b[39m\u001b[38;5;124m'\u001b[39m] \u001b[38;5;241m=\u001b[39m original[\u001b[38;5;124m'\u001b[39m\u001b[38;5;124mCluster\u001b[39m\u001b[38;5;124m'\u001b[39m]\u001b[38;5;241m.\u001b[39mapply(sample_savings)\n",
      "File \u001b[0;32m/opt/anaconda3/envs/DSA3101/lib/python3.11/site-packages/pandas/core/frame.py:4108\u001b[0m, in \u001b[0;36mDataFrame.__getitem__\u001b[0;34m(self, key)\u001b[0m\n\u001b[1;32m   4106\u001b[0m     \u001b[38;5;28;01mif\u001b[39;00m is_iterator(key):\n\u001b[1;32m   4107\u001b[0m         key \u001b[38;5;241m=\u001b[39m \u001b[38;5;28mlist\u001b[39m(key)\n\u001b[0;32m-> 4108\u001b[0m     indexer \u001b[38;5;241m=\u001b[39m \u001b[38;5;28;43mself\u001b[39;49m\u001b[38;5;241;43m.\u001b[39;49m\u001b[43mcolumns\u001b[49m\u001b[38;5;241;43m.\u001b[39;49m\u001b[43m_get_indexer_strict\u001b[49m\u001b[43m(\u001b[49m\u001b[43mkey\u001b[49m\u001b[43m,\u001b[49m\u001b[43m \u001b[49m\u001b[38;5;124;43m\"\u001b[39;49m\u001b[38;5;124;43mcolumns\u001b[39;49m\u001b[38;5;124;43m\"\u001b[39;49m\u001b[43m)\u001b[49m[\u001b[38;5;241m1\u001b[39m]\n\u001b[1;32m   4110\u001b[0m \u001b[38;5;66;03m# take() does not accept boolean indexers\u001b[39;00m\n\u001b[1;32m   4111\u001b[0m \u001b[38;5;28;01mif\u001b[39;00m \u001b[38;5;28mgetattr\u001b[39m(indexer, \u001b[38;5;124m\"\u001b[39m\u001b[38;5;124mdtype\u001b[39m\u001b[38;5;124m\"\u001b[39m, \u001b[38;5;28;01mNone\u001b[39;00m) \u001b[38;5;241m==\u001b[39m \u001b[38;5;28mbool\u001b[39m:\n",
      "File \u001b[0;32m/opt/anaconda3/envs/DSA3101/lib/python3.11/site-packages/pandas/core/indexes/base.py:6200\u001b[0m, in \u001b[0;36mIndex._get_indexer_strict\u001b[0;34m(self, key, axis_name)\u001b[0m\n\u001b[1;32m   6197\u001b[0m \u001b[38;5;28;01melse\u001b[39;00m:\n\u001b[1;32m   6198\u001b[0m     keyarr, indexer, new_indexer \u001b[38;5;241m=\u001b[39m \u001b[38;5;28mself\u001b[39m\u001b[38;5;241m.\u001b[39m_reindex_non_unique(keyarr)\n\u001b[0;32m-> 6200\u001b[0m \u001b[38;5;28;43mself\u001b[39;49m\u001b[38;5;241;43m.\u001b[39;49m\u001b[43m_raise_if_missing\u001b[49m\u001b[43m(\u001b[49m\u001b[43mkeyarr\u001b[49m\u001b[43m,\u001b[49m\u001b[43m \u001b[49m\u001b[43mindexer\u001b[49m\u001b[43m,\u001b[49m\u001b[43m \u001b[49m\u001b[43maxis_name\u001b[49m\u001b[43m)\u001b[49m\n\u001b[1;32m   6202\u001b[0m keyarr \u001b[38;5;241m=\u001b[39m \u001b[38;5;28mself\u001b[39m\u001b[38;5;241m.\u001b[39mtake(indexer)\n\u001b[1;32m   6203\u001b[0m \u001b[38;5;28;01mif\u001b[39;00m \u001b[38;5;28misinstance\u001b[39m(key, Index):\n\u001b[1;32m   6204\u001b[0m     \u001b[38;5;66;03m# GH 42790 - Preserve name from an Index\u001b[39;00m\n",
      "File \u001b[0;32m/opt/anaconda3/envs/DSA3101/lib/python3.11/site-packages/pandas/core/indexes/base.py:6249\u001b[0m, in \u001b[0;36mIndex._raise_if_missing\u001b[0;34m(self, key, indexer, axis_name)\u001b[0m\n\u001b[1;32m   6247\u001b[0m \u001b[38;5;28;01mif\u001b[39;00m nmissing:\n\u001b[1;32m   6248\u001b[0m     \u001b[38;5;28;01mif\u001b[39;00m nmissing \u001b[38;5;241m==\u001b[39m \u001b[38;5;28mlen\u001b[39m(indexer):\n\u001b[0;32m-> 6249\u001b[0m         \u001b[38;5;28;01mraise\u001b[39;00m \u001b[38;5;167;01mKeyError\u001b[39;00m(\u001b[38;5;124mf\u001b[39m\u001b[38;5;124m\"\u001b[39m\u001b[38;5;124mNone of [\u001b[39m\u001b[38;5;132;01m{\u001b[39;00mkey\u001b[38;5;132;01m}\u001b[39;00m\u001b[38;5;124m] are in the [\u001b[39m\u001b[38;5;132;01m{\u001b[39;00maxis_name\u001b[38;5;132;01m}\u001b[39;00m\u001b[38;5;124m]\u001b[39m\u001b[38;5;124m\"\u001b[39m)\n\u001b[1;32m   6251\u001b[0m     not_found \u001b[38;5;241m=\u001b[39m \u001b[38;5;28mlist\u001b[39m(ensure_index(key)[missing_mask\u001b[38;5;241m.\u001b[39mnonzero()[\u001b[38;5;241m0\u001b[39m]]\u001b[38;5;241m.\u001b[39munique())\n\u001b[1;32m   6252\u001b[0m     \u001b[38;5;28;01mraise\u001b[39;00m \u001b[38;5;167;01mKeyError\u001b[39;00m(\u001b[38;5;124mf\u001b[39m\u001b[38;5;124m\"\u001b[39m\u001b[38;5;132;01m{\u001b[39;00mnot_found\u001b[38;5;132;01m}\u001b[39;00m\u001b[38;5;124m not in index\u001b[39m\u001b[38;5;124m\"\u001b[39m)\n",
      "\u001b[0;31mKeyError\u001b[0m: \"None of [Index(['Income_Category_40 - 60', 'Income_Category_60 - 80',\\n       'Income_Category_80 - 120', 'Income_Category_120 +'],\\n      dtype='object')] are in the [columns]\""
     ]
    }
   ],
   "source": [
    "# Apply synthetic savings generation to 'sav' data\n",
    "sav['Synthetic_Savings'] = sav['Cluster'].apply(sample_savings)\n",
    "\n",
    "# Apply clustering and synthetic savings generation to 'original' data\n",
    "original = pd.get_dummies(original, columns=['Income_Category'], drop_first=False)\n",
    "original['Cluster'] = kmeans.predict(original[['Income_Category_40 - 60', 'Income_Category_60 - 80', 'Income_Category_80 - 120', 'Income_Category_120 +']])\n",
    "original['Savings'] = original['Cluster'].apply(sample_savings)"
   ]
  },
  {
   "cell_type": "markdown",
   "id": "a0ad7dba",
   "metadata": {},
   "source": [
    "# 2. Exporting to data/processed"
   ]
  },
  {
   "cell_type": "code",
   "execution_count": 33,
   "id": "81959bd9-1a3c-4612-a6fa-3e4407627008",
   "metadata": {},
   "outputs": [],
   "source": [
    "features = ['CLIENTNUM', 'Savings','Duration_of_Contact', 'Num_of_Contacts_Made','Last_Contacted','Outcome']\n",
    "final_df = original.loc[:,features]\n",
    "final_df.to_csv('../data/processed/Campaign.csv', index=False)"
   ]
  }
 ],
 "metadata": {
  "kernelspec": {
   "display_name": "Python 3 (ipykernel)",
   "language": "python",
   "name": "python3"
  },
  "language_info": {
   "codemirror_mode": {
    "name": "ipython",
    "version": 3
   },
   "file_extension": ".py",
   "mimetype": "text/x-python",
   "name": "python",
   "nbconvert_exporter": "python",
   "pygments_lexer": "ipython3",
   "version": "3.11.9"
  }
 },
 "nbformat": 4,
 "nbformat_minor": 5
}
