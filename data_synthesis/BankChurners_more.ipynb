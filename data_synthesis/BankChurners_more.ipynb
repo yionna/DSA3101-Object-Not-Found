{
 "cells": [
  {
   "cell_type": "markdown",
   "metadata": {},
   "source": [
    "# Oversampling of BankChurners_cleaned"
   ]
  },
  {
   "cell_type": "code",
   "execution_count": 3,
   "metadata": {},
   "outputs": [],
   "source": [
    "import pandas as pd\n",
    "from sdv.single_table import CTGANSynthesizer\n",
    "from sdv.metadata import SingleTableMetadata"
   ]
  },
  {
   "cell_type": "code",
   "execution_count": 4,
   "metadata": {},
   "outputs": [],
   "source": [
    "original = pd.read_csv(\"../data/processed/BankChurners_cleaned.csv\")"
   ]
  },
  {
   "cell_type": "code",
   "execution_count": 5,
   "metadata": {},
   "outputs": [
    {
     "name": "stderr",
     "output_type": "stream",
     "text": [
      "/opt/anaconda3/envs/DSA3101/lib/python3.11/site-packages/sdv/single_table/base.py:120: FutureWarning: The 'SingleTableMetadata' is deprecated. Please use the new 'Metadata' class for synthesizers.\n",
      "  warnings.warn(DEPRECATION_MSG, FutureWarning)\n",
      "/opt/anaconda3/envs/DSA3101/lib/python3.11/site-packages/sdv/single_table/base.py:105: UserWarning: We strongly recommend saving the metadata using 'save_to_json' for replicability in future SDV versions.\n",
      "  warnings.warn(\n"
     ]
    }
   ],
   "source": [
    "# Automatically infer metadata from the DataFrame\n",
    "metadata = SingleTableMetadata()\n",
    "metadata.detect_from_dataframe(data=original)\n",
    "synthesizer = CTGANSynthesizer(metadata)\n",
    "synthesizer.fit(original)\n",
    "synthetic_data = synthesizer.sample(100000)"
   ]
  },
  {
   "cell_type": "code",
   "execution_count": 6,
   "metadata": {},
   "outputs": [],
   "source": [
    "# Check for duplicates in CLIENTNUM in the synthetic data\n",
    "duplicates = synthetic_data['CLIENTNUM'].isin(original['CLIENTNUM'])\n",
    "\n",
    "# Remove duplicates from synthetic data\n",
    "synthetic_data_unique = synthetic_data[~duplicates]\n",
    "\n",
    "# Concatenate the original and unique synthetic data\n",
    "expanded_data = pd.concat([original, synthetic_data_unique], ignore_index=True)\n",
    "\n",
    "# Save the combined dataset\n",
    "expanded_data.to_csv(\"../data/processed/BankChurners_more.csv\", index=False)"
   ]
  }
 ],
 "metadata": {
  "kernelspec": {
   "display_name": "DSA3101",
   "language": "python",
   "name": "python3"
  },
  "language_info": {
   "codemirror_mode": {
    "name": "ipython",
    "version": 3
   },
   "file_extension": ".py",
   "mimetype": "text/x-python",
   "name": "python",
   "nbconvert_exporter": "python",
   "pygments_lexer": "ipython3",
   "version": "3.11.9"
  }
 },
 "nbformat": 4,
 "nbformat_minor": 2
}
