{
 "cells": [
  {
   "cell_type": "code",
   "execution_count": 8,
   "metadata": {},
   "outputs": [],
   "source": [
    "import pandas as pd\n",
    "from models.customerSegmentation.dynamic import *\n",
    "from models.customerSegmentation.CustomerDataGenerator import *\n",
    "from datetime import datetime,timedelta\n",
    "\n",
    "base_df = pd.read_csv(\"data/processed/BankChurners_more.csv\")\n",
    "banking_df = pd.read_csv(\"data/processed/banking_behaviour_preference.csv\")\n"
   ]
  },
  {
   "cell_type": "code",
   "execution_count": 9,
   "metadata": {},
   "outputs": [
    {
     "ename": "AttributeError",
     "evalue": "'DynamicCustomerSegmentation' object has no attribute 'get_updated_initial_data'",
     "output_type": "error",
     "traceback": [
      "\u001b[0;31m---------------------------------------------------------------------------\u001b[0m",
      "\u001b[0;31mAttributeError\u001b[0m                            Traceback (most recent call last)",
      "Cell \u001b[0;32mIn[9], line 21\u001b[0m\n\u001b[1;32m     19\u001b[0m \u001b[38;5;66;03m# Optionally, get the full original data with SEGMENT and DIGITAL_CAPABILITY appended\u001b[39;00m\n\u001b[1;32m     20\u001b[0m full_data_with_segments \u001b[38;5;241m=\u001b[39m dynamic_segmentation\u001b[38;5;241m.\u001b[39mget_full_original_with_segment()\n\u001b[0;32m---> 21\u001b[0m updated \u001b[38;5;241m=\u001b[39m \u001b[43mdynamic_segmentation\u001b[49m\u001b[38;5;241;43m.\u001b[39;49m\u001b[43mget_updated_initial_data\u001b[49m()\n\u001b[1;32m     23\u001b[0m \u001b[38;5;66;03m# Display the segmented result\u001b[39;00m\n\u001b[1;32m     24\u001b[0m \u001b[38;5;28mprint\u001b[39m(segmented_result)\n",
      "\u001b[0;31mAttributeError\u001b[0m: 'DynamicCustomerSegmentation' object has no attribute 'get_updated_initial_data'"
     ]
    }
   ],
   "source": [
    "# Customer segmentation\n",
    "start_date = pd.to_datetime(\"2024-01-01\")  # Starting date, First day of 2024\n",
    "banking_df.insert(1, 'Time', start_date)\n",
    "\n",
    "\n",
    "high_generator = CustomerDataGenerator(churn_rate=0.1, campaign_effectiveness=0.9, customer_satisfaction=0.9)\n",
    "initial_date = datetime(2024, 1, 1)\n",
    "high_timestamp = initial_date + timedelta(weeks = 1)\n",
    "\n",
    "# Generate synthetic data with high effectiveness and satisfaction\n",
    "high_data = high_generator.generate_data(banking_df, num_records=10000, timestamp=high_timestamp)\n",
    "\n",
    "# Initialize with the initial dataset (final_df)\n",
    "dynamic_segmentation = DynamicCustomerSegmentation(initial_data=banking_df)\n",
    "\n",
    "# Process new data (simulation_1) and get the segmented result\n",
    "segmented_result = dynamic_segmentation.process_new_data(high_data)\n",
    "\n",
    "# Optionally, get the full original data with SEGMENT and DIGITAL_CAPABILITY appended\n",
    "full_data_with_segments = dynamic_segmentation.get_full_original_with_segment()\n",
    "updated = dynamic_segmentation.get_updated_initial_data()\n",
    "\n",
    "# Display the segmented result\n",
    "print(segmented_result)\n"
   ]
  }
 ],
 "metadata": {
  "kernelspec": {
   "display_name": "DSA3101",
   "language": "python",
   "name": "python3"
  },
  "language_info": {
   "codemirror_mode": {
    "name": "ipython",
    "version": 3
   },
   "file_extension": ".py",
   "mimetype": "text/x-python",
   "name": "python",
   "nbconvert_exporter": "python",
   "pygments_lexer": "ipython3",
   "version": "3.11.9"
  }
 },
 "nbformat": 4,
 "nbformat_minor": 2
}
