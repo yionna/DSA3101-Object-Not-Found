{
 "cells": [
  {
   "cell_type": "markdown",
   "id": "9d837362-9324-41b1-a8e2-d5fa20cbefe0",
   "metadata": {},
   "source": [
    "# Cleaning the main data (BankChurners.csv)"
   ]
  },
  {
   "cell_type": "code",
   "execution_count": 208,
   "id": "aaaef645-2ec1-4368-a096-cf836603eb89",
   "metadata": {},
   "outputs": [],
   "source": [
    "import pandas as pd"
   ]
  },
  {
   "cell_type": "code",
   "execution_count": 210,
   "id": "0eac9dcf-d97c-43ba-a89b-0adc7665ff47",
   "metadata": {},
   "outputs": [],
   "source": [
    "df = pd.read_csv(\"../data/BankChurners.csv\")"
   ]
  },
  {
   "cell_type": "markdown",
   "id": "e37b4f77-9c23-4573-8728-d695753cf218",
   "metadata": {},
   "source": [
    "### Drop irrelevant columns"
   ]
  },
  {
   "cell_type": "code",
   "execution_count": 213,
   "id": "00f51ed5-b47d-46ac-9d33-e65627e0402b",
   "metadata": {},
   "outputs": [],
   "source": [
    "df = df.drop([\n",
    "    'Naive_Bayes_Classifier_Attrition_Flag_Card_Category_Contacts_Count_12_mon_Dependent_count_Education_Level_Months_Inactive_12_mon_1',\n",
    "    'Naive_Bayes_Classifier_Attrition_Flag_Card_Category_Contacts_Count_12_mon_Dependent_count_Education_Level_Months_Inactive_12_mon_2'\n",
    "], axis=1)\n",
    "df = df.drop(columns=['Avg_Open_To_Buy','Total_Amt_Chng_Q4_Q1','Contacts_Count_12_mon',\n",
    "                                  'Total_Ct_Chng_Q4_Q1'])"
   ]
  },
  {
   "cell_type": "markdown",
   "id": "52c967b4-8d2f-4d32-bf44-ae4d566973eb",
   "metadata": {},
   "source": [
    "## Analysing the dataframe"
   ]
  },
  {
   "cell_type": "code",
   "execution_count": 216,
   "id": "b2f59384-7248-45d5-8bdd-d93cc149d115",
   "metadata": {},
   "outputs": [
    {
     "data": {
      "text/html": [
       "<div>\n",
       "<style scoped>\n",
       "    .dataframe tbody tr th:only-of-type {\n",
       "        vertical-align: middle;\n",
       "    }\n",
       "\n",
       "    .dataframe tbody tr th {\n",
       "        vertical-align: top;\n",
       "    }\n",
       "\n",
       "    .dataframe thead th {\n",
       "        text-align: right;\n",
       "    }\n",
       "</style>\n",
       "<table border=\"1\" class=\"dataframe\">\n",
       "  <thead>\n",
       "    <tr style=\"text-align: right;\">\n",
       "      <th></th>\n",
       "      <th>CLIENTNUM</th>\n",
       "      <th>Attrition_Flag</th>\n",
       "      <th>Customer_Age</th>\n",
       "      <th>Gender</th>\n",
       "      <th>Dependent_count</th>\n",
       "      <th>Education_Level</th>\n",
       "      <th>Marital_Status</th>\n",
       "      <th>Income_Category</th>\n",
       "      <th>Card_Category</th>\n",
       "      <th>Months_on_book</th>\n",
       "      <th>Total_Relationship_Count</th>\n",
       "      <th>Months_Inactive_12_mon</th>\n",
       "      <th>Credit_Limit</th>\n",
       "      <th>Total_Revolving_Bal</th>\n",
       "      <th>Total_Trans_Amt</th>\n",
       "      <th>Total_Trans_Ct</th>\n",
       "      <th>Avg_Utilization_Ratio</th>\n",
       "    </tr>\n",
       "  </thead>\n",
       "  <tbody>\n",
       "    <tr>\n",
       "      <th>0</th>\n",
       "      <td>768805383</td>\n",
       "      <td>Existing Customer</td>\n",
       "      <td>45</td>\n",
       "      <td>M</td>\n",
       "      <td>3</td>\n",
       "      <td>High School</td>\n",
       "      <td>Married</td>\n",
       "      <td>$60K - $80K</td>\n",
       "      <td>Blue</td>\n",
       "      <td>39</td>\n",
       "      <td>5</td>\n",
       "      <td>1</td>\n",
       "      <td>12691.0</td>\n",
       "      <td>777</td>\n",
       "      <td>1144</td>\n",
       "      <td>42</td>\n",
       "      <td>0.061</td>\n",
       "    </tr>\n",
       "    <tr>\n",
       "      <th>1</th>\n",
       "      <td>818770008</td>\n",
       "      <td>Existing Customer</td>\n",
       "      <td>49</td>\n",
       "      <td>F</td>\n",
       "      <td>5</td>\n",
       "      <td>Graduate</td>\n",
       "      <td>Single</td>\n",
       "      <td>Less than $40K</td>\n",
       "      <td>Blue</td>\n",
       "      <td>44</td>\n",
       "      <td>6</td>\n",
       "      <td>1</td>\n",
       "      <td>8256.0</td>\n",
       "      <td>864</td>\n",
       "      <td>1291</td>\n",
       "      <td>33</td>\n",
       "      <td>0.105</td>\n",
       "    </tr>\n",
       "    <tr>\n",
       "      <th>2</th>\n",
       "      <td>713982108</td>\n",
       "      <td>Existing Customer</td>\n",
       "      <td>51</td>\n",
       "      <td>M</td>\n",
       "      <td>3</td>\n",
       "      <td>Graduate</td>\n",
       "      <td>Married</td>\n",
       "      <td>$80K - $120K</td>\n",
       "      <td>Blue</td>\n",
       "      <td>36</td>\n",
       "      <td>4</td>\n",
       "      <td>1</td>\n",
       "      <td>3418.0</td>\n",
       "      <td>0</td>\n",
       "      <td>1887</td>\n",
       "      <td>20</td>\n",
       "      <td>0.000</td>\n",
       "    </tr>\n",
       "    <tr>\n",
       "      <th>3</th>\n",
       "      <td>769911858</td>\n",
       "      <td>Existing Customer</td>\n",
       "      <td>40</td>\n",
       "      <td>F</td>\n",
       "      <td>4</td>\n",
       "      <td>High School</td>\n",
       "      <td>Unknown</td>\n",
       "      <td>Less than $40K</td>\n",
       "      <td>Blue</td>\n",
       "      <td>34</td>\n",
       "      <td>3</td>\n",
       "      <td>4</td>\n",
       "      <td>3313.0</td>\n",
       "      <td>2517</td>\n",
       "      <td>1171</td>\n",
       "      <td>20</td>\n",
       "      <td>0.760</td>\n",
       "    </tr>\n",
       "    <tr>\n",
       "      <th>4</th>\n",
       "      <td>709106358</td>\n",
       "      <td>Existing Customer</td>\n",
       "      <td>40</td>\n",
       "      <td>M</td>\n",
       "      <td>3</td>\n",
       "      <td>Uneducated</td>\n",
       "      <td>Married</td>\n",
       "      <td>$60K - $80K</td>\n",
       "      <td>Blue</td>\n",
       "      <td>21</td>\n",
       "      <td>5</td>\n",
       "      <td>1</td>\n",
       "      <td>4716.0</td>\n",
       "      <td>0</td>\n",
       "      <td>816</td>\n",
       "      <td>28</td>\n",
       "      <td>0.000</td>\n",
       "    </tr>\n",
       "  </tbody>\n",
       "</table>\n",
       "</div>"
      ],
      "text/plain": [
       "   CLIENTNUM     Attrition_Flag  Customer_Age Gender  Dependent_count  \\\n",
       "0  768805383  Existing Customer            45      M                3   \n",
       "1  818770008  Existing Customer            49      F                5   \n",
       "2  713982108  Existing Customer            51      M                3   \n",
       "3  769911858  Existing Customer            40      F                4   \n",
       "4  709106358  Existing Customer            40      M                3   \n",
       "\n",
       "  Education_Level Marital_Status Income_Category Card_Category  \\\n",
       "0     High School        Married     $60K - $80K          Blue   \n",
       "1        Graduate         Single  Less than $40K          Blue   \n",
       "2        Graduate        Married    $80K - $120K          Blue   \n",
       "3     High School        Unknown  Less than $40K          Blue   \n",
       "4      Uneducated        Married     $60K - $80K          Blue   \n",
       "\n",
       "   Months_on_book  Total_Relationship_Count  Months_Inactive_12_mon  \\\n",
       "0              39                         5                       1   \n",
       "1              44                         6                       1   \n",
       "2              36                         4                       1   \n",
       "3              34                         3                       4   \n",
       "4              21                         5                       1   \n",
       "\n",
       "   Credit_Limit  Total_Revolving_Bal  Total_Trans_Amt  Total_Trans_Ct  \\\n",
       "0       12691.0                  777             1144              42   \n",
       "1        8256.0                  864             1291              33   \n",
       "2        3418.0                    0             1887              20   \n",
       "3        3313.0                 2517             1171              20   \n",
       "4        4716.0                    0              816              28   \n",
       "\n",
       "   Avg_Utilization_Ratio  \n",
       "0                  0.061  \n",
       "1                  0.105  \n",
       "2                  0.000  \n",
       "3                  0.760  \n",
       "4                  0.000  "
      ]
     },
     "metadata": {},
     "output_type": "display_data"
    }
   ],
   "source": [
    "display(df.head(5))"
   ]
  },
  {
   "cell_type": "markdown",
   "id": "1a5ee0e7-eae8-4ea7-a329-d9c5a5052cb9",
   "metadata": {},
   "source": [
    "### Renaming columns & naming for Income Category"
   ]
  },
  {
   "cell_type": "code",
   "execution_count": 219,
   "id": "435097b1-4c30-4525-8e23-7aa9b4f3b111",
   "metadata": {},
   "outputs": [],
   "source": [
    "df = df.rename(columns={'Months_on_book' : 'Month_with_bank',\n",
    "                        'Total_Relationship_Count' : 'No_of_product',\n",
    "                        'Total_Trans_Ct' : 'Total_Trans_Count'})"
   ]
  },
  {
   "cell_type": "markdown",
   "id": "408121a1-fe15-470a-b057-724411a96a5e",
   "metadata": {},
   "source": [
    "#### Income Category"
   ]
  },
  {
   "cell_type": "code",
   "execution_count": 222,
   "id": "a618b0a3-8512-48ef-9233-78ed2fe7d158",
   "metadata": {},
   "outputs": [],
   "source": [
    "def clean_col(x):\n",
    "        if 'K' in x:\n",
    "            return x.replace('K','').replace('$','')\n",
    "        elif '+' in x:\n",
    "            return x.replace('+','')\n",
    "        elif x =='Less than 40':\n",
    "            return x.split()[2]\n",
    "        return x\n",
    "    \n",
    "df['Income_Category'] = df['Income_Category'].apply(clean_col)"
   ]
  },
  {
   "cell_type": "code",
   "execution_count": 224,
   "id": "d36f79fb-1f63-4c25-9f25-6d050056060a",
   "metadata": {},
   "outputs": [
    {
     "data": {
      "text/plain": [
       "(10127, 17)"
      ]
     },
     "execution_count": 224,
     "metadata": {},
     "output_type": "execute_result"
    }
   ],
   "source": [
    "shape = df.shape\n",
    "shape"
   ]
  },
  {
   "cell_type": "markdown",
   "id": "fcbf494a-a3b2-4b99-acc4-318ba0d76db1",
   "metadata": {},
   "source": [
    "### Duplicates"
   ]
  },
  {
   "cell_type": "code",
   "execution_count": 227,
   "id": "1448d6d0-bf5e-4182-94dc-b4b9ba029604",
   "metadata": {},
   "outputs": [
    {
     "data": {
      "text/plain": [
       "0"
      ]
     },
     "execution_count": 227,
     "metadata": {},
     "output_type": "execute_result"
    }
   ],
   "source": [
    "duplicates = df.duplicated().sum()\n",
    "duplicates"
   ]
  },
  {
   "cell_type": "markdown",
   "id": "bfd7ae40-230f-4caa-800b-be8b602c5fc9",
   "metadata": {},
   "source": [
    "### NAs"
   ]
  },
  {
   "cell_type": "code",
   "execution_count": 230,
   "id": "fd714fbc-5a75-4dcc-9618-f5e3dbb10ae5",
   "metadata": {},
   "outputs": [
    {
     "data": {
      "text/plain": [
       "CLIENTNUM                 0\n",
       "Attrition_Flag            0\n",
       "Customer_Age              0\n",
       "Gender                    0\n",
       "Dependent_count           0\n",
       "Education_Level           0\n",
       "Marital_Status            0\n",
       "Income_Category           0\n",
       "Card_Category             0\n",
       "Month_with_bank           0\n",
       "No_of_product             0\n",
       "Months_Inactive_12_mon    0\n",
       "Credit_Limit              0\n",
       "Total_Revolving_Bal       0\n",
       "Total_Trans_Amt           0\n",
       "Total_Trans_Count         0\n",
       "Avg_Utilization_Ratio     0\n",
       "dtype: int64"
      ]
     },
     "execution_count": 230,
     "metadata": {},
     "output_type": "execute_result"
    }
   ],
   "source": [
    "na_values = df.isna().sum()\n",
    "na_values"
   ]
  },
  {
   "cell_type": "markdown",
   "id": "12843da1-8493-4ccd-85a3-c3e3efe202ad",
   "metadata": {},
   "source": [
    "### Categorical variables"
   ]
  },
  {
   "cell_type": "code",
   "execution_count": 233,
   "id": "f8adfa87-36c2-448f-ab8c-fc2aa9684502",
   "metadata": {},
   "outputs": [
    {
     "name": "stdout",
     "output_type": "stream",
     "text": [
      "['Existing Customer' 'Attrited Customer']\n",
      "['M' 'F']\n",
      "['High School' 'Graduate' 'Uneducated' 'Unknown' 'College' 'Post-Graduate'\n",
      " 'Doctorate']\n",
      "['Married' 'Single' 'Unknown' 'Divorced']\n",
      "['60 - 80' 'Less than 40' '80 - 120' '40 - 60' '120 +' 'Unknown']\n",
      "['Blue' 'Gold' 'Silver' 'Platinum']\n"
     ]
    }
   ],
   "source": [
    "categorical = ['Attrition_Flag', 'Gender', 'Education_Level', 'Marital_Status', 'Income_Category', 'Card_Category']\n",
    "for col in categorical:\n",
    "    print(df[col].unique())\n",
    "\n",
    "for category in categorical:\n",
    "    df[category] = df[category].astype('category')"
   ]
  },
  {
   "cell_type": "markdown",
   "id": "25af04d6-e9d7-4e1f-a784-07c8537c4459",
   "metadata": {},
   "source": [
    "### Numerical factors"
   ]
  },
  {
   "cell_type": "code",
   "execution_count": 236,
   "id": "5c33cad3-d87e-4e60-a8aa-d9f8804a9c12",
   "metadata": {},
   "outputs": [
    {
     "data": {
      "text/plain": [
       "CLIENTNUM                    int64\n",
       "Attrition_Flag            category\n",
       "Customer_Age                 int64\n",
       "Gender                    category\n",
       "Dependent_count              int64\n",
       "Education_Level           category\n",
       "Marital_Status            category\n",
       "Income_Category           category\n",
       "Card_Category             category\n",
       "Month_with_bank              int64\n",
       "No_of_product                int64\n",
       "Months_Inactive_12_mon       int64\n",
       "Credit_Limit               float64\n",
       "Total_Revolving_Bal          int64\n",
       "Total_Trans_Amt              int64\n",
       "Total_Trans_Count            int64\n",
       "Avg_Utilization_Ratio      float64\n",
       "dtype: object"
      ]
     },
     "execution_count": 236,
     "metadata": {},
     "output_type": "execute_result"
    }
   ],
   "source": [
    "numerical_columns = [\n",
    "    'Customer_Age', 'Dependent_count', 'Month_with_bank', 'No_of_product',\n",
    "    'Months_Inactive_12_mon', 'Credit_Limit', 'Total_Revolving_Bal', 'Total_Trans_Amt', 'Total_Trans_Count',\n",
    "    'Avg_Utilization_Ratio'\n",
    "]\n",
    "\n",
    "df[numerical_columns] = df[numerical_columns].apply(pd.to_numeric, errors='coerce')\n",
    "\n",
    "df.dtypes"
   ]
  },
  {
   "cell_type": "markdown",
   "id": "5e5db2ac-779b-499f-8585-c6c2d9441a55",
   "metadata": {},
   "source": [
    "### Unknowns"
   ]
  },
  {
   "cell_type": "code",
   "execution_count": 239,
   "id": "906d32f0-f277-4bf8-b413-470ca663ef87",
   "metadata": {},
   "outputs": [
    {
     "name": "stdout",
     "output_type": "stream",
     "text": [
      "Percentage of rows with 'Unknown' income: 10.98%\n",
      "Percentage of rows with 'Unknown' education: 15.00%\n",
      "Percentage of rows with 'Unknown' martial status: 7.40%\n",
      "Percentage of rows with 'Unknown' total: 30.08%\n"
     ]
    }
   ],
   "source": [
    "unknown_income_row = df[df['Income_Category'] == 'Unknown'].shape[0]\n",
    "total_row = df.shape[0]\n",
    "unknown_income_percentage = (unknown_income_row / total_row) * 100\n",
    "print(f\"Percentage of rows with 'Unknown' income: {unknown_income_percentage:.2f}%\")\n",
    "\n",
    "#Considering that these rows are less than 15% of the whole dataset, we simply drop it instead of filling it up with cross validation method\n",
    "#This is also to avoid overfitting\n",
    "\n",
    "unknown_education_row = df[df['Education_Level'] == 'Unknown'].shape[0]\n",
    "unknown_education_percentage = (unknown_education_row / total_row) * 100\n",
    "print(f\"Percentage of rows with 'Unknown' education: {unknown_education_percentage:.2f}%\")\n",
    "\n",
    "unknown_martial_status_row = df[df['Marital_Status'] == 'Unknown'].shape[0]\n",
    "unknown_martial_status_percentage = (unknown_martial_status_row / total_row) * 100\n",
    "print(f\"Percentage of rows with 'Unknown' martial status: {unknown_martial_status_percentage:.2f}%\")\n",
    "\n",
    "total_unknow = df[(df['Education_Level'] == 'Unknown') | (df['Marital_Status'] == 'Unknown') | (df['Income_Category'] == 'Unknown')]\n",
    "total_unknown_percentage = (total_unknow.shape[0] / total_row) * 100\n",
    "print(f\"Percentage of rows with 'Unknown' total: {total_unknown_percentage:.2f}%\")\n"
   ]
  },
  {
   "cell_type": "markdown",
   "id": "9b15c388-72b9-41aa-b10d-55263e2745e0",
   "metadata": {},
   "source": [
    "### Downloading the file"
   ]
  },
  {
   "cell_type": "code",
   "execution_count": 242,
   "id": "53431c51-cbf5-46b6-b533-5bbfa480ddfb",
   "metadata": {},
   "outputs": [],
   "source": [
    "df.to_csv('BankChurners_cleaned.csv', index=False)"
   ]
  },
  {
   "cell_type": "code",
   "execution_count": null,
   "id": "391b4695-6f65-4ead-ba76-c6471322dd7c",
   "metadata": {},
   "outputs": [],
   "source": []
  }
 ],
 "metadata": {
  "kernelspec": {
   "display_name": "Python 3 (ipykernel)",
   "language": "python",
   "name": "python3"
  },
  "language_info": {
   "codemirror_mode": {
    "name": "ipython",
    "version": 3
   },
   "file_extension": ".py",
   "mimetype": "text/x-python",
   "name": "python",
   "nbconvert_exporter": "python",
   "pygments_lexer": "ipython3",
   "version": "3.11.5"
  }
 },
 "nbformat": 4,
 "nbformat_minor": 5
}
