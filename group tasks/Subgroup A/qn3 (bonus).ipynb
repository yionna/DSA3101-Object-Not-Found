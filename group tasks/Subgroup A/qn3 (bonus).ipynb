{
 "cells": [
  {
   "cell_type": "code",
   "execution_count": 3,
   "id": "3b0b7ab4-feee-429a-80c9-cf689dd7595e",
   "metadata": {},
   "outputs": [],
   "source": [
    "import pandas as pd\n",
    "import numpy as np\n",
    "from sklearn.cluster import KMeans\n",
    "from sklearn.preprocessing import MinMaxScaler, LabelEncoder\n",
    "import matplotlib.pyplot as plt\n",
    "import seaborn as sns\n",
    "from scipy.stats import norm\n",
    "from sklearn.model_selection import train_test_split\n",
    "from sklearn.preprocessing import StandardScaler\n",
    "from sklearn.ensemble import RandomForestClassifier\n",
    "from sklearn.metrics import accuracy_score, f1_score\n",
    "from sklearn.metrics import roc_auc_score, roc_curve"
   ]
  },
  {
   "cell_type": "code",
   "execution_count": 4,
   "id": "4419f18d-3bbf-4ab7-ad05-2b99e704b39c",
   "metadata": {},
   "outputs": [],
   "source": [
    "original = pd.read_csv(\"../data/original (5).csv\")"
   ]
  },
  {
   "cell_type": "markdown",
   "id": "991a8b1e-9947-4183-98a6-4b42c5880268",
   "metadata": {},
   "source": [
    "# How can we predict and mitigate customer churn using machine learning techniques?"
   ]
  },
  {
   "cell_type": "markdown",
   "id": "acabfa8e-552a-4e5e-86cc-93f529a63198",
   "metadata": {},
   "source": [
    "## Develop a machine learning model to predict the likelihood of customer churn."
   ]
  },
  {
   "cell_type": "code",
   "execution_count": 19,
   "id": "9a82186a-0e71-4cad-8abe-c8c08e61d4fc",
   "metadata": {},
   "outputs": [],
   "source": [
    "original['Churn'] = original['Attrition_Flag'].apply(lambda x: 'No' if x == 'Existing Customer' else 'Yes')\n",
    "ori = original.copy()\n",
    "ori = original.drop(columns = ['Attrition_Flag'])"
   ]
  },
  {
   "cell_type": "code",
   "execution_count": 23,
   "id": "c4a03c7b-55bc-4148-916e-f85a481efe95",
   "metadata": {},
   "outputs": [
    {
     "name": "stdout",
     "output_type": "stream",
     "text": [
      "The Churn Rate is quite high at 16.07%.\n"
     ]
    }
   ],
   "source": [
    "total_customers = ori['Churn'].count()\n",
    "churners = ori[ori['Churn'] == 'Yes'].shape[0]\n",
    "churn_rate = churners / total_customers * 100\n",
    "print(f\"The Churn Rate is quite high at {churn_rate:.2f}%.\")"
   ]
  },
  {
   "cell_type": "markdown",
   "id": "bf871db6-195e-4f2a-add7-2c3cc5ef4a28",
   "metadata": {},
   "source": [
    "### Likelihood of Churning for each customer"
   ]
  },
  {
   "cell_type": "markdown",
   "id": "b1f2ea03-de43-4650-bc79-24040da2195c",
   "metadata": {},
   "source": [
    "#### Preparing the data"
   ]
  },
  {
   "cell_type": "code",
   "execution_count": 28,
   "id": "7fb89891-0714-4a89-a7e3-d17256af1d99",
   "metadata": {},
   "outputs": [],
   "source": [
    "np.random.seed(10)\n",
    "\n",
    "# encoding 'Income_Category', 'Product_Usage', 'Cluster_Labels' and 'Churn' to numerical formats\n",
    "encoders = {}\n",
    "for c in ['Gender', 'Income_Category', 'Education_Level', 'Marital_Status', 'Product_Usage', 'Card_Category'\n",
    "          , 'Cluster_Labels', 'Churn']:\n",
    "    le = LabelEncoder()\n",
    "    ori[c] = le.fit_transform(ori[c])\n",
    "    encoders[c] = le\n",
    "\n",
    "# splitting the data into training and test\n",
    "## training data size: 80%; test data size: 20%\n",
    "X = ori.drop(columns = ['Churn'])\n",
    "y = ori['Churn']\n",
    "X_train, X_test, y_train, y_test = train_test_split(X, y, test_size = 0.3, random_state = 1)"
   ]
  },
  {
   "cell_type": "markdown",
   "id": "8402e9aa-3032-47ff-b75f-b9d39051a0e4",
   "metadata": {},
   "source": [
    "#### Random Forest Classifier\n",
    "\n",
    "To add Churn_Probability to the data."
   ]
  },
  {
   "cell_type": "code",
   "execution_count": 31,
   "id": "81bec2ca-ae30-4e87-b055-f6561b43f58f",
   "metadata": {},
   "outputs": [],
   "source": [
    "model = RandomForestClassifier(random_state = 1)\n",
    "model.fit(X_train, y_train)\n",
    "y_pred = model.predict(X_test)\n",
    "churn_probabilities = model.predict_proba(X)[:, 1]\n",
    "\n",
    "# add likelihood of a customer churning into the dataset\n",
    "original['Churn_Probability'] = churn_probabilities"
   ]
  },
  {
   "cell_type": "markdown",
   "id": "67841851-ad40-4af7-8200-6d3350169f25",
   "metadata": {},
   "source": [
    "#### Testing viability\n",
    "\n",
    "##### Accuracy and F1 scores"
   ]
  },
  {
   "cell_type": "code",
   "execution_count": 36,
   "id": "250ba6b0-3f4f-4ef7-b8c8-658a109040af",
   "metadata": {},
   "outputs": [
    {
     "name": "stdout",
     "output_type": "stream",
     "text": [
      "Accuracy: 0.9427\n",
      "F1 score: 0.8041\n"
     ]
    }
   ],
   "source": [
    "accuracy = accuracy_score(y_test, y_pred)\n",
    "f1 = f1_score(y_test, y_pred)\n",
    "\n",
    "print(f\"Accuracy: {accuracy:.4f}\")\n",
    "print(f\"F1 score: {f1:.4f}\")"
   ]
  },
  {
   "cell_type": "markdown",
   "id": "4f932c83-dc85-4217-b23f-7670a58e414d",
   "metadata": {},
   "source": [
    "The accuracy is quite high at 94.27%. This shows that the model accurately classifies the customer into churned or not churned 94.27% of the time. However, this should not be trusted because most people did not churn (83.93%) in the data.\n",
    "\n",
    "The F1 score is relatively high 80.41%. It is average of precision and recall and both of these contribute equally to the F1 score (Sharma, 2023). The model as a modest ability in predicting true positives (customers who actually churn). "
   ]
  },
  {
   "cell_type": "markdown",
   "id": "cc891470-822d-4b21-8e07-c997c4964f18",
   "metadata": {},
   "source": [
    "##### AUC - ROC "
   ]
  },
  {
   "cell_type": "code",
   "execution_count": 40,
   "id": "7ac1dfe3-16a6-4d9a-9ffc-4d6254fac13e",
   "metadata": {},
   "outputs": [
    {
     "name": "stdout",
     "output_type": "stream",
     "text": [
      "AUC-ROC score: 0.9727\n"
     ]
    },
    {
     "data": {
      "image/png": "[encoded data removed]",
      "text/plain": [
       "<Figure size 640x480 with 1 Axes>"
      ]
     },
     "metadata": {},
     "output_type": "display_data"
    }
   ],
   "source": [
    "y_prob = model.predict_proba(X_test)[:, 1]\n",
    "auc = roc_auc_score(y_test, y_prob)\n",
    "print(f\"AUC-ROC score: {auc:.4f}\")\n",
    "\n",
    "# plotting the AUC-ROC\n",
    "false_pos_r, true_pos_r, thresholds = roc_curve(y_test, y_prob)\n",
    "plt.plot(false_pos_r, true_pos_r)\n",
    "plt.plot([0, 1], [0, 1])\n",
    "plt.xlabel('False Positive Rate')\n",
    "plt.ylabel('True Positive Rate')\n",
    "plt.show()"
   ]
  },
  {
   "cell_type": "markdown",
   "id": "d9bf17c4-eba6-40f0-98b9-72ac3ff60ad0",
   "metadata": {},
   "source": [
    "The AUC-ROC score is high at 97.27%. The model has significant in predicting the likelihood of a customer churning. The model correctly classifies with a probability of 97.27%."
   ]
  },
  {
   "cell_type": "code",
   "execution_count": null,
   "id": "7fd76743-c18d-4ca7-8a45-286ae8c9a0a9",
   "metadata": {},
   "outputs": [],
   "source": []
  }
 ],
 "metadata": {
  "kernelspec": {
   "display_name": "Python 3 (ipykernel)",
   "language": "python",
   "name": "python3"
  },
  "language_info": {
   "codemirror_mode": {
    "name": "ipython",
    "version": 3
   },
   "file_extension": ".py",
   "mimetype": "text/x-python",
   "name": "python",
   "nbconvert_exporter": "python",
   "pygments_lexer": "ipython3",
   "version": "3.11.5"
  }
 },
 "nbformat": 4,
 "nbformat_minor": 5
}
